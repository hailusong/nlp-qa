{
  "nbformat": 4,
  "nbformat_minor": 0,
  "metadata": {
    "colab": {
      "name": "nlp-qa-albert-pretrained-captum.ipynb",
      "provenance": [],
      "collapsed_sections": [],
      "authorship_tag": "ABX9TyPWvy0L4CIGTjkFhoNl2pp9",
      "include_colab_link": true
    },
    "kernelspec": {
      "name": "python3",
      "display_name": "Python 3"
    },
    "accelerator": "GPU",
    "widgets": {
      "application/vnd.jupyter.widget-state+json": {
        "ab229cc676874c90bf046fb94fd3fa60": {
          "model_module": "@jupyter-widgets/controls",
          "model_name": "HBoxModel",
          "state": {
            "_view_name": "HBoxView",
            "_dom_classes": [],
            "_model_name": "HBoxModel",
            "_view_module": "@jupyter-widgets/controls",
            "_model_module_version": "1.5.0",
            "_view_count": null,
            "_view_module_version": "1.5.0",
            "box_style": "",
            "layout": "IPY_MODEL_934492d3ee1b46c78f7fd70d3c0cbfe2",
            "_model_module": "@jupyter-widgets/controls",
            "children": [
              "IPY_MODEL_a3b3b3cefc794794a29b2a3192290595",
              "IPY_MODEL_a3eda638ed1849419a887a4ddcd1381c"
            ]
          }
        },
        "934492d3ee1b46c78f7fd70d3c0cbfe2": {
          "model_module": "@jupyter-widgets/base",
          "model_name": "LayoutModel",
          "state": {
            "_view_name": "LayoutView",
            "grid_template_rows": null,
            "right": null,
            "justify_content": null,
            "_view_module": "@jupyter-widgets/base",
            "overflow": null,
            "_model_module_version": "1.2.0",
            "_view_count": null,
            "flex_flow": null,
            "width": null,
            "min_width": null,
            "border": null,
            "align_items": null,
            "bottom": null,
            "_model_module": "@jupyter-widgets/base",
            "top": null,
            "grid_column": null,
            "overflow_y": null,
            "overflow_x": null,
            "grid_auto_flow": null,
            "grid_area": null,
            "grid_template_columns": null,
            "flex": null,
            "_model_name": "LayoutModel",
            "justify_items": null,
            "grid_row": null,
            "max_height": null,
            "align_content": null,
            "visibility": null,
            "align_self": null,
            "height": null,
            "min_height": null,
            "padding": null,
            "grid_auto_rows": null,
            "grid_gap": null,
            "max_width": null,
            "order": null,
            "_view_module_version": "1.2.0",
            "grid_template_areas": null,
            "object_position": null,
            "object_fit": null,
            "grid_auto_columns": null,
            "margin": null,
            "display": null,
            "left": null
          }
        },
        "a3b3b3cefc794794a29b2a3192290595": {
          "model_module": "@jupyter-widgets/controls",
          "model_name": "FloatProgressModel",
          "state": {
            "_view_name": "ProgressView",
            "style": "IPY_MODEL_83143c218726468d9f5fcb9ed536f4bb",
            "_dom_classes": [],
            "description": "Downloading: 100%",
            "_model_name": "FloatProgressModel",
            "bar_style": "success",
            "max": 717,
            "_view_module": "@jupyter-widgets/controls",
            "_model_module_version": "1.5.0",
            "value": 717,
            "_view_count": null,
            "_view_module_version": "1.5.0",
            "orientation": "horizontal",
            "min": 0,
            "description_tooltip": null,
            "_model_module": "@jupyter-widgets/controls",
            "layout": "IPY_MODEL_3908b8c214fa47e2b32fa12909f88f5f"
          }
        },
        "a3eda638ed1849419a887a4ddcd1381c": {
          "model_module": "@jupyter-widgets/controls",
          "model_name": "HTMLModel",
          "state": {
            "_view_name": "HTMLView",
            "style": "IPY_MODEL_3e0d7c19ae374c5fae4a8aa99b52e1e9",
            "_dom_classes": [],
            "description": "",
            "_model_name": "HTMLModel",
            "placeholder": "​",
            "_view_module": "@jupyter-widgets/controls",
            "_model_module_version": "1.5.0",
            "value": " 717/717 [00:00&lt;00:00, 782B/s]",
            "_view_count": null,
            "_view_module_version": "1.5.0",
            "description_tooltip": null,
            "_model_module": "@jupyter-widgets/controls",
            "layout": "IPY_MODEL_8f24c5651fb44e48b65a828593744690"
          }
        },
        "83143c218726468d9f5fcb9ed536f4bb": {
          "model_module": "@jupyter-widgets/controls",
          "model_name": "ProgressStyleModel",
          "state": {
            "_view_name": "StyleView",
            "_model_name": "ProgressStyleModel",
            "description_width": "initial",
            "_view_module": "@jupyter-widgets/base",
            "_model_module_version": "1.5.0",
            "_view_count": null,
            "_view_module_version": "1.2.0",
            "bar_color": null,
            "_model_module": "@jupyter-widgets/controls"
          }
        },
        "3908b8c214fa47e2b32fa12909f88f5f": {
          "model_module": "@jupyter-widgets/base",
          "model_name": "LayoutModel",
          "state": {
            "_view_name": "LayoutView",
            "grid_template_rows": null,
            "right": null,
            "justify_content": null,
            "_view_module": "@jupyter-widgets/base",
            "overflow": null,
            "_model_module_version": "1.2.0",
            "_view_count": null,
            "flex_flow": null,
            "width": null,
            "min_width": null,
            "border": null,
            "align_items": null,
            "bottom": null,
            "_model_module": "@jupyter-widgets/base",
            "top": null,
            "grid_column": null,
            "overflow_y": null,
            "overflow_x": null,
            "grid_auto_flow": null,
            "grid_area": null,
            "grid_template_columns": null,
            "flex": null,
            "_model_name": "LayoutModel",
            "justify_items": null,
            "grid_row": null,
            "max_height": null,
            "align_content": null,
            "visibility": null,
            "align_self": null,
            "height": null,
            "min_height": null,
            "padding": null,
            "grid_auto_rows": null,
            "grid_gap": null,
            "max_width": null,
            "order": null,
            "_view_module_version": "1.2.0",
            "grid_template_areas": null,
            "object_position": null,
            "object_fit": null,
            "grid_auto_columns": null,
            "margin": null,
            "display": null,
            "left": null
          }
        },
        "3e0d7c19ae374c5fae4a8aa99b52e1e9": {
          "model_module": "@jupyter-widgets/controls",
          "model_name": "DescriptionStyleModel",
          "state": {
            "_view_name": "StyleView",
            "_model_name": "DescriptionStyleModel",
            "description_width": "",
            "_view_module": "@jupyter-widgets/base",
            "_model_module_version": "1.5.0",
            "_view_count": null,
            "_view_module_version": "1.2.0",
            "_model_module": "@jupyter-widgets/controls"
          }
        },
        "8f24c5651fb44e48b65a828593744690": {
          "model_module": "@jupyter-widgets/base",
          "model_name": "LayoutModel",
          "state": {
            "_view_name": "LayoutView",
            "grid_template_rows": null,
            "right": null,
            "justify_content": null,
            "_view_module": "@jupyter-widgets/base",
            "overflow": null,
            "_model_module_version": "1.2.0",
            "_view_count": null,
            "flex_flow": null,
            "width": null,
            "min_width": null,
            "border": null,
            "align_items": null,
            "bottom": null,
            "_model_module": "@jupyter-widgets/base",
            "top": null,
            "grid_column": null,
            "overflow_y": null,
            "overflow_x": null,
            "grid_auto_flow": null,
            "grid_area": null,
            "grid_template_columns": null,
            "flex": null,
            "_model_name": "LayoutModel",
            "justify_items": null,
            "grid_row": null,
            "max_height": null,
            "align_content": null,
            "visibility": null,
            "align_self": null,
            "height": null,
            "min_height": null,
            "padding": null,
            "grid_auto_rows": null,
            "grid_gap": null,
            "max_width": null,
            "order": null,
            "_view_module_version": "1.2.0",
            "grid_template_areas": null,
            "object_position": null,
            "object_fit": null,
            "grid_auto_columns": null,
            "margin": null,
            "display": null,
            "left": null
          }
        },
        "94b36198adb34bc88312d5effa2129fa": {
          "model_module": "@jupyter-widgets/controls",
          "model_name": "HBoxModel",
          "state": {
            "_view_name": "HBoxView",
            "_dom_classes": [],
            "_model_name": "HBoxModel",
            "_view_module": "@jupyter-widgets/controls",
            "_model_module_version": "1.5.0",
            "_view_count": null,
            "_view_module_version": "1.5.0",
            "box_style": "",
            "layout": "IPY_MODEL_0e45e5b6b9f54576a65097f3acd4360e",
            "_model_module": "@jupyter-widgets/controls",
            "children": [
              "IPY_MODEL_4f13ab44ccf64f7987c2f407f7a448a4",
              "IPY_MODEL_32573d7ed64943b787056598686fc28f"
            ]
          }
        },
        "0e45e5b6b9f54576a65097f3acd4360e": {
          "model_module": "@jupyter-widgets/base",
          "model_name": "LayoutModel",
          "state": {
            "_view_name": "LayoutView",
            "grid_template_rows": null,
            "right": null,
            "justify_content": null,
            "_view_module": "@jupyter-widgets/base",
            "overflow": null,
            "_model_module_version": "1.2.0",
            "_view_count": null,
            "flex_flow": null,
            "width": null,
            "min_width": null,
            "border": null,
            "align_items": null,
            "bottom": null,
            "_model_module": "@jupyter-widgets/base",
            "top": null,
            "grid_column": null,
            "overflow_y": null,
            "overflow_x": null,
            "grid_auto_flow": null,
            "grid_area": null,
            "grid_template_columns": null,
            "flex": null,
            "_model_name": "LayoutModel",
            "justify_items": null,
            "grid_row": null,
            "max_height": null,
            "align_content": null,
            "visibility": null,
            "align_self": null,
            "height": null,
            "min_height": null,
            "padding": null,
            "grid_auto_rows": null,
            "grid_gap": null,
            "max_width": null,
            "order": null,
            "_view_module_version": "1.2.0",
            "grid_template_areas": null,
            "object_position": null,
            "object_fit": null,
            "grid_auto_columns": null,
            "margin": null,
            "display": null,
            "left": null
          }
        },
        "4f13ab44ccf64f7987c2f407f7a448a4": {
          "model_module": "@jupyter-widgets/controls",
          "model_name": "FloatProgressModel",
          "state": {
            "_view_name": "ProgressView",
            "style": "IPY_MODEL_40eab1dcfc414260ab99885b87b62118",
            "_dom_classes": [],
            "description": "Downloading: 100%",
            "_model_name": "FloatProgressModel",
            "bar_style": "success",
            "max": 760289,
            "_view_module": "@jupyter-widgets/controls",
            "_model_module_version": "1.5.0",
            "value": 760289,
            "_view_count": null,
            "_view_module_version": "1.5.0",
            "orientation": "horizontal",
            "min": 0,
            "description_tooltip": null,
            "_model_module": "@jupyter-widgets/controls",
            "layout": "IPY_MODEL_2161e987f4494e84a5881e5ce04d3c1e"
          }
        },
        "32573d7ed64943b787056598686fc28f": {
          "model_module": "@jupyter-widgets/controls",
          "model_name": "HTMLModel",
          "state": {
            "_view_name": "HTMLView",
            "style": "IPY_MODEL_426cf076519f402baab6040843cb97e7",
            "_dom_classes": [],
            "description": "",
            "_model_name": "HTMLModel",
            "placeholder": "​",
            "_view_module": "@jupyter-widgets/controls",
            "_model_module_version": "1.5.0",
            "value": " 760k/760k [00:00&lt;00:00, 1.29MB/s]",
            "_view_count": null,
            "_view_module_version": "1.5.0",
            "description_tooltip": null,
            "_model_module": "@jupyter-widgets/controls",
            "layout": "IPY_MODEL_288e332fe91c4a45943292a2b77ca3e6"
          }
        },
        "40eab1dcfc414260ab99885b87b62118": {
          "model_module": "@jupyter-widgets/controls",
          "model_name": "ProgressStyleModel",
          "state": {
            "_view_name": "StyleView",
            "_model_name": "ProgressStyleModel",
            "description_width": "initial",
            "_view_module": "@jupyter-widgets/base",
            "_model_module_version": "1.5.0",
            "_view_count": null,
            "_view_module_version": "1.2.0",
            "bar_color": null,
            "_model_module": "@jupyter-widgets/controls"
          }
        },
        "2161e987f4494e84a5881e5ce04d3c1e": {
          "model_module": "@jupyter-widgets/base",
          "model_name": "LayoutModel",
          "state": {
            "_view_name": "LayoutView",
            "grid_template_rows": null,
            "right": null,
            "justify_content": null,
            "_view_module": "@jupyter-widgets/base",
            "overflow": null,
            "_model_module_version": "1.2.0",
            "_view_count": null,
            "flex_flow": null,
            "width": null,
            "min_width": null,
            "border": null,
            "align_items": null,
            "bottom": null,
            "_model_module": "@jupyter-widgets/base",
            "top": null,
            "grid_column": null,
            "overflow_y": null,
            "overflow_x": null,
            "grid_auto_flow": null,
            "grid_area": null,
            "grid_template_columns": null,
            "flex": null,
            "_model_name": "LayoutModel",
            "justify_items": null,
            "grid_row": null,
            "max_height": null,
            "align_content": null,
            "visibility": null,
            "align_self": null,
            "height": null,
            "min_height": null,
            "padding": null,
            "grid_auto_rows": null,
            "grid_gap": null,
            "max_width": null,
            "order": null,
            "_view_module_version": "1.2.0",
            "grid_template_areas": null,
            "object_position": null,
            "object_fit": null,
            "grid_auto_columns": null,
            "margin": null,
            "display": null,
            "left": null
          }
        },
        "426cf076519f402baab6040843cb97e7": {
          "model_module": "@jupyter-widgets/controls",
          "model_name": "DescriptionStyleModel",
          "state": {
            "_view_name": "StyleView",
            "_model_name": "DescriptionStyleModel",
            "description_width": "",
            "_view_module": "@jupyter-widgets/base",
            "_model_module_version": "1.5.0",
            "_view_count": null,
            "_view_module_version": "1.2.0",
            "_model_module": "@jupyter-widgets/controls"
          }
        },
        "288e332fe91c4a45943292a2b77ca3e6": {
          "model_module": "@jupyter-widgets/base",
          "model_name": "LayoutModel",
          "state": {
            "_view_name": "LayoutView",
            "grid_template_rows": null,
            "right": null,
            "justify_content": null,
            "_view_module": "@jupyter-widgets/base",
            "overflow": null,
            "_model_module_version": "1.2.0",
            "_view_count": null,
            "flex_flow": null,
            "width": null,
            "min_width": null,
            "border": null,
            "align_items": null,
            "bottom": null,
            "_model_module": "@jupyter-widgets/base",
            "top": null,
            "grid_column": null,
            "overflow_y": null,
            "overflow_x": null,
            "grid_auto_flow": null,
            "grid_area": null,
            "grid_template_columns": null,
            "flex": null,
            "_model_name": "LayoutModel",
            "justify_items": null,
            "grid_row": null,
            "max_height": null,
            "align_content": null,
            "visibility": null,
            "align_self": null,
            "height": null,
            "min_height": null,
            "padding": null,
            "grid_auto_rows": null,
            "grid_gap": null,
            "max_width": null,
            "order": null,
            "_view_module_version": "1.2.0",
            "grid_template_areas": null,
            "object_position": null,
            "object_fit": null,
            "grid_auto_columns": null,
            "margin": null,
            "display": null,
            "left": null
          }
        },
        "934981f626a14d6f958b5ac3447fc9b5": {
          "model_module": "@jupyter-widgets/controls",
          "model_name": "HBoxModel",
          "state": {
            "_view_name": "HBoxView",
            "_dom_classes": [],
            "_model_name": "HBoxModel",
            "_view_module": "@jupyter-widgets/controls",
            "_model_module_version": "1.5.0",
            "_view_count": null,
            "_view_module_version": "1.5.0",
            "box_style": "",
            "layout": "IPY_MODEL_feef88bf83634e3ea0f0248bf410d2e0",
            "_model_module": "@jupyter-widgets/controls",
            "children": [
              "IPY_MODEL_e06c4cc9b0f54e3a9b5c0c779b948f06",
              "IPY_MODEL_eb622745c3264b7194dc84a231fd112d"
            ]
          }
        },
        "feef88bf83634e3ea0f0248bf410d2e0": {
          "model_module": "@jupyter-widgets/base",
          "model_name": "LayoutModel",
          "state": {
            "_view_name": "LayoutView",
            "grid_template_rows": null,
            "right": null,
            "justify_content": null,
            "_view_module": "@jupyter-widgets/base",
            "overflow": null,
            "_model_module_version": "1.2.0",
            "_view_count": null,
            "flex_flow": null,
            "width": null,
            "min_width": null,
            "border": null,
            "align_items": null,
            "bottom": null,
            "_model_module": "@jupyter-widgets/base",
            "top": null,
            "grid_column": null,
            "overflow_y": null,
            "overflow_x": null,
            "grid_auto_flow": null,
            "grid_area": null,
            "grid_template_columns": null,
            "flex": null,
            "_model_name": "LayoutModel",
            "justify_items": null,
            "grid_row": null,
            "max_height": null,
            "align_content": null,
            "visibility": null,
            "align_self": null,
            "height": null,
            "min_height": null,
            "padding": null,
            "grid_auto_rows": null,
            "grid_gap": null,
            "max_width": null,
            "order": null,
            "_view_module_version": "1.2.0",
            "grid_template_areas": null,
            "object_position": null,
            "object_fit": null,
            "grid_auto_columns": null,
            "margin": null,
            "display": null,
            "left": null
          }
        },
        "e06c4cc9b0f54e3a9b5c0c779b948f06": {
          "model_module": "@jupyter-widgets/controls",
          "model_name": "FloatProgressModel",
          "state": {
            "_view_name": "ProgressView",
            "style": "IPY_MODEL_c920126374514f5eaf8b80dd29707652",
            "_dom_classes": [],
            "description": "Downloading: 100%",
            "_model_name": "FloatProgressModel",
            "bar_style": "success",
            "max": 2,
            "_view_module": "@jupyter-widgets/controls",
            "_model_module_version": "1.5.0",
            "value": 2,
            "_view_count": null,
            "_view_module_version": "1.5.0",
            "orientation": "horizontal",
            "min": 0,
            "description_tooltip": null,
            "_model_module": "@jupyter-widgets/controls",
            "layout": "IPY_MODEL_df027ac8084b471e86c7c6c51432c1eb"
          }
        },
        "eb622745c3264b7194dc84a231fd112d": {
          "model_module": "@jupyter-widgets/controls",
          "model_name": "HTMLModel",
          "state": {
            "_view_name": "HTMLView",
            "style": "IPY_MODEL_1487de7ce9244079a340e9a847e455a5",
            "_dom_classes": [],
            "description": "",
            "_model_name": "HTMLModel",
            "placeholder": "​",
            "_view_module": "@jupyter-widgets/controls",
            "_model_module_version": "1.5.0",
            "value": " 2.00/2.00 [00:01&lt;00:00, 1.17B/s]",
            "_view_count": null,
            "_view_module_version": "1.5.0",
            "description_tooltip": null,
            "_model_module": "@jupyter-widgets/controls",
            "layout": "IPY_MODEL_aa1b2a20853a4bd5ad8db8fa940c2e34"
          }
        },
        "c920126374514f5eaf8b80dd29707652": {
          "model_module": "@jupyter-widgets/controls",
          "model_name": "ProgressStyleModel",
          "state": {
            "_view_name": "StyleView",
            "_model_name": "ProgressStyleModel",
            "description_width": "initial",
            "_view_module": "@jupyter-widgets/base",
            "_model_module_version": "1.5.0",
            "_view_count": null,
            "_view_module_version": "1.2.0",
            "bar_color": null,
            "_model_module": "@jupyter-widgets/controls"
          }
        },
        "df027ac8084b471e86c7c6c51432c1eb": {
          "model_module": "@jupyter-widgets/base",
          "model_name": "LayoutModel",
          "state": {
            "_view_name": "LayoutView",
            "grid_template_rows": null,
            "right": null,
            "justify_content": null,
            "_view_module": "@jupyter-widgets/base",
            "overflow": null,
            "_model_module_version": "1.2.0",
            "_view_count": null,
            "flex_flow": null,
            "width": null,
            "min_width": null,
            "border": null,
            "align_items": null,
            "bottom": null,
            "_model_module": "@jupyter-widgets/base",
            "top": null,
            "grid_column": null,
            "overflow_y": null,
            "overflow_x": null,
            "grid_auto_flow": null,
            "grid_area": null,
            "grid_template_columns": null,
            "flex": null,
            "_model_name": "LayoutModel",
            "justify_items": null,
            "grid_row": null,
            "max_height": null,
            "align_content": null,
            "visibility": null,
            "align_self": null,
            "height": null,
            "min_height": null,
            "padding": null,
            "grid_auto_rows": null,
            "grid_gap": null,
            "max_width": null,
            "order": null,
            "_view_module_version": "1.2.0",
            "grid_template_areas": null,
            "object_position": null,
            "object_fit": null,
            "grid_auto_columns": null,
            "margin": null,
            "display": null,
            "left": null
          }
        },
        "1487de7ce9244079a340e9a847e455a5": {
          "model_module": "@jupyter-widgets/controls",
          "model_name": "DescriptionStyleModel",
          "state": {
            "_view_name": "StyleView",
            "_model_name": "DescriptionStyleModel",
            "description_width": "",
            "_view_module": "@jupyter-widgets/base",
            "_model_module_version": "1.5.0",
            "_view_count": null,
            "_view_module_version": "1.2.0",
            "_model_module": "@jupyter-widgets/controls"
          }
        },
        "aa1b2a20853a4bd5ad8db8fa940c2e34": {
          "model_module": "@jupyter-widgets/base",
          "model_name": "LayoutModel",
          "state": {
            "_view_name": "LayoutView",
            "grid_template_rows": null,
            "right": null,
            "justify_content": null,
            "_view_module": "@jupyter-widgets/base",
            "overflow": null,
            "_model_module_version": "1.2.0",
            "_view_count": null,
            "flex_flow": null,
            "width": null,
            "min_width": null,
            "border": null,
            "align_items": null,
            "bottom": null,
            "_model_module": "@jupyter-widgets/base",
            "top": null,
            "grid_column": null,
            "overflow_y": null,
            "overflow_x": null,
            "grid_auto_flow": null,
            "grid_area": null,
            "grid_template_columns": null,
            "flex": null,
            "_model_name": "LayoutModel",
            "justify_items": null,
            "grid_row": null,
            "max_height": null,
            "align_content": null,
            "visibility": null,
            "align_self": null,
            "height": null,
            "min_height": null,
            "padding": null,
            "grid_auto_rows": null,
            "grid_gap": null,
            "max_width": null,
            "order": null,
            "_view_module_version": "1.2.0",
            "grid_template_areas": null,
            "object_position": null,
            "object_fit": null,
            "grid_auto_columns": null,
            "margin": null,
            "display": null,
            "left": null
          }
        },
        "5ae37be114ff4bd68203c416941e7e33": {
          "model_module": "@jupyter-widgets/controls",
          "model_name": "HBoxModel",
          "state": {
            "_view_name": "HBoxView",
            "_dom_classes": [],
            "_model_name": "HBoxModel",
            "_view_module": "@jupyter-widgets/controls",
            "_model_module_version": "1.5.0",
            "_view_count": null,
            "_view_module_version": "1.5.0",
            "box_style": "",
            "layout": "IPY_MODEL_ba2f4f6421574b74bf471b1c73fca0a8",
            "_model_module": "@jupyter-widgets/controls",
            "children": [
              "IPY_MODEL_b88f03e395c94196bcd50d83175abcbc",
              "IPY_MODEL_94eebedbbd014895aaaa9770fbde5e2e"
            ]
          }
        },
        "ba2f4f6421574b74bf471b1c73fca0a8": {
          "model_module": "@jupyter-widgets/base",
          "model_name": "LayoutModel",
          "state": {
            "_view_name": "LayoutView",
            "grid_template_rows": null,
            "right": null,
            "justify_content": null,
            "_view_module": "@jupyter-widgets/base",
            "overflow": null,
            "_model_module_version": "1.2.0",
            "_view_count": null,
            "flex_flow": null,
            "width": null,
            "min_width": null,
            "border": null,
            "align_items": null,
            "bottom": null,
            "_model_module": "@jupyter-widgets/base",
            "top": null,
            "grid_column": null,
            "overflow_y": null,
            "overflow_x": null,
            "grid_auto_flow": null,
            "grid_area": null,
            "grid_template_columns": null,
            "flex": null,
            "_model_name": "LayoutModel",
            "justify_items": null,
            "grid_row": null,
            "max_height": null,
            "align_content": null,
            "visibility": null,
            "align_self": null,
            "height": null,
            "min_height": null,
            "padding": null,
            "grid_auto_rows": null,
            "grid_gap": null,
            "max_width": null,
            "order": null,
            "_view_module_version": "1.2.0",
            "grid_template_areas": null,
            "object_position": null,
            "object_fit": null,
            "grid_auto_columns": null,
            "margin": null,
            "display": null,
            "left": null
          }
        },
        "b88f03e395c94196bcd50d83175abcbc": {
          "model_module": "@jupyter-widgets/controls",
          "model_name": "FloatProgressModel",
          "state": {
            "_view_name": "ProgressView",
            "style": "IPY_MODEL_eb854e45c685463cab29116f33406c36",
            "_dom_classes": [],
            "description": "Downloading: 100%",
            "_model_name": "FloatProgressModel",
            "bar_style": "success",
            "max": 156,
            "_view_module": "@jupyter-widgets/controls",
            "_model_module_version": "1.5.0",
            "value": 156,
            "_view_count": null,
            "_view_module_version": "1.5.0",
            "orientation": "horizontal",
            "min": 0,
            "description_tooltip": null,
            "_model_module": "@jupyter-widgets/controls",
            "layout": "IPY_MODEL_e9b5635d3122406880bcac17df44355c"
          }
        },
        "94eebedbbd014895aaaa9770fbde5e2e": {
          "model_module": "@jupyter-widgets/controls",
          "model_name": "HTMLModel",
          "state": {
            "_view_name": "HTMLView",
            "style": "IPY_MODEL_189641f49b8242b58a62645646edcb3d",
            "_dom_classes": [],
            "description": "",
            "_model_name": "HTMLModel",
            "placeholder": "​",
            "_view_module": "@jupyter-widgets/controls",
            "_model_module_version": "1.5.0",
            "value": " 156/156 [00:00&lt;00:00, 189B/s]",
            "_view_count": null,
            "_view_module_version": "1.5.0",
            "description_tooltip": null,
            "_model_module": "@jupyter-widgets/controls",
            "layout": "IPY_MODEL_e5c88aadd8b04f009111a36662cb52a0"
          }
        },
        "eb854e45c685463cab29116f33406c36": {
          "model_module": "@jupyter-widgets/controls",
          "model_name": "ProgressStyleModel",
          "state": {
            "_view_name": "StyleView",
            "_model_name": "ProgressStyleModel",
            "description_width": "initial",
            "_view_module": "@jupyter-widgets/base",
            "_model_module_version": "1.5.0",
            "_view_count": null,
            "_view_module_version": "1.2.0",
            "bar_color": null,
            "_model_module": "@jupyter-widgets/controls"
          }
        },
        "e9b5635d3122406880bcac17df44355c": {
          "model_module": "@jupyter-widgets/base",
          "model_name": "LayoutModel",
          "state": {
            "_view_name": "LayoutView",
            "grid_template_rows": null,
            "right": null,
            "justify_content": null,
            "_view_module": "@jupyter-widgets/base",
            "overflow": null,
            "_model_module_version": "1.2.0",
            "_view_count": null,
            "flex_flow": null,
            "width": null,
            "min_width": null,
            "border": null,
            "align_items": null,
            "bottom": null,
            "_model_module": "@jupyter-widgets/base",
            "top": null,
            "grid_column": null,
            "overflow_y": null,
            "overflow_x": null,
            "grid_auto_flow": null,
            "grid_area": null,
            "grid_template_columns": null,
            "flex": null,
            "_model_name": "LayoutModel",
            "justify_items": null,
            "grid_row": null,
            "max_height": null,
            "align_content": null,
            "visibility": null,
            "align_self": null,
            "height": null,
            "min_height": null,
            "padding": null,
            "grid_auto_rows": null,
            "grid_gap": null,
            "max_width": null,
            "order": null,
            "_view_module_version": "1.2.0",
            "grid_template_areas": null,
            "object_position": null,
            "object_fit": null,
            "grid_auto_columns": null,
            "margin": null,
            "display": null,
            "left": null
          }
        },
        "189641f49b8242b58a62645646edcb3d": {
          "model_module": "@jupyter-widgets/controls",
          "model_name": "DescriptionStyleModel",
          "state": {
            "_view_name": "StyleView",
            "_model_name": "DescriptionStyleModel",
            "description_width": "",
            "_view_module": "@jupyter-widgets/base",
            "_model_module_version": "1.5.0",
            "_view_count": null,
            "_view_module_version": "1.2.0",
            "_model_module": "@jupyter-widgets/controls"
          }
        },
        "e5c88aadd8b04f009111a36662cb52a0": {
          "model_module": "@jupyter-widgets/base",
          "model_name": "LayoutModel",
          "state": {
            "_view_name": "LayoutView",
            "grid_template_rows": null,
            "right": null,
            "justify_content": null,
            "_view_module": "@jupyter-widgets/base",
            "overflow": null,
            "_model_module_version": "1.2.0",
            "_view_count": null,
            "flex_flow": null,
            "width": null,
            "min_width": null,
            "border": null,
            "align_items": null,
            "bottom": null,
            "_model_module": "@jupyter-widgets/base",
            "top": null,
            "grid_column": null,
            "overflow_y": null,
            "overflow_x": null,
            "grid_auto_flow": null,
            "grid_area": null,
            "grid_template_columns": null,
            "flex": null,
            "_model_name": "LayoutModel",
            "justify_items": null,
            "grid_row": null,
            "max_height": null,
            "align_content": null,
            "visibility": null,
            "align_self": null,
            "height": null,
            "min_height": null,
            "padding": null,
            "grid_auto_rows": null,
            "grid_gap": null,
            "max_width": null,
            "order": null,
            "_view_module_version": "1.2.0",
            "grid_template_areas": null,
            "object_position": null,
            "object_fit": null,
            "grid_auto_columns": null,
            "margin": null,
            "display": null,
            "left": null
          }
        },
        "7b3fd05d7c6f4d4ca68d8d6e08f55a2d": {
          "model_module": "@jupyter-widgets/controls",
          "model_name": "HBoxModel",
          "state": {
            "_view_name": "HBoxView",
            "_dom_classes": [],
            "_model_name": "HBoxModel",
            "_view_module": "@jupyter-widgets/controls",
            "_model_module_version": "1.5.0",
            "_view_count": null,
            "_view_module_version": "1.5.0",
            "box_style": "",
            "layout": "IPY_MODEL_1735b497db5944b2b7108d74df717957",
            "_model_module": "@jupyter-widgets/controls",
            "children": [
              "IPY_MODEL_d3eda58be4064334a7e6724c66a63695",
              "IPY_MODEL_6e75be91391447b287a6110f99f443c6"
            ]
          }
        },
        "1735b497db5944b2b7108d74df717957": {
          "model_module": "@jupyter-widgets/base",
          "model_name": "LayoutModel",
          "state": {
            "_view_name": "LayoutView",
            "grid_template_rows": null,
            "right": null,
            "justify_content": null,
            "_view_module": "@jupyter-widgets/base",
            "overflow": null,
            "_model_module_version": "1.2.0",
            "_view_count": null,
            "flex_flow": null,
            "width": null,
            "min_width": null,
            "border": null,
            "align_items": null,
            "bottom": null,
            "_model_module": "@jupyter-widgets/base",
            "top": null,
            "grid_column": null,
            "overflow_y": null,
            "overflow_x": null,
            "grid_auto_flow": null,
            "grid_area": null,
            "grid_template_columns": null,
            "flex": null,
            "_model_name": "LayoutModel",
            "justify_items": null,
            "grid_row": null,
            "max_height": null,
            "align_content": null,
            "visibility": null,
            "align_self": null,
            "height": null,
            "min_height": null,
            "padding": null,
            "grid_auto_rows": null,
            "grid_gap": null,
            "max_width": null,
            "order": null,
            "_view_module_version": "1.2.0",
            "grid_template_areas": null,
            "object_position": null,
            "object_fit": null,
            "grid_auto_columns": null,
            "margin": null,
            "display": null,
            "left": null
          }
        },
        "d3eda58be4064334a7e6724c66a63695": {
          "model_module": "@jupyter-widgets/controls",
          "model_name": "FloatProgressModel",
          "state": {
            "_view_name": "ProgressView",
            "style": "IPY_MODEL_917551506b2d419c87c2c9229e55c5f6",
            "_dom_classes": [],
            "description": "Downloading: 100%",
            "_model_name": "FloatProgressModel",
            "bar_style": "success",
            "max": 58,
            "_view_module": "@jupyter-widgets/controls",
            "_model_module_version": "1.5.0",
            "value": 58,
            "_view_count": null,
            "_view_module_version": "1.5.0",
            "orientation": "horizontal",
            "min": 0,
            "description_tooltip": null,
            "_model_module": "@jupyter-widgets/controls",
            "layout": "IPY_MODEL_e6541123f105482ca03d0fe972837a76"
          }
        },
        "6e75be91391447b287a6110f99f443c6": {
          "model_module": "@jupyter-widgets/controls",
          "model_name": "HTMLModel",
          "state": {
            "_view_name": "HTMLView",
            "style": "IPY_MODEL_cf6c54e8100d4c3e9867d847073eb07a",
            "_dom_classes": [],
            "description": "",
            "_model_name": "HTMLModel",
            "placeholder": "​",
            "_view_module": "@jupyter-widgets/controls",
            "_model_module_version": "1.5.0",
            "value": " 58.0/58.0 [18:11&lt;00:00, 18.8s/B]",
            "_view_count": null,
            "_view_module_version": "1.5.0",
            "description_tooltip": null,
            "_model_module": "@jupyter-widgets/controls",
            "layout": "IPY_MODEL_37e79f27ff1b404dbf714f231f5bcc4d"
          }
        },
        "917551506b2d419c87c2c9229e55c5f6": {
          "model_module": "@jupyter-widgets/controls",
          "model_name": "ProgressStyleModel",
          "state": {
            "_view_name": "StyleView",
            "_model_name": "ProgressStyleModel",
            "description_width": "initial",
            "_view_module": "@jupyter-widgets/base",
            "_model_module_version": "1.5.0",
            "_view_count": null,
            "_view_module_version": "1.2.0",
            "bar_color": null,
            "_model_module": "@jupyter-widgets/controls"
          }
        },
        "e6541123f105482ca03d0fe972837a76": {
          "model_module": "@jupyter-widgets/base",
          "model_name": "LayoutModel",
          "state": {
            "_view_name": "LayoutView",
            "grid_template_rows": null,
            "right": null,
            "justify_content": null,
            "_view_module": "@jupyter-widgets/base",
            "overflow": null,
            "_model_module_version": "1.2.0",
            "_view_count": null,
            "flex_flow": null,
            "width": null,
            "min_width": null,
            "border": null,
            "align_items": null,
            "bottom": null,
            "_model_module": "@jupyter-widgets/base",
            "top": null,
            "grid_column": null,
            "overflow_y": null,
            "overflow_x": null,
            "grid_auto_flow": null,
            "grid_area": null,
            "grid_template_columns": null,
            "flex": null,
            "_model_name": "LayoutModel",
            "justify_items": null,
            "grid_row": null,
            "max_height": null,
            "align_content": null,
            "visibility": null,
            "align_self": null,
            "height": null,
            "min_height": null,
            "padding": null,
            "grid_auto_rows": null,
            "grid_gap": null,
            "max_width": null,
            "order": null,
            "_view_module_version": "1.2.0",
            "grid_template_areas": null,
            "object_position": null,
            "object_fit": null,
            "grid_auto_columns": null,
            "margin": null,
            "display": null,
            "left": null
          }
        },
        "cf6c54e8100d4c3e9867d847073eb07a": {
          "model_module": "@jupyter-widgets/controls",
          "model_name": "DescriptionStyleModel",
          "state": {
            "_view_name": "StyleView",
            "_model_name": "DescriptionStyleModel",
            "description_width": "",
            "_view_module": "@jupyter-widgets/base",
            "_model_module_version": "1.5.0",
            "_view_count": null,
            "_view_module_version": "1.2.0",
            "_model_module": "@jupyter-widgets/controls"
          }
        },
        "37e79f27ff1b404dbf714f231f5bcc4d": {
          "model_module": "@jupyter-widgets/base",
          "model_name": "LayoutModel",
          "state": {
            "_view_name": "LayoutView",
            "grid_template_rows": null,
            "right": null,
            "justify_content": null,
            "_view_module": "@jupyter-widgets/base",
            "overflow": null,
            "_model_module_version": "1.2.0",
            "_view_count": null,
            "flex_flow": null,
            "width": null,
            "min_width": null,
            "border": null,
            "align_items": null,
            "bottom": null,
            "_model_module": "@jupyter-widgets/base",
            "top": null,
            "grid_column": null,
            "overflow_y": null,
            "overflow_x": null,
            "grid_auto_flow": null,
            "grid_area": null,
            "grid_template_columns": null,
            "flex": null,
            "_model_name": "LayoutModel",
            "justify_items": null,
            "grid_row": null,
            "max_height": null,
            "align_content": null,
            "visibility": null,
            "align_self": null,
            "height": null,
            "min_height": null,
            "padding": null,
            "grid_auto_rows": null,
            "grid_gap": null,
            "max_width": null,
            "order": null,
            "_view_module_version": "1.2.0",
            "grid_template_areas": null,
            "object_position": null,
            "object_fit": null,
            "grid_auto_columns": null,
            "margin": null,
            "display": null,
            "left": null
          }
        },
        "9268dfaefeab42fe8de3a781639d11e9": {
          "model_module": "@jupyter-widgets/controls",
          "model_name": "HBoxModel",
          "state": {
            "_view_name": "HBoxView",
            "_dom_classes": [],
            "_model_name": "HBoxModel",
            "_view_module": "@jupyter-widgets/controls",
            "_model_module_version": "1.5.0",
            "_view_count": null,
            "_view_module_version": "1.5.0",
            "box_style": "",
            "layout": "IPY_MODEL_8a84d2c89fbc4123af08b1cb50eb7d8d",
            "_model_module": "@jupyter-widgets/controls",
            "children": [
              "IPY_MODEL_493d9789b7474c7e9040b20757b7e5b5",
              "IPY_MODEL_b10ef6c387204924be63238a754ff683"
            ]
          }
        },
        "8a84d2c89fbc4123af08b1cb50eb7d8d": {
          "model_module": "@jupyter-widgets/base",
          "model_name": "LayoutModel",
          "state": {
            "_view_name": "LayoutView",
            "grid_template_rows": null,
            "right": null,
            "justify_content": null,
            "_view_module": "@jupyter-widgets/base",
            "overflow": null,
            "_model_module_version": "1.2.0",
            "_view_count": null,
            "flex_flow": null,
            "width": null,
            "min_width": null,
            "border": null,
            "align_items": null,
            "bottom": null,
            "_model_module": "@jupyter-widgets/base",
            "top": null,
            "grid_column": null,
            "overflow_y": null,
            "overflow_x": null,
            "grid_auto_flow": null,
            "grid_area": null,
            "grid_template_columns": null,
            "flex": null,
            "_model_name": "LayoutModel",
            "justify_items": null,
            "grid_row": null,
            "max_height": null,
            "align_content": null,
            "visibility": null,
            "align_self": null,
            "height": null,
            "min_height": null,
            "padding": null,
            "grid_auto_rows": null,
            "grid_gap": null,
            "max_width": null,
            "order": null,
            "_view_module_version": "1.2.0",
            "grid_template_areas": null,
            "object_position": null,
            "object_fit": null,
            "grid_auto_columns": null,
            "margin": null,
            "display": null,
            "left": null
          }
        },
        "493d9789b7474c7e9040b20757b7e5b5": {
          "model_module": "@jupyter-widgets/controls",
          "model_name": "FloatProgressModel",
          "state": {
            "_view_name": "ProgressView",
            "style": "IPY_MODEL_98f2e421cbfe4d18836ef1371876dec4",
            "_dom_classes": [],
            "description": "Downloading: 100%",
            "_model_name": "FloatProgressModel",
            "bar_style": "success",
            "max": 234922444,
            "_view_module": "@jupyter-widgets/controls",
            "_model_module_version": "1.5.0",
            "value": 234922444,
            "_view_count": null,
            "_view_module_version": "1.5.0",
            "orientation": "horizontal",
            "min": 0,
            "description_tooltip": null,
            "_model_module": "@jupyter-widgets/controls",
            "layout": "IPY_MODEL_821c569fb7574f0a9b7cfd285ba5c999"
          }
        },
        "b10ef6c387204924be63238a754ff683": {
          "model_module": "@jupyter-widgets/controls",
          "model_name": "HTMLModel",
          "state": {
            "_view_name": "HTMLView",
            "style": "IPY_MODEL_e3353752684b41c6bff7078f3f4365b6",
            "_dom_classes": [],
            "description": "",
            "_model_name": "HTMLModel",
            "placeholder": "​",
            "_view_module": "@jupyter-widgets/controls",
            "_model_module_version": "1.5.0",
            "value": " 235M/235M [00:07&lt;00:00, 32.0MB/s]",
            "_view_count": null,
            "_view_module_version": "1.5.0",
            "description_tooltip": null,
            "_model_module": "@jupyter-widgets/controls",
            "layout": "IPY_MODEL_f7b1989e164c4c00b79d4e10cff35cd4"
          }
        },
        "98f2e421cbfe4d18836ef1371876dec4": {
          "model_module": "@jupyter-widgets/controls",
          "model_name": "ProgressStyleModel",
          "state": {
            "_view_name": "StyleView",
            "_model_name": "ProgressStyleModel",
            "description_width": "initial",
            "_view_module": "@jupyter-widgets/base",
            "_model_module_version": "1.5.0",
            "_view_count": null,
            "_view_module_version": "1.2.0",
            "bar_color": null,
            "_model_module": "@jupyter-widgets/controls"
          }
        },
        "821c569fb7574f0a9b7cfd285ba5c999": {
          "model_module": "@jupyter-widgets/base",
          "model_name": "LayoutModel",
          "state": {
            "_view_name": "LayoutView",
            "grid_template_rows": null,
            "right": null,
            "justify_content": null,
            "_view_module": "@jupyter-widgets/base",
            "overflow": null,
            "_model_module_version": "1.2.0",
            "_view_count": null,
            "flex_flow": null,
            "width": null,
            "min_width": null,
            "border": null,
            "align_items": null,
            "bottom": null,
            "_model_module": "@jupyter-widgets/base",
            "top": null,
            "grid_column": null,
            "overflow_y": null,
            "overflow_x": null,
            "grid_auto_flow": null,
            "grid_area": null,
            "grid_template_columns": null,
            "flex": null,
            "_model_name": "LayoutModel",
            "justify_items": null,
            "grid_row": null,
            "max_height": null,
            "align_content": null,
            "visibility": null,
            "align_self": null,
            "height": null,
            "min_height": null,
            "padding": null,
            "grid_auto_rows": null,
            "grid_gap": null,
            "max_width": null,
            "order": null,
            "_view_module_version": "1.2.0",
            "grid_template_areas": null,
            "object_position": null,
            "object_fit": null,
            "grid_auto_columns": null,
            "margin": null,
            "display": null,
            "left": null
          }
        },
        "e3353752684b41c6bff7078f3f4365b6": {
          "model_module": "@jupyter-widgets/controls",
          "model_name": "DescriptionStyleModel",
          "state": {
            "_view_name": "StyleView",
            "_model_name": "DescriptionStyleModel",
            "description_width": "",
            "_view_module": "@jupyter-widgets/base",
            "_model_module_version": "1.5.0",
            "_view_count": null,
            "_view_module_version": "1.2.0",
            "_model_module": "@jupyter-widgets/controls"
          }
        },
        "f7b1989e164c4c00b79d4e10cff35cd4": {
          "model_module": "@jupyter-widgets/base",
          "model_name": "LayoutModel",
          "state": {
            "_view_name": "LayoutView",
            "grid_template_rows": null,
            "right": null,
            "justify_content": null,
            "_view_module": "@jupyter-widgets/base",
            "overflow": null,
            "_model_module_version": "1.2.0",
            "_view_count": null,
            "flex_flow": null,
            "width": null,
            "min_width": null,
            "border": null,
            "align_items": null,
            "bottom": null,
            "_model_module": "@jupyter-widgets/base",
            "top": null,
            "grid_column": null,
            "overflow_y": null,
            "overflow_x": null,
            "grid_auto_flow": null,
            "grid_area": null,
            "grid_template_columns": null,
            "flex": null,
            "_model_name": "LayoutModel",
            "justify_items": null,
            "grid_row": null,
            "max_height": null,
            "align_content": null,
            "visibility": null,
            "align_self": null,
            "height": null,
            "min_height": null,
            "padding": null,
            "grid_auto_rows": null,
            "grid_gap": null,
            "max_width": null,
            "order": null,
            "_view_module_version": "1.2.0",
            "grid_template_areas": null,
            "object_position": null,
            "object_fit": null,
            "grid_auto_columns": null,
            "margin": null,
            "display": null,
            "left": null
          }
        }
      }
    }
  },
  "cells": [
    {
      "cell_type": "markdown",
      "metadata": {
        "id": "view-in-github",
        "colab_type": "text"
      },
      "source": [
        "<a href=\"https://colab.research.google.com/github/hailusong/nlp-qa/blob/master/nlp_qa_albert_pretrained_captum.ipynb\" target=\"_parent\"><img src=\"https://colab.research.google.com/assets/colab-badge.svg\" alt=\"Open In Colab\"/></a>"
      ]
    },
    {
      "cell_type": "markdown",
      "metadata": {
        "id": "V-mZgVZMlbDh",
        "colab_type": "text"
      },
      "source": [
        "References:\n",
        "1. [Captum on HuggingFace SQuAD](https://captum.ai/tutorials/Bert_SQUAD_Interpret)\n",
        "\n"
      ]
    },
    {
      "cell_type": "markdown",
      "metadata": {
        "id": "nK4Aexd2YLi9",
        "colab_type": "text"
      },
      "source": [
        "## Environment Setup\n",
        "To get the source code of transformer release, do this (assuming the release version is 2.11.0)\n",
        "```\n",
        "git fetch -a --tags\n",
        "git checkout tags/v2.11.0\n",
        "```"
      ]
    },
    {
      "cell_type": "markdown",
      "metadata": {
        "id": "HYM3yVozc9uj",
        "colab_type": "text"
      },
      "source": [
        "Make sure we have access to file command in Linux"
      ]
    },
    {
      "cell_type": "code",
      "metadata": {
        "id": "799C3kzOcqb4",
        "colab_type": "code",
        "colab": {
          "base_uri": "https://localhost:8080/",
          "height": 204
        },
        "outputId": "6b8d34a6-8d36-4a95-9a03-4750fef4c818"
      },
      "source": [
        "!uname -a\n",
        "!pip install wget\n",
        "!apt-get install file"
      ],
      "execution_count": 2,
      "outputs": [
        {
          "output_type": "stream",
          "text": [
            "Linux 1dd9f6bac91f 4.19.104+ #1 SMP Wed Feb 19 05:26:34 PST 2020 x86_64 x86_64 x86_64 GNU/Linux\n",
            "Collecting wget\n",
            "  Downloading https://files.pythonhosted.org/packages/47/6a/62e288da7bcda82b935ff0c6cfe542970f04e29c756b0e147251b2fb251f/wget-3.2.zip\n",
            "Building wheels for collected packages: wget\n",
            "  Building wheel for wget (setup.py) ... \u001b[?25l\u001b[?25hdone\n",
            "  Created wheel for wget: filename=wget-3.2-cp36-none-any.whl size=9682 sha256=215f8233fcb7d45ae1557d361c2359afd256727460c32e28e90321c4361dcd86\n",
            "  Stored in directory: /root/.cache/pip/wheels/40/15/30/7d8f7cea2902b4db79e3fea550d7d7b85ecb27ef992b618f3f\n",
            "Successfully built wget\n",
            "Installing collected packages: wget\n",
            "Successfully installed wget-3.2\n",
            "^C\n"
          ],
          "name": "stdout"
        }
      ]
    },
    {
      "cell_type": "code",
      "metadata": {
        "id": "DpUI_vQISUii",
        "colab_type": "code",
        "colab": {
          "base_uri": "https://localhost:8080/",
          "height": 615
        },
        "outputId": "b8042b93-b610-40db-a88a-c3e94b828c72"
      },
      "source": [
        "try:\n",
        "    import transformers\n",
        "except ImportError as e:\n",
        "    # install huggingface\n",
        "    !pip install transformers"
      ],
      "execution_count": 3,
      "outputs": [
        {
          "output_type": "stream",
          "text": [
            "Collecting transformers\n",
            "\u001b[?25l  Downloading https://files.pythonhosted.org/packages/27/3c/91ed8f5c4e7ef3227b4119200fc0ed4b4fd965b1f0172021c25701087825/transformers-3.0.2-py3-none-any.whl (769kB)\n",
            "\r\u001b[K     |▍                               | 10kB 27.3MB/s eta 0:00:01\r\u001b[K     |▉                               | 20kB 5.8MB/s eta 0:00:01\r\u001b[K     |█▎                              | 30kB 7.4MB/s eta 0:00:01\r\u001b[K     |█▊                              | 40kB 8.3MB/s eta 0:00:01\r\u001b[K     |██▏                             | 51kB 7.1MB/s eta 0:00:01\r\u001b[K     |██▋                             | 61kB 7.4MB/s eta 0:00:01\r\u001b[K     |███                             | 71kB 7.9MB/s eta 0:00:01\r\u001b[K     |███▍                            | 81kB 8.5MB/s eta 0:00:01\r\u001b[K     |███▉                            | 92kB 8.8MB/s eta 0:00:01\r\u001b[K     |████▎                           | 102kB 9.4MB/s eta 0:00:01\r\u001b[K     |████▊                           | 112kB 9.4MB/s eta 0:00:01\r\u001b[K     |█████▏                          | 122kB 9.4MB/s eta 0:00:01\r\u001b[K     |█████▌                          | 133kB 9.4MB/s eta 0:00:01\r\u001b[K     |██████                          | 143kB 9.4MB/s eta 0:00:01\r\u001b[K     |██████▍                         | 153kB 9.4MB/s eta 0:00:01\r\u001b[K     |██████▉                         | 163kB 9.4MB/s eta 0:00:01\r\u001b[K     |███████▎                        | 174kB 9.4MB/s eta 0:00:01\r\u001b[K     |███████▊                        | 184kB 9.4MB/s eta 0:00:01\r\u001b[K     |████████                        | 194kB 9.4MB/s eta 0:00:01\r\u001b[K     |████████▌                       | 204kB 9.4MB/s eta 0:00:01\r\u001b[K     |█████████                       | 215kB 9.4MB/s eta 0:00:01\r\u001b[K     |█████████▍                      | 225kB 9.4MB/s eta 0:00:01\r\u001b[K     |█████████▉                      | 235kB 9.4MB/s eta 0:00:01\r\u001b[K     |██████████▎                     | 245kB 9.4MB/s eta 0:00:01\r\u001b[K     |██████████▋                     | 256kB 9.4MB/s eta 0:00:01\r\u001b[K     |███████████                     | 266kB 9.4MB/s eta 0:00:01\r\u001b[K     |███████████▌                    | 276kB 9.4MB/s eta 0:00:01\r\u001b[K     |████████████                    | 286kB 9.4MB/s eta 0:00:01\r\u001b[K     |████████████▍                   | 296kB 9.4MB/s eta 0:00:01\r\u001b[K     |████████████▉                   | 307kB 9.4MB/s eta 0:00:01\r\u001b[K     |█████████████▏                  | 317kB 9.4MB/s eta 0:00:01\r\u001b[K     |█████████████▋                  | 327kB 9.4MB/s eta 0:00:01\r\u001b[K     |██████████████                  | 337kB 9.4MB/s eta 0:00:01\r\u001b[K     |██████████████▌                 | 348kB 9.4MB/s eta 0:00:01\r\u001b[K     |███████████████                 | 358kB 9.4MB/s eta 0:00:01\r\u001b[K     |███████████████▍                | 368kB 9.4MB/s eta 0:00:01\r\u001b[K     |███████████████▊                | 378kB 9.4MB/s eta 0:00:01\r\u001b[K     |████████████████▏               | 389kB 9.4MB/s eta 0:00:01\r\u001b[K     |████████████████▋               | 399kB 9.4MB/s eta 0:00:01\r\u001b[K     |█████████████████               | 409kB 9.4MB/s eta 0:00:01\r\u001b[K     |█████████████████▌              | 419kB 9.4MB/s eta 0:00:01\r\u001b[K     |██████████████████              | 430kB 9.4MB/s eta 0:00:01\r\u001b[K     |██████████████████▎             | 440kB 9.4MB/s eta 0:00:01\r\u001b[K     |██████████████████▊             | 450kB 9.4MB/s eta 0:00:01\r\u001b[K     |███████████████████▏            | 460kB 9.4MB/s eta 0:00:01\r\u001b[K     |███████████████████▋            | 471kB 9.4MB/s eta 0:00:01\r\u001b[K     |████████████████████            | 481kB 9.4MB/s eta 0:00:01\r\u001b[K     |████████████████████▌           | 491kB 9.4MB/s eta 0:00:01\r\u001b[K     |████████████████████▉           | 501kB 9.4MB/s eta 0:00:01\r\u001b[K     |█████████████████████▎          | 512kB 9.4MB/s eta 0:00:01\r\u001b[K     |█████████████████████▊          | 522kB 9.4MB/s eta 0:00:01\r\u001b[K     |██████████████████████▏         | 532kB 9.4MB/s eta 0:00:01\r\u001b[K     |██████████████████████▋         | 542kB 9.4MB/s eta 0:00:01\r\u001b[K     |███████████████████████         | 552kB 9.4MB/s eta 0:00:01\r\u001b[K     |███████████████████████▍        | 563kB 9.4MB/s eta 0:00:01\r\u001b[K     |███████████████████████▉        | 573kB 9.4MB/s eta 0:00:01\r\u001b[K     |████████████████████████▎       | 583kB 9.4MB/s eta 0:00:01\r\u001b[K     |████████████████████████▊       | 593kB 9.4MB/s eta 0:00:01\r\u001b[K     |█████████████████████████▏      | 604kB 9.4MB/s eta 0:00:01\r\u001b[K     |█████████████████████████▋      | 614kB 9.4MB/s eta 0:00:01\r\u001b[K     |██████████████████████████      | 624kB 9.4MB/s eta 0:00:01\r\u001b[K     |██████████████████████████▍     | 634kB 9.4MB/s eta 0:00:01\r\u001b[K     |██████████████████████████▉     | 645kB 9.4MB/s eta 0:00:01\r\u001b[K     |███████████████████████████▎    | 655kB 9.4MB/s eta 0:00:01\r\u001b[K     |███████████████████████████▊    | 665kB 9.4MB/s eta 0:00:01\r\u001b[K     |████████████████████████████▏   | 675kB 9.4MB/s eta 0:00:01\r\u001b[K     |████████████████████████████▌   | 686kB 9.4MB/s eta 0:00:01\r\u001b[K     |█████████████████████████████   | 696kB 9.4MB/s eta 0:00:01\r\u001b[K     |█████████████████████████████▍  | 706kB 9.4MB/s eta 0:00:01\r\u001b[K     |█████████████████████████████▉  | 716kB 9.4MB/s eta 0:00:01\r\u001b[K     |██████████████████████████████▎ | 727kB 9.4MB/s eta 0:00:01\r\u001b[K     |██████████████████████████████▊ | 737kB 9.4MB/s eta 0:00:01\r\u001b[K     |███████████████████████████████ | 747kB 9.4MB/s eta 0:00:01\r\u001b[K     |███████████████████████████████▌| 757kB 9.4MB/s eta 0:00:01\r\u001b[K     |████████████████████████████████| 768kB 9.4MB/s eta 0:00:01\r\u001b[K     |████████████████████████████████| 778kB 9.4MB/s \n",
            "\u001b[?25hRequirement already satisfied: requests in /usr/local/lib/python3.6/dist-packages (from transformers) (2.23.0)\n",
            "Collecting sacremoses\n",
            "\u001b[?25l  Downloading https://files.pythonhosted.org/packages/7d/34/09d19aff26edcc8eb2a01bed8e98f13a1537005d31e95233fd48216eed10/sacremoses-0.0.43.tar.gz (883kB)\n",
            "\u001b[K     |████████████████████████████████| 890kB 46.4MB/s \n",
            "\u001b[?25hRequirement already satisfied: numpy in /usr/local/lib/python3.6/dist-packages (from transformers) (1.18.5)\n",
            "Requirement already satisfied: filelock in /usr/local/lib/python3.6/dist-packages (from transformers) (3.0.12)\n",
            "Requirement already satisfied: regex!=2019.12.17 in /usr/local/lib/python3.6/dist-packages (from transformers) (2019.12.20)\n",
            "Collecting sentencepiece!=0.1.92\n",
            "\u001b[?25l  Downloading https://files.pythonhosted.org/packages/d4/a4/d0a884c4300004a78cca907a6ff9a5e9fe4f090f5d95ab341c53d28cbc58/sentencepiece-0.1.91-cp36-cp36m-manylinux1_x86_64.whl (1.1MB)\n",
            "\u001b[K     |████████████████████████████████| 1.1MB 52.3MB/s \n",
            "\u001b[?25hRequirement already satisfied: dataclasses; python_version < \"3.7\" in /usr/local/lib/python3.6/dist-packages (from transformers) (0.7)\n",
            "Requirement already satisfied: tqdm>=4.27 in /usr/local/lib/python3.6/dist-packages (from transformers) (4.41.1)\n",
            "Requirement already satisfied: packaging in /usr/local/lib/python3.6/dist-packages (from transformers) (20.4)\n",
            "Collecting tokenizers==0.8.1.rc1\n",
            "\u001b[?25l  Downloading https://files.pythonhosted.org/packages/40/d0/30d5f8d221a0ed981a186c8eb986ce1c94e3a6e87f994eae9f4aa5250217/tokenizers-0.8.1rc1-cp36-cp36m-manylinux1_x86_64.whl (3.0MB)\n",
            "\u001b[K     |████████████████████████████████| 3.0MB 56.2MB/s \n",
            "\u001b[?25hRequirement already satisfied: certifi>=2017.4.17 in /usr/local/lib/python3.6/dist-packages (from requests->transformers) (2020.6.20)\n",
            "Requirement already satisfied: idna<3,>=2.5 in /usr/local/lib/python3.6/dist-packages (from requests->transformers) (2.9)\n",
            "Requirement already satisfied: chardet<4,>=3.0.2 in /usr/local/lib/python3.6/dist-packages (from requests->transformers) (3.0.4)\n",
            "Requirement already satisfied: urllib3!=1.25.0,!=1.25.1,<1.26,>=1.21.1 in /usr/local/lib/python3.6/dist-packages (from requests->transformers) (1.24.3)\n",
            "Requirement already satisfied: six in /usr/local/lib/python3.6/dist-packages (from sacremoses->transformers) (1.12.0)\n",
            "Requirement already satisfied: click in /usr/local/lib/python3.6/dist-packages (from sacremoses->transformers) (7.1.2)\n",
            "Requirement already satisfied: joblib in /usr/local/lib/python3.6/dist-packages (from sacremoses->transformers) (0.15.1)\n",
            "Requirement already satisfied: pyparsing>=2.0.2 in /usr/local/lib/python3.6/dist-packages (from packaging->transformers) (2.4.7)\n",
            "Building wheels for collected packages: sacremoses\n",
            "  Building wheel for sacremoses (setup.py) ... \u001b[?25l\u001b[?25hdone\n",
            "  Created wheel for sacremoses: filename=sacremoses-0.0.43-cp36-none-any.whl size=893260 sha256=7a34ce489892e56426075cc8b51c075cd41e45f57e59ee9c53f143acb5182a02\n",
            "  Stored in directory: /root/.cache/pip/wheels/29/3c/fd/7ce5c3f0666dab31a50123635e6fb5e19ceb42ce38d4e58f45\n",
            "Successfully built sacremoses\n",
            "Installing collected packages: sacremoses, sentencepiece, tokenizers, transformers\n",
            "Successfully installed sacremoses-0.0.43 sentencepiece-0.1.91 tokenizers-0.8.1rc1 transformers-3.0.2\n"
          ],
          "name": "stdout"
        }
      ]
    },
    {
      "cell_type": "code",
      "metadata": {
        "id": "Guw8jy8IRy3Q",
        "colab_type": "code",
        "colab": {
          "base_uri": "https://localhost:8080/",
          "height": 249
        },
        "outputId": "116cadd4-6648-40c5-90a4-91a070565eb2"
      },
      "source": [
        "import torch\n",
        "import transformers\n",
        "\n",
        "print(torch.__version__)\n",
        "print(transformers.__version__)"
      ],
      "execution_count": 4,
      "outputs": [
        {
          "output_type": "error",
          "ename": "KeyboardInterrupt",
          "evalue": "ignored",
          "traceback": [
            "\u001b[0;31m---------------------------------------------------------------------------\u001b[0m",
            "\u001b[0;31mKeyboardInterrupt\u001b[0m                         Traceback (most recent call last)",
            "\u001b[0;32m/usr/local/lib/python3.6/dist-packages/zmq/backend/cython/checkrc.pxd\u001b[0m in \u001b[0;36mzmq.backend.cython.checkrc._check_rc\u001b[0;34m()\u001b[0m\n",
            "\u001b[0;31mKeyboardInterrupt\u001b[0m: "
          ]
        },
        {
          "output_type": "stream",
          "text": [
            "Exception ignored in: 'zmq.backend.cython.message.Frame.__dealloc__'\n",
            "Traceback (most recent call last):\n",
            "  File \"zmq/backend/cython/checkrc.pxd\", line 13, in zmq.backend.cython.checkrc._check_rc\n",
            "KeyboardInterrupt\n"
          ],
          "name": "stderr"
        },
        {
          "output_type": "stream",
          "text": [
            "1.5.1+cu101\n",
            "3.0.2\n"
          ],
          "name": "stdout"
        }
      ]
    },
    {
      "cell_type": "code",
      "metadata": {
        "id": "3AMf33lSSGpQ",
        "colab_type": "code",
        "colab": {
          "base_uri": "https://localhost:8080/",
          "height": 204
        },
        "outputId": "c13fa814-d76c-4df4-da95-2d60031ae8fc"
      },
      "source": [
        "!ls -al\n",
        "!rm -rf nlp-qa\n",
        "!git clone --depth 1 https://github.com/hailusong/nlp-qa.git"
      ],
      "execution_count": 5,
      "outputs": [
        {
          "output_type": "stream",
          "text": [
            "total 16\n",
            "drwxr-xr-x 1 root root 4096 Jun 26 16:26 .\n",
            "drwxr-xr-x 1 root root 4096 Jul  7 14:32 ..\n",
            "drwxr-xr-x 1 root root 4096 Jun 26 16:26 .config\n",
            "drwxr-xr-x 1 root root 4096 Jun 26 16:26 sample_data\n",
            "Cloning into 'nlp-qa'...\n",
            "remote: Enumerating objects: 46, done.\u001b[K\n",
            "remote: Counting objects: 100% (46/46), done.\u001b[K\n",
            "remote: Compressing objects: 100% (41/41), done.\u001b[K\n",
            "remote: Total 46 (delta 3), reused 29 (delta 2), pack-reused 0\u001b[K\n",
            "Unpacking objects: 100% (46/46), done.\n"
          ],
          "name": "stdout"
        }
      ]
    },
    {
      "cell_type": "code",
      "metadata": {
        "id": "DzR-3Gj3fgVZ",
        "colab_type": "code",
        "colab": {
          "base_uri": "https://localhost:8080/",
          "height": 1000
        },
        "outputId": "7a6dfc28-cebd-4917-d6d2-dc7ed9fa6529"
      },
      "source": [
        "!pip install -r nlp-qa/question-answering/requirements.txt"
      ],
      "execution_count": 6,
      "outputs": [
        {
          "output_type": "stream",
          "text": [
            "Requirement already satisfied: tensorboard in /usr/local/lib/python3.6/dist-packages (from -r nlp-qa/question-answering/requirements.txt (line 1)) (2.2.2)\n",
            "Requirement already satisfied: scikit-learn in /usr/local/lib/python3.6/dist-packages (from -r nlp-qa/question-answering/requirements.txt (line 2)) (0.22.2.post1)\n",
            "Collecting seqeval\n",
            "  Downloading https://files.pythonhosted.org/packages/34/91/068aca8d60ce56dd9ba4506850e876aba5e66a6f2f29aa223224b50df0de/seqeval-0.0.12.tar.gz\n",
            "Requirement already satisfied: psutil in /usr/local/lib/python3.6/dist-packages (from -r nlp-qa/question-answering/requirements.txt (line 4)) (5.4.8)\n",
            "Collecting sacrebleu\n",
            "\u001b[?25l  Downloading https://files.pythonhosted.org/packages/66/5b/cf661da8e9b0229f5d98c2961b072a5728fd11a0758957f8c0fd36081c06/sacrebleu-1.4.12-py3-none-any.whl (54kB)\n",
            "\u001b[K     |████████████████████████████████| 61kB 6.0MB/s \n",
            "\u001b[?25hCollecting rouge-score\n",
            "  Downloading https://files.pythonhosted.org/packages/1f/56/a81022436c08b9405a5247b71635394d44fe7e1dbedc4b28c740e09c2840/rouge_score-0.0.4-py2.py3-none-any.whl\n",
            "Requirement already satisfied: tensorflow_datasets in /usr/local/lib/python3.6/dist-packages (from -r nlp-qa/question-answering/requirements.txt (line 7)) (2.1.0)\n",
            "Collecting pytorch-lightning==0.7.3\n",
            "\u001b[?25l  Downloading https://files.pythonhosted.org/packages/4e/53/0549dd9c44c90e96d217592e094e9c53ef39ae2fed0c5cdb7e57aca65af6/pytorch_lightning-0.7.3-py3-none-any.whl (203kB)\n",
            "\u001b[K     |████████████████████████████████| 204kB 8.4MB/s \n",
            "\u001b[?25hRequirement already satisfied: matplotlib in /usr/local/lib/python3.6/dist-packages (from -r nlp-qa/question-answering/requirements.txt (line 9)) (3.2.2)\n",
            "Requirement already satisfied: protobuf>=3.6.0 in /usr/local/lib/python3.6/dist-packages (from tensorboard->-r nlp-qa/question-answering/requirements.txt (line 1)) (3.10.0)\n",
            "Requirement already satisfied: markdown>=2.6.8 in /usr/local/lib/python3.6/dist-packages (from tensorboard->-r nlp-qa/question-answering/requirements.txt (line 1)) (3.2.2)\n",
            "Requirement already satisfied: werkzeug>=0.11.15 in /usr/local/lib/python3.6/dist-packages (from tensorboard->-r nlp-qa/question-answering/requirements.txt (line 1)) (1.0.1)\n",
            "Requirement already satisfied: google-auth-oauthlib<0.5,>=0.4.1 in /usr/local/lib/python3.6/dist-packages (from tensorboard->-r nlp-qa/question-answering/requirements.txt (line 1)) (0.4.1)\n",
            "Requirement already satisfied: wheel>=0.26; python_version >= \"3\" in /usr/local/lib/python3.6/dist-packages (from tensorboard->-r nlp-qa/question-answering/requirements.txt (line 1)) (0.34.2)\n",
            "Requirement already satisfied: six>=1.10.0 in /usr/local/lib/python3.6/dist-packages (from tensorboard->-r nlp-qa/question-answering/requirements.txt (line 1)) (1.12.0)\n",
            "Requirement already satisfied: google-auth<2,>=1.6.3 in /usr/local/lib/python3.6/dist-packages (from tensorboard->-r nlp-qa/question-answering/requirements.txt (line 1)) (1.17.2)\n",
            "Requirement already satisfied: grpcio>=1.24.3 in /usr/local/lib/python3.6/dist-packages (from tensorboard->-r nlp-qa/question-answering/requirements.txt (line 1)) (1.30.0)\n",
            "Requirement already satisfied: requests<3,>=2.21.0 in /usr/local/lib/python3.6/dist-packages (from tensorboard->-r nlp-qa/question-answering/requirements.txt (line 1)) (2.23.0)\n",
            "Requirement already satisfied: absl-py>=0.4 in /usr/local/lib/python3.6/dist-packages (from tensorboard->-r nlp-qa/question-answering/requirements.txt (line 1)) (0.9.0)\n",
            "Requirement already satisfied: tensorboard-plugin-wit>=1.6.0 in /usr/local/lib/python3.6/dist-packages (from tensorboard->-r nlp-qa/question-answering/requirements.txt (line 1)) (1.6.0.post3)\n",
            "Requirement already satisfied: numpy>=1.12.0 in /usr/local/lib/python3.6/dist-packages (from tensorboard->-r nlp-qa/question-answering/requirements.txt (line 1)) (1.18.5)\n",
            "Requirement already satisfied: setuptools>=41.0.0 in /usr/local/lib/python3.6/dist-packages (from tensorboard->-r nlp-qa/question-answering/requirements.txt (line 1)) (47.3.1)\n",
            "Requirement already satisfied: joblib>=0.11 in /usr/local/lib/python3.6/dist-packages (from scikit-learn->-r nlp-qa/question-answering/requirements.txt (line 2)) (0.15.1)\n",
            "Requirement already satisfied: scipy>=0.17.0 in /usr/local/lib/python3.6/dist-packages (from scikit-learn->-r nlp-qa/question-answering/requirements.txt (line 2)) (1.4.1)\n",
            "Requirement already satisfied: Keras>=2.2.4 in /usr/local/lib/python3.6/dist-packages (from seqeval->-r nlp-qa/question-answering/requirements.txt (line 3)) (2.3.1)\n",
            "Collecting portalocker\n",
            "  Downloading https://files.pythonhosted.org/packages/53/84/7b3146ec6378d28abc73ab484f09f47dfa008ad6f03f33d90a369f880e25/portalocker-1.7.0-py2.py3-none-any.whl\n",
            "Collecting mecab-python3==0.996.5\n",
            "\u001b[?25l  Downloading https://files.pythonhosted.org/packages/18/49/b55a839a77189042960bf96490640c44816073f917d489acbc5d79fa5cc3/mecab_python3-0.996.5-cp36-cp36m-manylinux2010_x86_64.whl (17.1MB)\n",
            "\u001b[K     |████████████████████████████████| 17.1MB 152kB/s \n",
            "\u001b[?25hRequirement already satisfied: nltk in /usr/local/lib/python3.6/dist-packages (from rouge-score->-r nlp-qa/question-answering/requirements.txt (line 6)) (3.2.5)\n",
            "Requirement already satisfied: tqdm in /usr/local/lib/python3.6/dist-packages (from tensorflow_datasets->-r nlp-qa/question-answering/requirements.txt (line 7)) (4.41.1)\n",
            "Requirement already satisfied: attrs>=18.1.0 in /usr/local/lib/python3.6/dist-packages (from tensorflow_datasets->-r nlp-qa/question-answering/requirements.txt (line 7)) (19.3.0)\n",
            "Requirement already satisfied: termcolor in /usr/local/lib/python3.6/dist-packages (from tensorflow_datasets->-r nlp-qa/question-answering/requirements.txt (line 7)) (1.1.0)\n",
            "Requirement already satisfied: dill in /usr/local/lib/python3.6/dist-packages (from tensorflow_datasets->-r nlp-qa/question-answering/requirements.txt (line 7)) (0.3.2)\n",
            "Requirement already satisfied: tensorflow-metadata in /usr/local/lib/python3.6/dist-packages (from tensorflow_datasets->-r nlp-qa/question-answering/requirements.txt (line 7)) (0.22.2)\n",
            "Requirement already satisfied: promise in /usr/local/lib/python3.6/dist-packages (from tensorflow_datasets->-r nlp-qa/question-answering/requirements.txt (line 7)) (2.3)\n",
            "Requirement already satisfied: wrapt in /usr/local/lib/python3.6/dist-packages (from tensorflow_datasets->-r nlp-qa/question-answering/requirements.txt (line 7)) (1.12.1)\n",
            "Requirement already satisfied: future in /usr/local/lib/python3.6/dist-packages (from tensorflow_datasets->-r nlp-qa/question-answering/requirements.txt (line 7)) (0.16.0)\n",
            "Requirement already satisfied: torch>=1.1 in /usr/local/lib/python3.6/dist-packages (from pytorch-lightning==0.7.3->-r nlp-qa/question-answering/requirements.txt (line 8)) (1.5.1+cu101)\n",
            "Requirement already satisfied: pyparsing!=2.0.4,!=2.1.2,!=2.1.6,>=2.0.1 in /usr/local/lib/python3.6/dist-packages (from matplotlib->-r nlp-qa/question-answering/requirements.txt (line 9)) (2.4.7)\n",
            "Requirement already satisfied: kiwisolver>=1.0.1 in /usr/local/lib/python3.6/dist-packages (from matplotlib->-r nlp-qa/question-answering/requirements.txt (line 9)) (1.2.0)\n",
            "Requirement already satisfied: cycler>=0.10 in /usr/local/lib/python3.6/dist-packages (from matplotlib->-r nlp-qa/question-answering/requirements.txt (line 9)) (0.10.0)\n",
            "Requirement already satisfied: python-dateutil>=2.1 in /usr/local/lib/python3.6/dist-packages (from matplotlib->-r nlp-qa/question-answering/requirements.txt (line 9)) (2.8.1)\n",
            "Requirement already satisfied: importlib-metadata; python_version < \"3.8\" in /usr/local/lib/python3.6/dist-packages (from markdown>=2.6.8->tensorboard->-r nlp-qa/question-answering/requirements.txt (line 1)) (1.6.1)\n",
            "Requirement already satisfied: requests-oauthlib>=0.7.0 in /usr/local/lib/python3.6/dist-packages (from google-auth-oauthlib<0.5,>=0.4.1->tensorboard->-r nlp-qa/question-answering/requirements.txt (line 1)) (1.3.0)\n",
            "Requirement already satisfied: rsa<5,>=3.1.4; python_version >= \"3\" in /usr/local/lib/python3.6/dist-packages (from google-auth<2,>=1.6.3->tensorboard->-r nlp-qa/question-answering/requirements.txt (line 1)) (4.6)\n",
            "Requirement already satisfied: cachetools<5.0,>=2.0.0 in /usr/local/lib/python3.6/dist-packages (from google-auth<2,>=1.6.3->tensorboard->-r nlp-qa/question-answering/requirements.txt (line 1)) (4.1.0)\n",
            "Requirement already satisfied: pyasn1-modules>=0.2.1 in /usr/local/lib/python3.6/dist-packages (from google-auth<2,>=1.6.3->tensorboard->-r nlp-qa/question-answering/requirements.txt (line 1)) (0.2.8)\n",
            "Requirement already satisfied: urllib3!=1.25.0,!=1.25.1,<1.26,>=1.21.1 in /usr/local/lib/python3.6/dist-packages (from requests<3,>=2.21.0->tensorboard->-r nlp-qa/question-answering/requirements.txt (line 1)) (1.24.3)\n",
            "Requirement already satisfied: idna<3,>=2.5 in /usr/local/lib/python3.6/dist-packages (from requests<3,>=2.21.0->tensorboard->-r nlp-qa/question-answering/requirements.txt (line 1)) (2.9)\n",
            "Requirement already satisfied: chardet<4,>=3.0.2 in /usr/local/lib/python3.6/dist-packages (from requests<3,>=2.21.0->tensorboard->-r nlp-qa/question-answering/requirements.txt (line 1)) (3.0.4)\n",
            "Requirement already satisfied: certifi>=2017.4.17 in /usr/local/lib/python3.6/dist-packages (from requests<3,>=2.21.0->tensorboard->-r nlp-qa/question-answering/requirements.txt (line 1)) (2020.6.20)\n",
            "Requirement already satisfied: keras-applications>=1.0.6 in /usr/local/lib/python3.6/dist-packages (from Keras>=2.2.4->seqeval->-r nlp-qa/question-answering/requirements.txt (line 3)) (1.0.8)\n",
            "Requirement already satisfied: pyyaml in /usr/local/lib/python3.6/dist-packages (from Keras>=2.2.4->seqeval->-r nlp-qa/question-answering/requirements.txt (line 3)) (3.13)\n",
            "Requirement already satisfied: keras-preprocessing>=1.0.5 in /usr/local/lib/python3.6/dist-packages (from Keras>=2.2.4->seqeval->-r nlp-qa/question-answering/requirements.txt (line 3)) (1.1.2)\n",
            "Requirement already satisfied: h5py in /usr/local/lib/python3.6/dist-packages (from Keras>=2.2.4->seqeval->-r nlp-qa/question-answering/requirements.txt (line 3)) (2.10.0)\n",
            "Requirement already satisfied: googleapis-common-protos in /usr/local/lib/python3.6/dist-packages (from tensorflow-metadata->tensorflow_datasets->-r nlp-qa/question-answering/requirements.txt (line 7)) (1.52.0)\n",
            "Requirement already satisfied: zipp>=0.5 in /usr/local/lib/python3.6/dist-packages (from importlib-metadata; python_version < \"3.8\"->markdown>=2.6.8->tensorboard->-r nlp-qa/question-answering/requirements.txt (line 1)) (3.1.0)\n",
            "Requirement already satisfied: oauthlib>=3.0.0 in /usr/local/lib/python3.6/dist-packages (from requests-oauthlib>=0.7.0->google-auth-oauthlib<0.5,>=0.4.1->tensorboard->-r nlp-qa/question-answering/requirements.txt (line 1)) (3.1.0)\n",
            "Requirement already satisfied: pyasn1>=0.1.3 in /usr/local/lib/python3.6/dist-packages (from rsa<5,>=3.1.4; python_version >= \"3\"->google-auth<2,>=1.6.3->tensorboard->-r nlp-qa/question-answering/requirements.txt (line 1)) (0.4.8)\n",
            "Building wheels for collected packages: seqeval\n",
            "  Building wheel for seqeval (setup.py) ... \u001b[?25l\u001b[?25hdone\n",
            "  Created wheel for seqeval: filename=seqeval-0.0.12-cp36-none-any.whl size=7424 sha256=daad0661726cac9927bfd2611652fb8fb40115a691a880c21d9063cf85496111\n",
            "  Stored in directory: /root/.cache/pip/wheels/4f/32/0a/df3b340a82583566975377d65e724895b3fad101a3fb729f68\n",
            "Successfully built seqeval\n",
            "\u001b[31mERROR: rouge-score 0.0.4 has requirement six>=1.14.0, but you'll have six 1.12.0 which is incompatible.\u001b[0m\n",
            "\u001b[31mERROR: pytorch-lightning 0.7.3 has requirement future>=0.17.1, but you'll have future 0.16.0 which is incompatible.\u001b[0m\n",
            "Installing collected packages: seqeval, portalocker, mecab-python3, sacrebleu, rouge-score, pytorch-lightning\n",
            "Successfully installed mecab-python3-0.996.5 portalocker-1.7.0 pytorch-lightning-0.7.3 rouge-score-0.0.4 sacrebleu-1.4.12 seqeval-0.0.12\n"
          ],
          "name": "stdout"
        }
      ]
    },
    {
      "cell_type": "markdown",
      "metadata": {
        "id": "KoWqnJwhO7Ls",
        "colab_type": "text"
      },
      "source": [
        "### GPU Setup"
      ]
    },
    {
      "cell_type": "code",
      "metadata": {
        "id": "PwRRhY4zO8fy",
        "colab_type": "code",
        "colab": {
          "base_uri": "https://localhost:8080/",
          "height": 51
        },
        "outputId": "8ee79f6e-9279-4ad2-d3ce-8aee423ddc75"
      },
      "source": [
        "import torch\n",
        "\n",
        "# If there's a GPU available...\n",
        "if torch.cuda.is_available():    \n",
        "\n",
        "    # Tell PyTorch to use the GPU.    \n",
        "    device = torch.device(\"cuda\")\n",
        "\n",
        "    print('There are %d GPU(s) available.' % torch.cuda.device_count())\n",
        "\n",
        "    print('We will use the GPU:', torch.cuda.get_device_name(0))\n",
        "\n",
        "# If not...\n",
        "else:\n",
        "    print('No GPU available, using the CPU instead.')\n",
        "    device = torch.device(\"cpu\")"
      ],
      "execution_count": 7,
      "outputs": [
        {
          "output_type": "stream",
          "text": [
            "There are 1 GPU(s) available.\n",
            "We will use the GPU: Tesla T4\n"
          ],
          "name": "stdout"
        }
      ]
    },
    {
      "cell_type": "markdown",
      "metadata": {
        "id": "6tcrZk3mrW8F",
        "colab_type": "text"
      },
      "source": [
        "## Configuratiuon"
      ]
    },
    {
      "cell_type": "code",
      "metadata": {
        "id": "7QPgyarrrY_L",
        "colab_type": "code",
        "colab": {}
      },
      "source": [
        "MULTILABEL_INTENT=False\n",
        "QA_EXTRACTION=True\n",
        "CAPTUM=True\n",
        "\n",
        "# QA_MODEL_NAME = 'bert-base-uncased'\n",
        "# QA_MODEL_NAME = 'elgeish/cs224n-squad2.0-albert-xxlarge-v1'\n",
        "QA_MODEL_NAME = 'ktrapeznikov/albert-xlarge-v2-squad-v2'"
      ],
      "execution_count": 8,
      "outputs": []
    },
    {
      "cell_type": "markdown",
      "metadata": {
        "id": "HQ1AUfsqlwa0",
        "colab_type": "text"
      },
      "source": [
        "## Download"
      ]
    },
    {
      "cell_type": "markdown",
      "metadata": {
        "id": "1WSQ93jDoh14",
        "colab_type": "text"
      },
      "source": [
        "### Pre-trained ALBERT v2 language model \n",
        "Ref:\n",
        "- https://huggingface.co/transformers/pretrained_models.html\n",
        "- [BERT Fine-Tuning Tutorial with PyTorch](https://mccormickml.com/2019/07/22/BERT-fine-tuning/#4-train-our-classification-model)"
      ]
    },
    {
      "cell_type": "code",
      "metadata": {
        "id": "exGaF-bRoRCh",
        "colab_type": "code",
        "colab": {}
      },
      "source": [
        "if MULTILABEL_INTENT:\n",
        "  from transformers import AutoTokenizer, AutoModelForQuestionAnswering\n",
        "  from transformers import AlbertConfig, AlbertForSequenceClassification\n",
        "  import torch\n",
        "\n",
        "  config = torch.hub.load('huggingface/pytorch-transformers', 'config', 'albert-large-v2')\n",
        "  config.num_labels = 2\n",
        "  assert(type(config) == AlbertConfig)\n",
        "  print(config)\n",
        "\n",
        "  # Download model and configuration from S3 and cache.\n",
        "  # label: lawyer letter, deed, other\n",
        "  model = torch.hub.load('huggingface/pytorch-transformers', \n",
        "                         'modelForSequenceClassification', \n",
        "                         'albert-large-v2',\n",
        "                         config=config\n",
        "                         )\n",
        "  assert(type(model) == AlbertForSequenceClassification)\n",
        "\n",
        "  # Copy the model to the GPU.\n",
        "  model.to(device)\n",
        "\n",
        "  # Albert tokenizer - download vocabulary from S3 and cache.\n",
        "  tokenizer = torch.hub.load('huggingface/pytorch-transformers', 'tokenizer', 'albert-large-v2')\n",
        "  # e.g. tokenizer was saved using `save_pretrained('./test/saved_model/')`\n",
        "  # tokenizer = torch.hub.load('huggingface/pytorch-transformers', 'tokenizer', './test/bert_saved_model/')\n",
        "\n",
        "  # model = torch.hub.load('huggingface/pytorch-transformers', 'model', './test/bert_model/')  # E.g. model was saved using `save_pretrained('./test/saved_model/')`\n",
        "  # model = torch.hub.load('huggingface/pytorch-transformers', 'model', 'albert-large-v2', output_attentions=True)  # Update configuration during loading\n",
        "  # assert model.config.output_attentions == True\n"
      ],
      "execution_count": 9,
      "outputs": []
    },
    {
      "cell_type": "code",
      "metadata": {
        "id": "v34KA-DEywd1",
        "colab_type": "code",
        "colab": {}
      },
      "source": [
        "if MULTILABEL_INTENT:\n",
        "  # Logging\n",
        "  print('\\n==== Output Layer ====\\n')\n",
        "  \n",
        "  params = list(model.named_parameters())\n",
        "  for p in params[-4:]:\n",
        "      print(\"{:<55} {:>12}\".format(p[0], str(tuple(p[1].size()))))"
      ],
      "execution_count": 10,
      "outputs": []
    },
    {
      "cell_type": "markdown",
      "metadata": {
        "id": "MeQw1NmYogxY",
        "colab_type": "text"
      },
      "source": [
        "### Pre-trained ALBERT v2 model on SQuAD2\n",
        "https://huggingface.co/elgeish/cs224n-squad2.0-albert-xxlarge-v1, including:\n",
        "- config.json, 721.0B\n",
        "- pytorch_model.bin, 849.2MB\n",
        "- special_tokens_map.json, 156.0B\n",
        "- spiece.model, 742.5KB\n",
        "- tokenizer_config.json, 39.0B"
      ]
    },
    {
      "cell_type": "code",
      "metadata": {
        "id": "kSP15TkFUndN",
        "colab_type": "code",
        "colab": {
          "base_uri": "https://localhost:8080/",
          "height": 275
        },
        "outputId": "3936fae3-03ec-482b-c2b2-8b6d7816cc28"
      },
      "source": [
        "if QA_EXTRACTION and CAPTUM:\n",
        "  !pip install captum\n",
        "  from captum.attr import visualization as viz\n",
        "  from captum.attr import IntegratedGradients, LayerConductance, LayerIntegratedGradients\n",
        "  from captum.attr import configure_interpretable_embedding_layer, remove_interpretable_embedding_layer"
      ],
      "execution_count": 11,
      "outputs": [
        {
          "output_type": "stream",
          "text": [
            "Collecting captum\n",
            "\u001b[?25l  Downloading https://files.pythonhosted.org/packages/42/de/c018e206d463d9975444c28b0a4f103c9ca4b2faedf943df727e402a1a1e/captum-0.2.0-py3-none-any.whl (1.4MB)\n",
            "\r\u001b[K     |▎                               | 10kB 25.8MB/s eta 0:00:01\r\u001b[K     |▌                               | 20kB 5.8MB/s eta 0:00:01\r\u001b[K     |▊                               | 30kB 7.2MB/s eta 0:00:01\r\u001b[K     |█                               | 40kB 8.0MB/s eta 0:00:01\r\u001b[K     |█▏                              | 51kB 6.8MB/s eta 0:00:01\r\u001b[K     |█▍                              | 61kB 7.2MB/s eta 0:00:01\r\u001b[K     |█▊                              | 71kB 7.6MB/s eta 0:00:01\r\u001b[K     |██                              | 81kB 7.9MB/s eta 0:00:01\r\u001b[K     |██▏                             | 92kB 7.5MB/s eta 0:00:01\r\u001b[K     |██▍                             | 102kB 7.8MB/s eta 0:00:01\r\u001b[K     |██▋                             | 112kB 7.8MB/s eta 0:00:01\r\u001b[K     |██▉                             | 122kB 7.8MB/s eta 0:00:01\r\u001b[K     |███                             | 133kB 7.8MB/s eta 0:00:01\r\u001b[K     |███▍                            | 143kB 7.8MB/s eta 0:00:01\r\u001b[K     |███▋                            | 153kB 7.8MB/s eta 0:00:01\r\u001b[K     |███▉                            | 163kB 7.8MB/s eta 0:00:01\r\u001b[K     |████                            | 174kB 7.8MB/s eta 0:00:01\r\u001b[K     |████▎                           | 184kB 7.8MB/s eta 0:00:01\r\u001b[K     |████▌                           | 194kB 7.8MB/s eta 0:00:01\r\u001b[K     |████▉                           | 204kB 7.8MB/s eta 0:00:01\r\u001b[K     |█████                           | 215kB 7.8MB/s eta 0:00:01\r\u001b[K     |█████▎                          | 225kB 7.8MB/s eta 0:00:01\r\u001b[K     |█████▌                          | 235kB 7.8MB/s eta 0:00:01\r\u001b[K     |█████▊                          | 245kB 7.8MB/s eta 0:00:01\r\u001b[K     |██████                          | 256kB 7.8MB/s eta 0:00:01\r\u001b[K     |██████▏                         | 266kB 7.8MB/s eta 0:00:01\r\u001b[K     |██████▌                         | 276kB 7.8MB/s eta 0:00:01\r\u001b[K     |██████▊                         | 286kB 7.8MB/s eta 0:00:01\r\u001b[K     |███████                         | 296kB 7.8MB/s eta 0:00:01\r\u001b[K     |███████▏                        | 307kB 7.8MB/s eta 0:00:01\r\u001b[K     |███████▍                        | 317kB 7.8MB/s eta 0:00:01\r\u001b[K     |███████▋                        | 327kB 7.8MB/s eta 0:00:01\r\u001b[K     |████████                        | 337kB 7.8MB/s eta 0:00:01\r\u001b[K     |████████▏                       | 348kB 7.8MB/s eta 0:00:01\r\u001b[K     |████████▍                       | 358kB 7.8MB/s eta 0:00:01\r\u001b[K     |████████▋                       | 368kB 7.8MB/s eta 0:00:01\r\u001b[K     |████████▉                       | 378kB 7.8MB/s eta 0:00:01\r\u001b[K     |█████████                       | 389kB 7.8MB/s eta 0:00:01\r\u001b[K     |█████████▎                      | 399kB 7.8MB/s eta 0:00:01\r\u001b[K     |█████████▋                      | 409kB 7.8MB/s eta 0:00:01\r\u001b[K     |█████████▉                      | 419kB 7.8MB/s eta 0:00:01\r\u001b[K     |██████████                      | 430kB 7.8MB/s eta 0:00:01\r\u001b[K     |██████████▎                     | 440kB 7.8MB/s eta 0:00:01\r\u001b[K     |██████████▌                     | 450kB 7.8MB/s eta 0:00:01\r\u001b[K     |██████████▊                     | 460kB 7.8MB/s eta 0:00:01\r\u001b[K     |███████████                     | 471kB 7.8MB/s eta 0:00:01\r\u001b[K     |███████████▎                    | 481kB 7.8MB/s eta 0:00:01\r\u001b[K     |███████████▌                    | 491kB 7.8MB/s eta 0:00:01\r\u001b[K     |███████████▊                    | 501kB 7.8MB/s eta 0:00:01\r\u001b[K     |████████████                    | 512kB 7.8MB/s eta 0:00:01\r\u001b[K     |████████████▏                   | 522kB 7.8MB/s eta 0:00:01\r\u001b[K     |████████████▍                   | 532kB 7.8MB/s eta 0:00:01\r\u001b[K     |████████████▊                   | 542kB 7.8MB/s eta 0:00:01\r\u001b[K     |█████████████                   | 552kB 7.8MB/s eta 0:00:01\r\u001b[K     |█████████████▏                  | 563kB 7.8MB/s eta 0:00:01\r\u001b[K     |█████████████▍                  | 573kB 7.8MB/s eta 0:00:01\r\u001b[K     |█████████████▋                  | 583kB 7.8MB/s eta 0:00:01\r\u001b[K     |█████████████▉                  | 593kB 7.8MB/s eta 0:00:01\r\u001b[K     |██████████████                  | 604kB 7.8MB/s eta 0:00:01\r\u001b[K     |██████████████▍                 | 614kB 7.8MB/s eta 0:00:01\r\u001b[K     |██████████████▋                 | 624kB 7.8MB/s eta 0:00:01\r\u001b[K     |██████████████▉                 | 634kB 7.8MB/s eta 0:00:01\r\u001b[K     |███████████████                 | 645kB 7.8MB/s eta 0:00:01\r\u001b[K     |███████████████▎                | 655kB 7.8MB/s eta 0:00:01\r\u001b[K     |███████████████▌                | 665kB 7.8MB/s eta 0:00:01\r\u001b[K     |███████████████▉                | 675kB 7.8MB/s eta 0:00:01\r\u001b[K     |████████████████                | 686kB 7.8MB/s eta 0:00:01\r\u001b[K     |████████████████▎               | 696kB 7.8MB/s eta 0:00:01\r\u001b[K     |████████████████▌               | 706kB 7.8MB/s eta 0:00:01\r\u001b[K     |████████████████▊               | 716kB 7.8MB/s eta 0:00:01\r\u001b[K     |█████████████████               | 727kB 7.8MB/s eta 0:00:01\r\u001b[K     |█████████████████▏              | 737kB 7.8MB/s eta 0:00:01\r\u001b[K     |█████████████████▌              | 747kB 7.8MB/s eta 0:00:01\r\u001b[K     |█████████████████▊              | 757kB 7.8MB/s eta 0:00:01\r\u001b[K     |██████████████████              | 768kB 7.8MB/s eta 0:00:01\r\u001b[K     |██████████████████▏             | 778kB 7.8MB/s eta 0:00:01\r\u001b[K     |██████████████████▍             | 788kB 7.8MB/s eta 0:00:01\r\u001b[K     |██████████████████▋             | 798kB 7.8MB/s eta 0:00:01\r\u001b[K     |███████████████████             | 808kB 7.8MB/s eta 0:00:01\r\u001b[K     |███████████████████▏            | 819kB 7.8MB/s eta 0:00:01\r\u001b[K     |███████████████████▍            | 829kB 7.8MB/s eta 0:00:01\r\u001b[K     |███████████████████▋            | 839kB 7.8MB/s eta 0:00:01\r\u001b[K     |███████████████████▉            | 849kB 7.8MB/s eta 0:00:01\r\u001b[K     |████████████████████            | 860kB 7.8MB/s eta 0:00:01\r\u001b[K     |████████████████████▎           | 870kB 7.8MB/s eta 0:00:01\r\u001b[K     |████████████████████▋           | 880kB 7.8MB/s eta 0:00:01\r\u001b[K     |████████████████████▉           | 890kB 7.8MB/s eta 0:00:01\r\u001b[K     |█████████████████████           | 901kB 7.8MB/s eta 0:00:01\r\u001b[K     |█████████████████████▎          | 911kB 7.8MB/s eta 0:00:01\r\u001b[K     |█████████████████████▌          | 921kB 7.8MB/s eta 0:00:01\r\u001b[K     |█████████████████████▊          | 931kB 7.8MB/s eta 0:00:01\r\u001b[K     |██████████████████████          | 942kB 7.8MB/s eta 0:00:01\r\u001b[K     |██████████████████████▎         | 952kB 7.8MB/s eta 0:00:01\r\u001b[K     |██████████████████████▌         | 962kB 7.8MB/s eta 0:00:01\r\u001b[K     |██████████████████████▊         | 972kB 7.8MB/s eta 0:00:01\r\u001b[K     |███████████████████████         | 983kB 7.8MB/s eta 0:00:01\r\u001b[K     |███████████████████████▏        | 993kB 7.8MB/s eta 0:00:01\r\u001b[K     |███████████████████████▍        | 1.0MB 7.8MB/s eta 0:00:01\r\u001b[K     |███████████████████████▊        | 1.0MB 7.8MB/s eta 0:00:01\r\u001b[K     |████████████████████████        | 1.0MB 7.8MB/s eta 0:00:01\r\u001b[K     |████████████████████████▏       | 1.0MB 7.8MB/s eta 0:00:01\r\u001b[K     |████████████████████████▍       | 1.0MB 7.8MB/s eta 0:00:01\r\u001b[K     |████████████████████████▋       | 1.1MB 7.8MB/s eta 0:00:01\r\u001b[K     |████████████████████████▉       | 1.1MB 7.8MB/s eta 0:00:01\r\u001b[K     |█████████████████████████       | 1.1MB 7.8MB/s eta 0:00:01\r\u001b[K     |█████████████████████████▍      | 1.1MB 7.8MB/s eta 0:00:01\r\u001b[K     |█████████████████████████▋      | 1.1MB 7.8MB/s eta 0:00:01\r\u001b[K     |█████████████████████████▉      | 1.1MB 7.8MB/s eta 0:00:01\r\u001b[K     |██████████████████████████      | 1.1MB 7.8MB/s eta 0:00:01\r\u001b[K     |██████████████████████████▎     | 1.1MB 7.8MB/s eta 0:00:01\r\u001b[K     |██████████████████████████▌     | 1.1MB 7.8MB/s eta 0:00:01\r\u001b[K     |██████████████████████████▉     | 1.1MB 7.8MB/s eta 0:00:01\r\u001b[K     |███████████████████████████     | 1.2MB 7.8MB/s eta 0:00:01\r\u001b[K     |███████████████████████████▎    | 1.2MB 7.8MB/s eta 0:00:01\r\u001b[K     |███████████████████████████▌    | 1.2MB 7.8MB/s eta 0:00:01\r\u001b[K     |███████████████████████████▊    | 1.2MB 7.8MB/s eta 0:00:01\r\u001b[K     |████████████████████████████    | 1.2MB 7.8MB/s eta 0:00:01\r\u001b[K     |████████████████████████████▏   | 1.2MB 7.8MB/s eta 0:00:01\r\u001b[K     |████████████████████████████▌   | 1.2MB 7.8MB/s eta 0:00:01\r\u001b[K     |████████████████████████████▊   | 1.2MB 7.8MB/s eta 0:00:01\r\u001b[K     |█████████████████████████████   | 1.2MB 7.8MB/s eta 0:00:01\r\u001b[K     |█████████████████████████████▏  | 1.2MB 7.8MB/s eta 0:00:01\r\u001b[K     |█████████████████████████████▍  | 1.3MB 7.8MB/s eta 0:00:01\r\u001b[K     |█████████████████████████████▋  | 1.3MB 7.8MB/s eta 0:00:01\r\u001b[K     |██████████████████████████████  | 1.3MB 7.8MB/s eta 0:00:01\r\u001b[K     |██████████████████████████████▏ | 1.3MB 7.8MB/s eta 0:00:01\r\u001b[K     |██████████████████████████████▍ | 1.3MB 7.8MB/s eta 0:00:01\r\u001b[K     |██████████████████████████████▋ | 1.3MB 7.8MB/s eta 0:00:01\r\u001b[K     |██████████████████████████████▉ | 1.3MB 7.8MB/s eta 0:00:01\r\u001b[K     |███████████████████████████████ | 1.3MB 7.8MB/s eta 0:00:01\r\u001b[K     |███████████████████████████████▎| 1.3MB 7.8MB/s eta 0:00:01\r\u001b[K     |███████████████████████████████▋| 1.4MB 7.8MB/s eta 0:00:01\r\u001b[K     |███████████████████████████████▉| 1.4MB 7.8MB/s eta 0:00:01\r\u001b[K     |████████████████████████████████| 1.4MB 7.8MB/s \n",
            "\u001b[?25hRequirement already satisfied: matplotlib in /usr/local/lib/python3.6/dist-packages (from captum) (3.2.2)\n",
            "Requirement already satisfied: torch>=1.2 in /usr/local/lib/python3.6/dist-packages (from captum) (1.5.1+cu101)\n",
            "Requirement already satisfied: numpy in /usr/local/lib/python3.6/dist-packages (from captum) (1.18.5)\n",
            "Requirement already satisfied: python-dateutil>=2.1 in /usr/local/lib/python3.6/dist-packages (from matplotlib->captum) (2.8.1)\n",
            "Requirement already satisfied: kiwisolver>=1.0.1 in /usr/local/lib/python3.6/dist-packages (from matplotlib->captum) (1.2.0)\n",
            "Requirement already satisfied: pyparsing!=2.0.4,!=2.1.2,!=2.1.6,>=2.0.1 in /usr/local/lib/python3.6/dist-packages (from matplotlib->captum) (2.4.7)\n",
            "Requirement already satisfied: cycler>=0.10 in /usr/local/lib/python3.6/dist-packages (from matplotlib->captum) (0.10.0)\n",
            "Requirement already satisfied: future in /usr/local/lib/python3.6/dist-packages (from torch>=1.2->captum) (0.16.0)\n",
            "Requirement already satisfied: six>=1.5 in /usr/local/lib/python3.6/dist-packages (from python-dateutil>=2.1->matplotlib->captum) (1.12.0)\n",
            "Installing collected packages: captum\n",
            "Successfully installed captum-0.2.0\n"
          ],
          "name": "stdout"
        }
      ]
    },
    {
      "cell_type": "code",
      "metadata": {
        "id": "SYVCaev5YQEt",
        "colab_type": "code",
        "colab": {
          "base_uri": "https://localhost:8080/",
          "height": 311,
          "referenced_widgets": [
            "ab229cc676874c90bf046fb94fd3fa60",
            "934492d3ee1b46c78f7fd70d3c0cbfe2",
            "a3b3b3cefc794794a29b2a3192290595",
            "a3eda638ed1849419a887a4ddcd1381c",
            "83143c218726468d9f5fcb9ed536f4bb",
            "3908b8c214fa47e2b32fa12909f88f5f",
            "3e0d7c19ae374c5fae4a8aa99b52e1e9",
            "8f24c5651fb44e48b65a828593744690",
            "94b36198adb34bc88312d5effa2129fa",
            "0e45e5b6b9f54576a65097f3acd4360e",
            "4f13ab44ccf64f7987c2f407f7a448a4",
            "32573d7ed64943b787056598686fc28f",
            "40eab1dcfc414260ab99885b87b62118",
            "2161e987f4494e84a5881e5ce04d3c1e",
            "426cf076519f402baab6040843cb97e7",
            "288e332fe91c4a45943292a2b77ca3e6",
            "934981f626a14d6f958b5ac3447fc9b5",
            "feef88bf83634e3ea0f0248bf410d2e0",
            "e06c4cc9b0f54e3a9b5c0c779b948f06",
            "eb622745c3264b7194dc84a231fd112d",
            "c920126374514f5eaf8b80dd29707652",
            "df027ac8084b471e86c7c6c51432c1eb",
            "1487de7ce9244079a340e9a847e455a5",
            "aa1b2a20853a4bd5ad8db8fa940c2e34",
            "5ae37be114ff4bd68203c416941e7e33",
            "ba2f4f6421574b74bf471b1c73fca0a8",
            "b88f03e395c94196bcd50d83175abcbc",
            "94eebedbbd014895aaaa9770fbde5e2e",
            "eb854e45c685463cab29116f33406c36",
            "e9b5635d3122406880bcac17df44355c",
            "189641f49b8242b58a62645646edcb3d",
            "e5c88aadd8b04f009111a36662cb52a0",
            "7b3fd05d7c6f4d4ca68d8d6e08f55a2d",
            "1735b497db5944b2b7108d74df717957",
            "d3eda58be4064334a7e6724c66a63695",
            "6e75be91391447b287a6110f99f443c6",
            "917551506b2d419c87c2c9229e55c5f6",
            "e6541123f105482ca03d0fe972837a76",
            "cf6c54e8100d4c3e9867d847073eb07a",
            "37e79f27ff1b404dbf714f231f5bcc4d",
            "9268dfaefeab42fe8de3a781639d11e9",
            "8a84d2c89fbc4123af08b1cb50eb7d8d",
            "493d9789b7474c7e9040b20757b7e5b5",
            "b10ef6c387204924be63238a754ff683",
            "98f2e421cbfe4d18836ef1371876dec4",
            "821c569fb7574f0a9b7cfd285ba5c999",
            "e3353752684b41c6bff7078f3f4365b6",
            "f7b1989e164c4c00b79d4e10cff35cd4"
          ]
        },
        "outputId": "a6518053-fcd5-4b36-a051-0c2f1e3e8ffe"
      },
      "source": [
        "if QA_EXTRACTION:\n",
        "  from transformers import ( AutoTokenizer, AutoModelForQuestionAnswering )\n",
        "\n",
        "  tokenizer = AutoTokenizer.from_pretrained(QA_MODEL_NAME)\n",
        "  model = AutoModelForQuestionAnswering.from_pretrained(QA_MODEL_NAME)"
      ],
      "execution_count": 12,
      "outputs": [
        {
          "output_type": "display_data",
          "data": {
            "application/vnd.jupyter.widget-view+json": {
              "model_id": "ab229cc676874c90bf046fb94fd3fa60",
              "version_minor": 0,
              "version_major": 2
            },
            "text/plain": [
              "HBox(children=(FloatProgress(value=0.0, description='Downloading', max=717.0, style=ProgressStyle(description_…"
            ]
          },
          "metadata": {
            "tags": []
          }
        },
        {
          "output_type": "stream",
          "text": [
            "\n"
          ],
          "name": "stdout"
        },
        {
          "output_type": "display_data",
          "data": {
            "application/vnd.jupyter.widget-view+json": {
              "model_id": "94b36198adb34bc88312d5effa2129fa",
              "version_minor": 0,
              "version_major": 2
            },
            "text/plain": [
              "HBox(children=(FloatProgress(value=0.0, description='Downloading', max=760289.0, style=ProgressStyle(descripti…"
            ]
          },
          "metadata": {
            "tags": []
          }
        },
        {
          "output_type": "stream",
          "text": [
            "\n"
          ],
          "name": "stdout"
        },
        {
          "output_type": "display_data",
          "data": {
            "application/vnd.jupyter.widget-view+json": {
              "model_id": "934981f626a14d6f958b5ac3447fc9b5",
              "version_minor": 0,
              "version_major": 2
            },
            "text/plain": [
              "HBox(children=(FloatProgress(value=0.0, description='Downloading', max=2.0, style=ProgressStyle(description_wi…"
            ]
          },
          "metadata": {
            "tags": []
          }
        },
        {
          "output_type": "stream",
          "text": [
            "\n"
          ],
          "name": "stdout"
        },
        {
          "output_type": "display_data",
          "data": {
            "application/vnd.jupyter.widget-view+json": {
              "model_id": "5ae37be114ff4bd68203c416941e7e33",
              "version_minor": 0,
              "version_major": 2
            },
            "text/plain": [
              "HBox(children=(FloatProgress(value=0.0, description='Downloading', max=156.0, style=ProgressStyle(description_…"
            ]
          },
          "metadata": {
            "tags": []
          }
        },
        {
          "output_type": "stream",
          "text": [
            "\n"
          ],
          "name": "stdout"
        },
        {
          "output_type": "display_data",
          "data": {
            "application/vnd.jupyter.widget-view+json": {
              "model_id": "7b3fd05d7c6f4d4ca68d8d6e08f55a2d",
              "version_minor": 0,
              "version_major": 2
            },
            "text/plain": [
              "HBox(children=(FloatProgress(value=0.0, description='Downloading', max=58.0, style=ProgressStyle(description_w…"
            ]
          },
          "metadata": {
            "tags": []
          }
        },
        {
          "output_type": "stream",
          "text": [
            "\n"
          ],
          "name": "stdout"
        },
        {
          "output_type": "display_data",
          "data": {
            "application/vnd.jupyter.widget-view+json": {
              "model_id": "9268dfaefeab42fe8de3a781639d11e9",
              "version_minor": 0,
              "version_major": 2
            },
            "text/plain": [
              "HBox(children=(FloatProgress(value=0.0, description='Downloading', max=234922444.0, style=ProgressStyle(descri…"
            ]
          },
          "metadata": {
            "tags": []
          }
        },
        {
          "output_type": "stream",
          "text": [
            "\n"
          ],
          "name": "stdout"
        }
      ]
    },
    {
      "cell_type": "code",
      "metadata": {
        "id": "eRmN-BLTg-Cp",
        "colab_type": "code",
        "colab": {
          "base_uri": "https://localhost:8080/",
          "height": 34
        },
        "outputId": "4a57cd66-2bcd-44e0-c645-ac8a03ebf5be"
      },
      "source": [
        "if QA_EXTRACTION:\n",
        "  # inspect tokenizer max length\n",
        "  print(f'Tokenizer max input length {tokenizer.model_max_length}')"
      ],
      "execution_count": 13,
      "outputs": [
        {
          "output_type": "stream",
          "text": [
            "Tokenizer max input length 512\n"
          ],
          "name": "stdout"
        }
      ]
    },
    {
      "cell_type": "markdown",
      "metadata": {
        "id": "E_0kkjUZ2eY4",
        "colab_type": "text"
      },
      "source": [
        "## Load Training Data"
      ]
    },
    {
      "cell_type": "markdown",
      "metadata": {
        "id": "yMsq8Jq92hqY",
        "colab_type": "text"
      },
      "source": [
        "### Load ALBERT multi-label training data\n",
        "Some example datasets:\n",
        "-  The [Corpus of Linguistic Acceptability (CoLA)](https://nyu-mll.github.io/CoLA/) dataset for single sentence classification, which is about sentences labeled as grammatically correct or incorrect - part of GLUE benchmark\n",
        "  * raw/in_domain_train.tsv (8551 lines), split further to 9:1 as train/validation\n",
        "  * raw/in_domain_dev.tsv (527 lines)"
      ]
    },
    {
      "cell_type": "code",
      "metadata": {
        "id": "69BwAoop3B39",
        "colab_type": "code",
        "colab": {}
      },
      "source": [
        "if MULTILABEL_INTENT:\n",
        "  import wget\n",
        "  import os\n",
        "\n",
        "  print('Downloading dataset...')\n",
        "\n",
        "  # The URL for the dataset zip file.\n",
        "  url = 'https://nyu-mll.github.io/CoLA/cola_public_1.1.zip'\n",
        "\n",
        "  # Download the file (if we haven't already)\n",
        "  if not os.path.exists('./cola_public_1.1.zip'):\n",
        "      wget.download(url, './cola_public_1.1.zip')"
      ],
      "execution_count": 14,
      "outputs": []
    },
    {
      "cell_type": "code",
      "metadata": {
        "id": "k-6TYXW63EoT",
        "colab_type": "code",
        "colab": {}
      },
      "source": [
        "if MULTILABEL_INTENT:\n",
        "  # Unzip the dataset (if we haven't already)\n",
        "  if not os.path.exists('./cola_public/'):\n",
        "      !unzip cola_public_1.1.zip"
      ],
      "execution_count": 15,
      "outputs": []
    },
    {
      "cell_type": "code",
      "metadata": {
        "id": "fQ05DmNwNisG",
        "colab_type": "code",
        "colab": {}
      },
      "source": [
        "if MULTILABEL_INTENT:\n",
        "  import pandas as pd\n",
        "\n",
        "  # Load the dataset into a pandas dataframe.\n",
        "  df = pd.read_csv(\"./cola_public/raw/in_domain_train.tsv\", delimiter='\\t', header=None, names=['sentence_source', 'label', 'label_notes', 'sentence'])\n",
        "\n",
        "  # Report the number of sentences.\n",
        "  print('Number of training sentences: {:,}\\n'.format(df.shape[0]))\n",
        "\n",
        "  # Display 10 random rows from the data.\n",
        "  df.sample(10)"
      ],
      "execution_count": 16,
      "outputs": []
    },
    {
      "cell_type": "code",
      "metadata": {
        "id": "PQGgzX_z3H6W",
        "colab_type": "code",
        "colab": {}
      },
      "source": [
        "if MULTILABEL_INTENT:\n",
        "  # Get the lists of sentences and their labels.\n",
        "  sentences = df.sentence.values\n",
        "  labels = df.label.values"
      ],
      "execution_count": 17,
      "outputs": []
    },
    {
      "cell_type": "code",
      "metadata": {
        "id": "gln6YeRtN4JR",
        "colab_type": "code",
        "colab": {}
      },
      "source": [
        "# if MULTILABEL_INTENT:\n",
        "#   from transformers import BertTokenizer\n",
        "\n",
        "#   # Load the BERT tokenizer.\n",
        "#   print('Loading BERT tokenizer...')\n",
        "#   tokenizer = BertTokenizer.from_pretrained('bert-base-uncased', do_lower_case=True)"
      ],
      "execution_count": 18,
      "outputs": []
    },
    {
      "cell_type": "code",
      "metadata": {
        "id": "Itn0AJ3Y2uDU",
        "colab_type": "code",
        "colab": {}
      },
      "source": [
        "if MULTILABEL_INTENT:\n",
        "  max_len = 0\n",
        "\n",
        "  # For every sentence...\n",
        "  for sent in sentences:\n",
        "\n",
        "      # Tokenize the text and add `[CLS]` and `[SEP]` tokens.\n",
        "      input_ids = tokenizer.encode(sent, add_special_tokens=True)\n",
        "\n",
        "      # Update the maximum sentence length.\n",
        "      max_len = max(max_len, len(input_ids))\n",
        "\n",
        "  print('Max sentence length: ', max_len)"
      ],
      "execution_count": 19,
      "outputs": []
    },
    {
      "cell_type": "code",
      "metadata": {
        "id": "8MFSxXoZ2ury",
        "colab_type": "code",
        "colab": {}
      },
      "source": [
        "if MULTILABEL_INTENT:\n",
        "  # Tokenize all of the sentences and map the tokens to thier word IDs.\n",
        "  input_ids = []\n",
        "  attention_masks = []\n",
        "\n",
        "  # For every sentence...\n",
        "  for sent in sentences:\n",
        "      # `encode_plus` will:\n",
        "      #   (1) Tokenize the sentence.\n",
        "      #   (2) Prepend the `[CLS]` token to the start.\n",
        "      #   (3) Append the `[SEP]` token to the end.\n",
        "      #   (4) Map tokens to their IDs.\n",
        "      #   (5) Pad or truncate the sentence to `max_length`\n",
        "      #   (6) Create attention masks for [PAD] tokens.\n",
        "      encoded_dict = tokenizer.encode_plus(\n",
        "                          sent,                      # Sentence to encode.\n",
        "                          add_special_tokens = True, # Add '[CLS]' and '[SEP]'\n",
        "                          max_length = 64,           # Pad & truncate all sentences.\n",
        "                          pad_to_max_length = True,\n",
        "                          return_attention_mask = True,   # Construct attn. masks.\n",
        "                          return_tensors = 'pt',     # Return pytorch tensors.\n",
        "                    )\n",
        "      \n",
        "      # Add the encoded sentence to the list.    \n",
        "      input_ids.append(encoded_dict['input_ids'])\n",
        "      \n",
        "      # And its attention mask (simply differentiates padding from non-padding).\n",
        "      attention_masks.append(encoded_dict['attention_mask'])\n",
        "\n",
        "  # Convert the lists into tensors.\n",
        "  input_ids = torch.cat(input_ids, dim=0)\n",
        "  attention_masks = torch.cat(attention_masks, dim=0)\n",
        "  labels = torch.tensor(labels)\n",
        "\n",
        "  # Print sentence 0, now as a list of IDs.\n",
        "  print('Original: ', sentences[0])\n",
        "  print('Token IDs:', input_ids[0])\n",
        "  print('Labels:', labels[0])\n",
        "  print('Attention Masks:', attention_masks[0])\n"
      ],
      "execution_count": 20,
      "outputs": []
    },
    {
      "cell_type": "markdown",
      "metadata": {
        "id": "_DMC_aFXyFLT",
        "colab_type": "text"
      },
      "source": [
        "#### Label structure expected by [AlbertForSequenceClassification](https://huggingface.co/transformers/model_doc/albert.html#albertforsequenceclassification)\n",
        "labels (torch.**LongTensor** of **shape (batch_size,)**, optional, defaults to None)\n",
        "- Labels for computing the sequence classification/regression loss. Indices should be in [0, ..., config.num_labels - 1]. \n",
        "- If config.num_labels == 1 a regression loss is computed (Mean-Square loss), If config.num_labels > 1 a classification loss is computed (Cross-Entropy)."
      ]
    },
    {
      "cell_type": "code",
      "metadata": {
        "id": "QoxpJ0PinV5E",
        "colab_type": "code",
        "colab": {}
      },
      "source": [
        "if MULTILABEL_INTENT:\n",
        "  # label data is grammar correctness: one per sentence\n",
        "  assert(max(labels).dtype == torch.int64)\n",
        "  assert(min(labels) == 0 and max(labels) == 1)"
      ],
      "execution_count": 21,
      "outputs": []
    },
    {
      "cell_type": "code",
      "metadata": {
        "id": "iZBLmWOx2ntJ",
        "colab_type": "code",
        "colab": {}
      },
      "source": [
        "if MULTILABEL_INTENT:\n",
        "  from torch.utils.data import TensorDataset, random_split\n",
        "\n",
        "  # Combine the training inputs into a TensorDataset.\n",
        "  dataset = TensorDataset(input_ids, attention_masks, labels)\n",
        "\n",
        "  # Create a 90-10 train-validation split.\n",
        "\n",
        "  # Calculate the number of samples to include in each set.\n",
        "  train_size = int(0.9 * len(dataset))\n",
        "  val_size = len(dataset) - train_size\n",
        "\n",
        "  # Divide the dataset by randomly selecting samples.\n",
        "  train_dataset, val_dataset = random_split(dataset, [train_size, val_size])\n",
        "\n",
        "  print('{:>5,} training samples'.format(train_size))\n",
        "  print('{:>5,} validation samples'.format(val_size))"
      ],
      "execution_count": 22,
      "outputs": []
    },
    {
      "cell_type": "code",
      "metadata": {
        "id": "3gtTbEP32gL2",
        "colab_type": "code",
        "colab": {}
      },
      "source": [
        "if MULTILABEL_INTENT:\n",
        "  from torch.utils.data import DataLoader, RandomSampler, SequentialSampler\n",
        "\n",
        "  # The DataLoader needs to know our batch size for training, so we specify it \n",
        "  # here. For fine-tuning BERT on a specific task, the authors recommend a batch \n",
        "  # size of 16 or 32.\n",
        "  batch_size = 32\n",
        "\n",
        "  # Create the DataLoaders for our training and validation sets.\n",
        "  # We'll take training samples in random order. \n",
        "  train_dataloader = DataLoader(\n",
        "              train_dataset,  # The training samples.\n",
        "              sampler = RandomSampler(train_dataset), # Select batches randomly\n",
        "              batch_size = batch_size # Trains with this batch size.\n",
        "          )\n",
        "\n",
        "  # For validation the order doesn't matter, so we'll just read them sequentially.\n",
        "  validation_dataloader = DataLoader(\n",
        "              val_dataset, # The validation samples.\n",
        "              sampler = SequentialSampler(val_dataset), # Pull out batches sequentially.\n",
        "              batch_size = batch_size # Evaluate with this batch size.\n",
        "          )"
      ],
      "execution_count": 23,
      "outputs": []
    },
    {
      "cell_type": "markdown",
      "metadata": {
        "id": "SzzoWKjf1okN",
        "colab_type": "text"
      },
      "source": [
        "## Fine-tuning"
      ]
    },
    {
      "cell_type": "markdown",
      "metadata": {
        "id": "LQDMF6PZ1rZr",
        "colab_type": "text"
      },
      "source": [
        "### Fine-tune the ALBERT multi-label classification"
      ]
    },
    {
      "cell_type": "code",
      "metadata": {
        "id": "aUiyi6PM1v6s",
        "colab_type": "code",
        "colab": {}
      },
      "source": [
        "if MULTILABEL_INTENT:\n",
        "  from transformers import AdamW\n",
        "\n",
        "  # Optimizer and LR setup\n",
        "  # Note: AdamW is a class from the huggingface library (as opposed to pytorch) \n",
        "  # I believe the 'W' stands for 'Weight Decay fix\"\n",
        "  optimizer = AdamW(\n",
        "      model.parameters(),\n",
        "      lr = 2e-5, # args.learning_rate - default is 5e-5, our notebook had 2e-5\n",
        "      eps = 1e-8 # args.adam_epsilon  - default is 1e-8.\n",
        "    )"
      ],
      "execution_count": 24,
      "outputs": []
    },
    {
      "cell_type": "code",
      "metadata": {
        "id": "-61o1eSE11SH",
        "colab_type": "code",
        "colab": {}
      },
      "source": [
        "if MULTILABEL_INTENT:\n",
        "  from transformers import get_linear_schedule_with_warmup\n",
        "\n",
        "  # Number of training epochs. The BERT authors recommend between 2 and 4. \n",
        "  # We chose to run for 4, but we'll see later that this may be over-fitting the\n",
        "  # training data.\n",
        "  epochs = 4\n",
        "\n",
        "  # Total number of training steps is [number of batches] x [number of epochs]. \n",
        "  # (Note that this is not the same as the number of training samples).\n",
        "  total_steps = len(train_dataloader) * epochs\n",
        "\n",
        "  # Create the learning rate scheduler.\n",
        "  scheduler = get_linear_schedule_with_warmup(\n",
        "      optimizer, \n",
        "      num_warmup_steps = 0, # Default value in run_glue.py\n",
        "      num_training_steps = total_steps)"
      ],
      "execution_count": 25,
      "outputs": []
    },
    {
      "cell_type": "markdown",
      "metadata": {
        "id": "QdbhrVSTORFu",
        "colab_type": "text"
      },
      "source": [
        "### Traing Loop"
      ]
    },
    {
      "cell_type": "code",
      "metadata": {
        "id": "fZxYOmG_OTvh",
        "colab_type": "code",
        "colab": {}
      },
      "source": [
        "if MULTILABEL_INTENT:\n",
        "  import numpy as np\n",
        "\n",
        "  # Function to calculate the accuracy of our predictions vs labels\n",
        "  def flat_accuracy(preds, labels):\n",
        "      pred_flat = np.argmax(preds, axis=1).flatten()\n",
        "      labels_flat = labels.flatten()\n",
        "      return np.sum(pred_flat == labels_flat) / len(labels_flat)"
      ],
      "execution_count": 26,
      "outputs": []
    },
    {
      "cell_type": "code",
      "metadata": {
        "id": "UExhKxy2OXPt",
        "colab_type": "code",
        "colab": {}
      },
      "source": [
        "if MULTILABEL_INTENT:\n",
        "  import time\n",
        "  import datetime\n",
        "\n",
        "  def format_time(elapsed):\n",
        "      '''\n",
        "      Takes a time in seconds and returns a string hh:mm:ss\n",
        "      '''\n",
        "      # Round to the nearest second.\n",
        "      elapsed_rounded = int(round((elapsed)))\n",
        "      \n",
        "      # Format as hh:mm:ss\n",
        "      return str(datetime.timedelta(seconds=elapsed_rounded))"
      ],
      "execution_count": 27,
      "outputs": []
    },
    {
      "cell_type": "code",
      "metadata": {
        "id": "d1MpfideOcBV",
        "colab_type": "code",
        "colab": {
          "base_uri": "https://localhost:8080/",
          "height": 51
        },
        "outputId": "1f1c4a68-a4d1-4c7e-85ce-c33ad0a8fbd1"
      },
      "source": [
        "if MULTILABEL_INTENT:\n",
        "  import random\n",
        "  import numpy as np\n",
        "\n",
        "  # This training code is based on the `run_glue.py` script here:\n",
        "  # https://github.com/huggingface/transformers/blob/5bfcd0485ece086ebcbed2d008813037968a9e58/examples/run_glue.py#L128\n",
        "\n",
        "  # Set the seed value all over the place to make this reproducible.\n",
        "  seed_val = 42\n",
        "\n",
        "  random.seed(seed_val)\n",
        "  np.random.seed(seed_val)\n",
        "  torch.manual_seed(seed_val)\n",
        "  torch.cuda.manual_seed_all(seed_val)\n",
        "\n",
        "  # We'll store a number of quantities such as training and validation loss, \n",
        "  # validation accuracy, and timings.\n",
        "  training_stats = []\n",
        "\n",
        "  # Measure the total training time for the whole run.\n",
        "  total_t0 = time.time()\n",
        "\n",
        "  # For each epoch...\n",
        "  for epoch_i in range(0, epochs):\n",
        "      \n",
        "      # ========================================\n",
        "      #               Training\n",
        "      # ========================================\n",
        "      \n",
        "      # Perform one full pass over the training set.\n",
        "\n",
        "      print(\"\")\n",
        "      print('======== Epoch {:} / {:} ========'.format(epoch_i + 1, epochs))\n",
        "      print('Training...')\n",
        "\n",
        "      # Measure how long the training epoch takes.\n",
        "      t0 = time.time()\n",
        "\n",
        "      # Reset the total loss for this epoch.\n",
        "      total_train_loss = 0\n",
        "\n",
        "      # Put the model into training mode. Don't be mislead--the call to \n",
        "      # `train` just changes the *mode*, it doesn't *perform* the training.\n",
        "      # `dropout` and `batchnorm` layers behave differently during training\n",
        "      # vs. test (source: https://stackoverflow.com/questions/51433378/what-does-model-train-do-in-pytorch)\n",
        "      model.train()\n",
        "\n",
        "      # For each batch of training data...\n",
        "      for step, batch in enumerate(train_dataloader):\n",
        "          # batch[0].shape, batch[1].shape, batch[2].shape \n",
        "          # torch.Size([24, 64]) torch.Size([24, 64]) torch.Size([24])\n",
        "          assert(len(batch) == 3, 'each batch contains 3 tensors: ids, masks and labels')\n",
        "\n",
        "          # Progress update every 40 batches.\n",
        "          if step % 40 == 0 and not step == 0:\n",
        "              # Calculate elapsed time in minutes.\n",
        "              elapsed = format_time(time.time() - t0)\n",
        "              \n",
        "              # Report progress.\n",
        "              print('  Batch {:>5,}  of  {:>5,}.    Elapsed: {:}.'.format(step, len(train_dataloader), elapsed))\n",
        "\n",
        "          # Unpack this training batch from our dataloader. \n",
        "          #\n",
        "          # As we unpack the batch, we'll also copy each tensor to the GPU using the \n",
        "          # `to` method.\n",
        "          #\n",
        "          # `batch` contains three pytorch tensors:\n",
        "          #   [0]: input ids \n",
        "          #   [1]: attention masks\n",
        "          #   [2]: labels \n",
        "          b_input_ids = batch[0].to(device)\n",
        "          b_input_mask = batch[1].to(device)\n",
        "          b_labels = batch[2].to(device)\n",
        "\n",
        "          # Always clear any previously calculated gradients before performing a\n",
        "          # backward pass. PyTorch doesn't do this automatically because \n",
        "          # accumulating the gradients is \"convenient while training RNNs\". \n",
        "          # (source: https://stackoverflow.com/questions/48001598/why-do-we-need-to-call-zero-grad-in-pytorch)\n",
        "          model.zero_grad()        \n",
        "\n",
        "          # Perform a forward pass (evaluate the model on this training batch).\n",
        "          # The documentation for this `model` function is here: \n",
        "          # https://huggingface.co/transformers/v2.2.0/model_doc/bert.html#transformers.BertForSequenceClassification\n",
        "          # It returns different numbers of parameters depending on what arguments\n",
        "          # arge given and what flags are set. For our useage here, it returns\n",
        "          # the loss (because we provided labels) and the \"logits\"--the model\n",
        "          # outputs prior to activation.\n",
        "          loss, logits = model(b_input_ids, \n",
        "                              token_type_ids=None, \n",
        "                              attention_mask=b_input_mask, \n",
        "                              labels=b_labels)\n",
        "\n",
        "          # Accumulate the training loss over all of the batches so that we can\n",
        "          # calculate the average loss at the end. `loss` is a Tensor containing a\n",
        "          # single value; the `.item()` function just returns the Python value \n",
        "          # from the tensor.\n",
        "          total_train_loss += loss.item()\n",
        "\n",
        "          # Perform a backward pass to calculate the gradients.\n",
        "          loss.backward()\n",
        "\n",
        "          # Clip the norm of the gradients to 1.0.\n",
        "          # This is to help prevent the \"exploding gradients\" problem.\n",
        "          torch.nn.utils.clip_grad_norm_(model.parameters(), 1.0)\n",
        "\n",
        "          # Update parameters and take a step using the computed gradient.\n",
        "          # The optimizer dictates the \"update rule\"--how the parameters are\n",
        "          # modified based on their gradients, the learning rate, etc.\n",
        "          optimizer.step()\n",
        "\n",
        "          # Update the learning rate.\n",
        "          scheduler.step()\n",
        "\n",
        "      # Calculate the average loss over all of the batches.\n",
        "      avg_train_loss = total_train_loss / len(train_dataloader)            \n",
        "      \n",
        "      # Measure how long this epoch took.\n",
        "      training_time = format_time(time.time() - t0)\n",
        "\n",
        "      print(\"\")\n",
        "      print(\"  Average training loss: {0:.2f}\".format(avg_train_loss))\n",
        "      print(\"  Training epcoh took: {:}\".format(training_time))\n",
        "          \n",
        "      # ========================================\n",
        "      #               Validation\n",
        "      # ========================================\n",
        "      # After the completion of each training epoch, measure our performance on\n",
        "      # our validation set.\n",
        "\n",
        "      print(\"\")\n",
        "      print(\"Running Validation...\")\n",
        "\n",
        "      t0 = time.time()\n",
        "\n",
        "      # Put the model in evaluation mode--the dropout layers behave differently\n",
        "      # during evaluation.\n",
        "      model.eval()\n",
        "\n",
        "      # Tracking variables \n",
        "      total_eval_accuracy = 0\n",
        "      total_eval_loss = 0\n",
        "      nb_eval_steps = 0\n",
        "\n",
        "      # Evaluate data for one epoch\n",
        "      for batch in validation_dataloader:\n",
        "          \n",
        "          # Unpack this training batch from our dataloader. \n",
        "          #\n",
        "          # As we unpack the batch, we'll also copy each tensor to the GPU using \n",
        "          # the `to` method.\n",
        "          #\n",
        "          # `batch` contains three pytorch tensors:\n",
        "          #   [0]: input ids \n",
        "          #   [1]: attention masks\n",
        "          #   [2]: labels \n",
        "          b_input_ids = batch[0].to(device)\n",
        "          b_input_mask = batch[1].to(device)\n",
        "          b_labels = batch[2].to(device)\n",
        "          \n",
        "          # Tell pytorch not to bother with constructing the compute graph during\n",
        "          # the forward pass, since this is only needed for backprop (training).\n",
        "          with torch.no_grad():        \n",
        "\n",
        "              # Forward pass, calculate logit predictions.\n",
        "              # token_type_ids is the same as the \"segment ids\", which \n",
        "              # differentiates sentence 1 and 2 in 2-sentence tasks.\n",
        "              # The documentation for this `model` function is here: \n",
        "              # https://huggingface.co/transformers/v2.2.0/model_doc/bert.html#transformers.BertForSequenceClassification\n",
        "              # Get the \"logits\" output by the model. The \"logits\" are the output\n",
        "              # values prior to applying an activation function like the softmax.\n",
        "              (loss, logits) = model(b_input_ids, \n",
        "                                    token_type_ids=None, \n",
        "                                    attention_mask=b_input_mask,\n",
        "                                    labels=b_labels)\n",
        "              \n",
        "          # Accumulate the validation loss.\n",
        "          total_eval_loss += loss.item()\n",
        "\n",
        "          # Move logits and labels to CPU\n",
        "          logits = logits.detach().cpu().numpy()\n",
        "          label_ids = b_labels.to('cpu').numpy()\n",
        "\n",
        "          # Calculate the accuracy for this batch of test sentences, and\n",
        "          # accumulate it over all batches.\n",
        "          total_eval_accuracy += flat_accuracy(logits, label_ids)\n",
        "          \n",
        "\n",
        "      # Report the final accuracy for this validation run.\n",
        "      avg_val_accuracy = total_eval_accuracy / len(validation_dataloader)\n",
        "      print(\"  Accuracy: {0:.2f}\".format(avg_val_accuracy))\n",
        "\n",
        "      # Calculate the average loss over all of the batches.\n",
        "      avg_val_loss = total_eval_loss / len(validation_dataloader)\n",
        "      \n",
        "      # Measure how long the validation run took.\n",
        "      validation_time = format_time(time.time() - t0)\n",
        "      \n",
        "      print(\"  Validation Loss: {0:.2f}\".format(avg_val_loss))\n",
        "      print(\"  Validation took: {:}\".format(validation_time))\n",
        "\n",
        "      # Record all statistics from this epoch.\n",
        "      training_stats.append(\n",
        "          {\n",
        "              'epoch': epoch_i + 1,\n",
        "              'Training Loss': avg_train_loss,\n",
        "              'Valid. Loss': avg_val_loss,\n",
        "              'Valid. Accur.': avg_val_accuracy,\n",
        "              'Training Time': training_time,\n",
        "              'Validation Time': validation_time\n",
        "          }\n",
        "      )\n",
        "\n",
        "  print(\"\")\n",
        "  print(\"Training complete!\")\n",
        "\n",
        "  print(\"Total training took {:} (h:mm:ss)\".format(format_time(time.time()-total_t0)))"
      ],
      "execution_count": 28,
      "outputs": [
        {
          "output_type": "stream",
          "text": [
            "<ipython-input-28-55924490f309>:52: SyntaxWarning: assertion is always true, perhaps remove parentheses?\n",
            "  assert(len(batch) == 3, 'each batch contains 3 tensors: ids, masks and labels')\n"
          ],
          "name": "stderr"
        }
      ]
    },
    {
      "cell_type": "code",
      "metadata": {
        "id": "r73DkF6LOfMj",
        "colab_type": "code",
        "colab": {}
      },
      "source": [
        "if MULTILABEL_INTENT:\n",
        "  import pandas as pd\n",
        "\n",
        "  # Display floats with two decimal places.\n",
        "  pd.set_option('precision', 2)\n",
        "\n",
        "  # Create a DataFrame from our training statistics.\n",
        "  df_stats = pd.DataFrame(data=training_stats)\n",
        "\n",
        "  # Use the 'epoch' as the row index.\n",
        "  df_stats = df_stats.set_index('epoch')\n",
        "\n",
        "  # A hack to force the column headers to wrap.\n",
        "  #df = df.style.set_table_styles([dict(selector=\"th\",props=[('max-width', '70px')])])\n",
        "\n",
        "  # Display the table.\n",
        "  print(df_stats)"
      ],
      "execution_count": 29,
      "outputs": []
    },
    {
      "cell_type": "markdown",
      "metadata": {
        "id": "_RWhBu2BWfjM",
        "colab_type": "text"
      },
      "source": [
        "## Captum for QA Inference"
      ]
    },
    {
      "cell_type": "code",
      "metadata": {
        "id": "S9dw4CBhWhFq",
        "colab_type": "code",
        "colab": {}
      },
      "source": [
        "if QA_EXTRACTION and CAPTUM:\n",
        "  ref_token_id = tokenizer.pad_token_id # A token used for generating token reference\n",
        "  sep_token_id = tokenizer.sep_token_id # A token used as a separator between question and text and it is also added to the end of the text.\n",
        "  cls_token_id = tokenizer.cls_token_id # A token used for prepending to the concatenated question-text word sequence"
      ],
      "execution_count": 30,
      "outputs": []
    },
    {
      "cell_type": "markdown",
      "metadata": {
        "id": "6FAGKQ4QYn91",
        "colab_type": "text"
      },
      "source": [
        "We define a set of helper function for **constructing references / baselines** for \n",
        "- word tokens\n",
        "- token types and \n",
        "- position ids\n",
        "\n",
        "We also provide separate helper functions for all sub-(word)-embeddings of BertEmbeddings layer, that will construct  \n",
        "- the sub-(word)-embeddings and ...\n",
        "- corresponding baselines / references"
      ]
    },
    {
      "cell_type": "code",
      "metadata": {
        "id": "R44qeroHYgFl",
        "colab_type": "code",
        "colab": {}
      },
      "source": [
        "if QA_EXTRACTION and CAPTUM:\n",
        "  def construct_input_ref_pair(question, text, ref_token_id, sep_token_id, cls_token_id):\n",
        "      question_ids = tokenizer.encode(question, add_special_tokens=False)\n",
        "      text_ids = tokenizer.encode(text, add_special_tokens=False)\n",
        "\n",
        "      # construct input token ids\n",
        "      input_ids = [cls_token_id] + question_ids + [sep_token_id] + text_ids + [sep_token_id]\n",
        "\n",
        "      # construct reference token ids \n",
        "      ref_input_ids = [cls_token_id] + [ref_token_id] * len(question_ids) + [sep_token_id] + \\\n",
        "          [ref_token_id] * len(text_ids) + [sep_token_id]\n",
        "\n",
        "      return torch.tensor([input_ids], device=device), torch.tensor([ref_input_ids], device=device), len(question_ids)\n",
        "\n",
        "  def construct_input_ref_token_type_pair(input_ids, sep_ind=0):\n",
        "      seq_len = input_ids.size(1)\n",
        "      token_type_ids = torch.tensor([[0 if i <= sep_ind else 1 for i in range(seq_len)]], device=device)\n",
        "      ref_token_type_ids = torch.zeros_like(token_type_ids, device=device)# * -1\n",
        "      return token_type_ids, ref_token_type_ids\n",
        "\n",
        "  def construct_input_ref_pos_id_pair(input_ids):\n",
        "      seq_length = input_ids.size(1)\n",
        "      position_ids = torch.arange(seq_length, dtype=torch.long, device=device)\n",
        "      # we could potentially also use random permutation with `torch.randperm(seq_length, device=device)`\n",
        "      ref_position_ids = torch.zeros(seq_length, dtype=torch.long, device=device)\n",
        "\n",
        "      position_ids = position_ids.unsqueeze(0).expand_as(input_ids)\n",
        "      ref_position_ids = ref_position_ids.unsqueeze(0).expand_as(input_ids)\n",
        "      return position_ids, ref_position_ids\n",
        "      \n",
        "  def construct_attention_mask(input_ids):\n",
        "      return torch.ones_like(input_ids)\n",
        "\n",
        "  def construct_bert_sub_embedding(input_ids, ref_input_ids,\n",
        "                                    token_type_ids, ref_token_type_ids,\n",
        "                                    position_ids, ref_position_ids):\n",
        "      input_embeddings = interpretable_embedding1.indices_to_embeddings(input_ids)\n",
        "      ref_input_embeddings = interpretable_embedding1.indices_to_embeddings(ref_input_ids)\n",
        "\n",
        "      input_embeddings_token_type = interpretable_embedding2.indices_to_embeddings(token_type_ids)\n",
        "      ref_input_embeddings_token_type = interpretable_embedding2.indices_to_embeddings(ref_token_type_ids)\n",
        "\n",
        "      input_embeddings_position_ids = interpretable_embedding3.indices_to_embeddings(position_ids)\n",
        "      ref_input_embeddings_position_ids = interpretable_embedding3.indices_to_embeddings(ref_position_ids)\n",
        "      \n",
        "      return (input_embeddings, ref_input_embeddings), \\\n",
        "            (input_embeddings_token_type, ref_input_embeddings_token_type), \\\n",
        "            (input_embeddings_position_ids, ref_input_embeddings_position_ids)\n",
        "      \n",
        "  def construct_whole_bert_embeddings(input_ids, ref_input_ids, \\\n",
        "                                      token_type_ids=None, ref_token_type_ids=None, \\\n",
        "                                      position_ids=None, ref_position_ids=None):\n",
        "      input_embeddings = interpretable_embedding.indices_to_embeddings(input_ids, token_type_ids=token_type_ids, position_ids=position_ids)\n",
        "      ref_input_embeddings = interpretable_embedding.indices_to_embeddings(ref_input_ids, token_type_ids=token_type_ids, position_ids=position_ids)\n",
        "      \n",
        "      return input_embeddings, ref_input_embeddings"
      ],
      "execution_count": 31,
      "outputs": []
    },
    {
      "cell_type": "markdown",
      "metadata": {
        "id": "IxUPF8mHEuEq",
        "colab_type": "text"
      },
      "source": [
        "## Inference\n",
        "Source: https://pytorch.org/hub/huggingface_pytorch-transformers/\n"
      ]
    },
    {
      "cell_type": "code",
      "metadata": {
        "id": "6ghMbXVpFKhr",
        "colab_type": "code",
        "colab": {}
      },
      "source": [
        "if QA_EXTRACTION and not CAPTUM:\n",
        "  # model = torch.hub.load('huggingface/pytorch-transformers', 'modelForQuestionAnswering', 'bert-large-uncased-whole-word-masking-finetuned-squad')\n",
        "  # tokenizer = torch.hub.load('huggingface/pytorch-transformers', 'tokenizer', 'bert-large-uncased-whole-word-masking-finetuned-squad')\n",
        "\n",
        "  # The format is paragraph first and then question\n",
        "  # fact = \"Jim Henson was a puppeteer\"\n",
        "  # q = \"Who was Jim Henson ?\"\n",
        "  fact = input('Fact: ')\n",
        "  q = input('Question: ')\n",
        "\n",
        "  # Converts a list of string to a sequence of ids (integer), using the tokenizer and vocabulary. \n",
        "  # Also request to add model-specific special tokens (such as beginning of sequence, end of sequence, sequence separator).\n",
        "  indexed_tokens_fact = tokenizer.encode(fact, add_special_tokens=True)\n",
        "  indexed_tokens_q = tokenizer.encode(q, add_special_tokens=True)\n",
        "\n",
        "  # merge fact tokens and Q tokens by removing the START token in Q tokens - this is NOT pipeline way\n",
        "  # indexed_tokens = indexed_tokens_fact + indexed_tokens_q[1:]\n",
        "  # segments_ids = [0] * len(indexed_tokens_fact) + [1] * len(indexed_tokens_q[1:])\n",
        "  #\n",
        "  # this is pipeline way\n",
        "  indexed_tokens = indexed_tokens_q + indexed_tokens_fact[1:]\n",
        "  segments_ids = [0] * len(indexed_tokens_q) + [1] * len(indexed_tokens_ctx[1:])\n",
        "\n",
        "  print(f'Length is {len(indexed_tokens)}, Indexed token: {indexed_tokens}')\n",
        "\n",
        "  # Predict the start and end positions logits\n",
        "  segments_tensors = torch.tensor([segments_ids])\n",
        "  tokens_tensor = torch.tensor([indexed_tokens])\n",
        "\n",
        "  with torch.no_grad():\n",
        "      start_logits, end_logits = model(tokens_tensor, token_type_ids=segments_tensors)\n",
        "\n",
        "  # get the highest prediction\n",
        "  answer = tokenizer.decode(indexed_tokens[torch.argmax(start_logits):torch.argmax(end_logits)+1])\n",
        "  print(f'The answer is: {answer}')\n",
        "\n",
        "  # Or get the total loss which is the sum of the CrossEntropy loss for the start and end token positions (set model to train mode before if used for training)\n",
        "  # start_positions, end_positions = torch.tensor([12]), torch.tensor([14])\n",
        "  # multiple_choice_loss = model(tokens_tensor, token_type_ids=segments_tensors, start_positions=start_positions, end_positions=end_positions)"
      ],
      "execution_count": 32,
      "outputs": []
    },
    {
      "cell_type": "code",
      "metadata": {
        "colab_type": "code",
        "id": "V2USVU3Jd3CK",
        "colab": {
          "base_uri": "https://localhost:8080/",
          "height": 496
        },
        "outputId": "e0541468-0623-4274-cd5d-cc6bfb41cc8f"
      },
      "source": [
        "if QA_EXTRACTION and CAPTUM:\n",
        "  # model = torch.hub.load('huggingface/pytorch-transformers', 'modelForQuestionAnswering', 'bert-large-uncased-whole-word-masking-finetuned-squad')\n",
        "  # tokenizer = torch.hub.load('huggingface/pytorch-transformers', 'tokenizer', 'bert-large-uncased-whole-word-masking-finetuned-squad')\n",
        "\n",
        "  # The format is paragraph first and then question\n",
        "  # fact = \"Jim Henson was a puppeteer\"\n",
        "  # q = \"Who was Jim Henson ?\"\n",
        "  print('Context - e.g. It is important to us to include, empower and support humans of all kinds.')\n",
        "  print('Question - e.g. What is important to us?')\n",
        "  print('Ansewr - e.g. to include, empower and support humans of all kinds')\n",
        "  fact = input('Fact: ')\n",
        "  q = input('Question: ')\n",
        "\n",
        "  # Converts a list of string to a sequence of ids (integer), using the tokenizer and vocabulary. \n",
        "  # Also request to add model-specific special tokens (such as beginning of sequence, end of sequence, sequence separator).\n",
        "  indexed_tokens_fact = tokenizer.encode(fact, add_special_tokens=True)\n",
        "  indexed_tokens_q = tokenizer.encode(q, add_special_tokens=True)\n",
        "\n",
        "  # merge fact tokens and Q tokens by removing the START token in Q tokens - this is NOT pipeline way\n",
        "  # indexed_tokens = indexed_tokens_fact + indexed_tokens_q[1:]\n",
        "  # segments_ids = [0] * len(indexed_tokens_fact) + [1] * len(indexed_tokens_q[1:])\n",
        "  #\n",
        "  # this is pipeline way\n",
        "  indexed_tokens = indexed_tokens_q + indexed_tokens_fact[1:]\n",
        "  segments_ids = [0] * len(indexed_tokens_q) + [1] * len(indexed_tokens_fact[1:])\n",
        "\n",
        "  # Captum way\n",
        "  captum_input_ids, captum_ref_input_ids, captum_sep_id = construct_input_ref_pair(q, fact, ref_token_id, sep_token_id, cls_token_id)\n",
        "  captum_token_type_ids, captum_ref_token_type_ids = construct_input_ref_token_type_pair(captum_input_ids, captum_sep_id)\n",
        "  captum_position_ids, captum_ref_position_ids = construct_input_ref_pos_id_pair(captum_input_ids)\n",
        "  captum_attention_mask = construct_attention_mask(captum_input_ids)\n",
        "\n",
        "  captum_indices = captum_input_ids[0].detach().tolist()\n",
        "  captum_all_tokens = tokenizer.convert_ids_to_tokens(captum_indices)\n",
        "  # captum_all_tokens = tokenizer.decode(captum_indices)\n",
        "\n",
        "  if True:\n",
        "    print(f'indexed_tokens: {indexed_tokens}')\n",
        "    print(f'segments_ids: {segments_ids}')\n",
        "\n",
        "  if True:\n",
        "    print(f'captum_input_ids: {captum_input_ids}')\n",
        "    print(f'captum_ref_input_ids: {captum_ref_input_ids}')\n",
        "    print(f'captum_sep_id: {captum_sep_id}')\n",
        "    print(f'captum_token_type_ids: {captum_token_type_ids}')\n",
        "    print(f'captum_ref_token_type_ids: {captum_ref_token_type_ids}')\n",
        "    print(f'captum_position_ids: {captum_position_ids}')\n",
        "    print(f'captum_ref_position_ids: {captum_ref_position_ids}')\n",
        "    print(f'captum_attention_mask: {captum_attention_mask}')\n",
        "    print(f'captum_indices: {captum_indices}')\n",
        "    print(f'captum_all_tokens: {captum_all_tokens}')\n",
        "\n",
        "  print(f'Length is {len(indexed_tokens)}, Indexed token: {indexed_tokens}')\n",
        "\n",
        "  # Predict the start and end positions logits\n",
        "  segments_tensors = torch.tensor([segments_ids]).to(device)\n",
        "  tokens_tensor = torch.tensor([indexed_tokens]).to(device)\n",
        "  model = model.to(device)\n",
        "\n",
        "  with torch.no_grad():\n",
        "      start_logits, end_logits = model(tokens_tensor, token_type_ids=segments_tensors)\n",
        "\n",
        "  # get the highest prediction\n",
        "  answer = tokenizer.decode(indexed_tokens[torch.argmax(start_logits):torch.argmax(end_logits)+1])\n",
        "  print(f'The answer is: {answer}')\n",
        "\n",
        "  # Or get the total loss which is the sum of the CrossEntropy loss for the start and end token positions (set model to train mode before if used for training)\n",
        "  # start_positions, end_positions = torch.tensor([12]), torch.tensor([14])\n",
        "  # multiple_choice_loss = model(tokens_tensor, token_type_ids=segments_tensors, start_positions=start_positions, end_positions=end_positions)"
      ],
      "execution_count": 33,
      "outputs": [
        {
          "output_type": "stream",
          "text": [
            "Context - e.g. It is important to us to include, empower and support humans of all kinds.\n",
            "Question - e.g. What is important to us?\n",
            "Ansewr - e.g. to include, empower and support humans of all kinds\n",
            "Fact: It is important to us to include, empower and support humans of all kinds.\n",
            "Question: What is important to us?\n",
            "indexed_tokens: [2, 98, 25, 681, 20, 182, 60, 3, 32, 25, 681, 20, 182, 20, 468, 15, 23985, 17, 555, 2840, 16, 65, 8623, 9, 3]\n",
            "segments_ids: [0, 0, 0, 0, 0, 0, 0, 0, 1, 1, 1, 1, 1, 1, 1, 1, 1, 1, 1, 1, 1, 1, 1, 1, 1]\n",
            "captum_input_ids: tensor([[    2,    98,    25,   681,    20,   182,    60,     3,    32,    25,\n",
            "           681,    20,   182,    20,   468,    15, 23985,    17,   555,  2840,\n",
            "            16,    65,  8623,     9,     3]], device='cuda:0')\n",
            "captum_ref_input_ids: tensor([[2, 0, 0, 0, 0, 0, 0, 3, 0, 0, 0, 0, 0, 0, 0, 0, 0, 0, 0, 0, 0, 0, 0, 0,\n",
            "         3]], device='cuda:0')\n",
            "captum_sep_id: 6\n",
            "captum_token_type_ids: tensor([[0, 0, 0, 0, 0, 0, 0, 1, 1, 1, 1, 1, 1, 1, 1, 1, 1, 1, 1, 1, 1, 1, 1, 1,\n",
            "         1]], device='cuda:0')\n",
            "captum_ref_token_type_ids: tensor([[0, 0, 0, 0, 0, 0, 0, 0, 0, 0, 0, 0, 0, 0, 0, 0, 0, 0, 0, 0, 0, 0, 0, 0,\n",
            "         0]], device='cuda:0')\n",
            "captum_position_ids: tensor([[ 0,  1,  2,  3,  4,  5,  6,  7,  8,  9, 10, 11, 12, 13, 14, 15, 16, 17,\n",
            "         18, 19, 20, 21, 22, 23, 24]], device='cuda:0')\n",
            "captum_ref_position_ids: tensor([[0, 0, 0, 0, 0, 0, 0, 0, 0, 0, 0, 0, 0, 0, 0, 0, 0, 0, 0, 0, 0, 0, 0, 0,\n",
            "         0]], device='cuda:0')\n",
            "captum_attention_mask: tensor([[1, 1, 1, 1, 1, 1, 1, 1, 1, 1, 1, 1, 1, 1, 1, 1, 1, 1, 1, 1, 1, 1, 1, 1,\n",
            "         1]], device='cuda:0')\n",
            "captum_indices: [2, 98, 25, 681, 20, 182, 60, 3, 32, 25, 681, 20, 182, 20, 468, 15, 23985, 17, 555, 2840, 16, 65, 8623, 9, 3]\n",
            "captum_all_tokens: ['[CLS]', '▁what', '▁is', '▁important', '▁to', '▁us', '?', '[SEP]', '▁it', '▁is', '▁important', '▁to', '▁us', '▁to', '▁include', ',', '▁empower', '▁and', '▁support', '▁humans', '▁of', '▁all', '▁kinds', '.', '[SEP]']\n",
            "Length is 25, Indexed token: [2, 98, 25, 681, 20, 182, 60, 3, 32, 25, 681, 20, 182, 20, 468, 15, 23985, 17, 555, 2840, 16, 65, 8623, 9, 3]\n",
            "The answer is: to include, empower and support humans of all kinds\n"
          ],
          "name": "stdout"
        }
      ]
    },
    {
      "cell_type": "markdown",
      "metadata": {
        "id": "nzVS4swUlTFy",
        "colab_type": "text"
      },
      "source": [
        "### Now, Captum Interpretation\n",
        "There are two different ways of computing the attributions for BertEmbeddings layer. One option is to use **LayerIntegratedGradients** and compute the attributions with respect to that layer. The second option is to **pre-compute** the embeddings and wrap the actual embeddings with **InterpretableEmbeddingBase**. The pre-computation of embeddings for the second option is necessary because integrated gradients scales the inputs and that won't be meaningful on the level of word / token indices.<br>\n",
        "Since using **LayerIntegratedGradients** is **simpler**, let's use it here."
      ]
    },
    {
      "cell_type": "code",
      "metadata": {
        "id": "fOSgOAVNIdoU",
        "colab_type": "code",
        "colab": {}
      },
      "source": [
        "if QA_EXTRACTION and CAPTUM:\n",
        "  def predict(inputs, token_type_ids=None, position_ids=None, attention_mask=None):\n",
        "      return model(inputs, token_type_ids=token_type_ids,\n",
        "                  position_ids=position_ids, attention_mask=attention_mask, )\n",
        "      \n",
        "  def squad_pos_forward_func(inputs, token_type_ids=None, position_ids=None, attention_mask=None, position=0):\n",
        "      pred = predict(inputs,\n",
        "                    token_type_ids=token_type_ids,\n",
        "                    position_ids=position_ids,\n",
        "                    attention_mask=attention_mask)\n",
        "      pred = pred[position]\n",
        "      return pred.max(1).values"
      ],
      "execution_count": 34,
      "outputs": []
    },
    {
      "cell_type": "code",
      "metadata": {
        "id": "M-CKbrplJtD8",
        "colab_type": "code",
        "colab": {
          "base_uri": "https://localhost:8080/",
          "height": 748
        },
        "outputId": "de77f04b-6e50-4565-ba45-ccb7871454cc"
      },
      "source": [
        "if QA_EXTRACTION and CAPTUM:\n",
        "  print(f'model: {model}')\n",
        "\n",
        "  if 'albert' in QA_MODEL_NAME:\n",
        "    print(f'model.albert.embeddings: {model.albert.embeddings}')\n",
        "    model_embedding = model.albert.embeddings\n",
        "  else:\n",
        "    print(f'model.bert.embeddings: {model.bert.embeddings}')\n",
        "    model_embedding = model.bert.embeddings\n"
      ],
      "execution_count": 35,
      "outputs": [
        {
          "output_type": "stream",
          "text": [
            "model: AlbertForQuestionAnswering(\n",
            "  (albert): AlbertModel(\n",
            "    (embeddings): AlbertEmbeddings(\n",
            "      (word_embeddings): Embedding(30000, 128, padding_idx=0)\n",
            "      (position_embeddings): Embedding(512, 128)\n",
            "      (token_type_embeddings): Embedding(2, 128)\n",
            "      (LayerNorm): LayerNorm((128,), eps=1e-12, elementwise_affine=True)\n",
            "      (dropout): Dropout(p=0.1, inplace=False)\n",
            "    )\n",
            "    (encoder): AlbertTransformer(\n",
            "      (embedding_hidden_mapping_in): Linear(in_features=128, out_features=2048, bias=True)\n",
            "      (albert_layer_groups): ModuleList(\n",
            "        (0): AlbertLayerGroup(\n",
            "          (albert_layers): ModuleList(\n",
            "            (0): AlbertLayer(\n",
            "              (full_layer_layer_norm): LayerNorm((2048,), eps=1e-12, elementwise_affine=True)\n",
            "              (attention): AlbertAttention(\n",
            "                (query): Linear(in_features=2048, out_features=2048, bias=True)\n",
            "                (key): Linear(in_features=2048, out_features=2048, bias=True)\n",
            "                (value): Linear(in_features=2048, out_features=2048, bias=True)\n",
            "                (dropout): Dropout(p=0.1, inplace=False)\n",
            "                (dense): Linear(in_features=2048, out_features=2048, bias=True)\n",
            "                (LayerNorm): LayerNorm((2048,), eps=1e-12, elementwise_affine=True)\n",
            "              )\n",
            "              (ffn): Linear(in_features=2048, out_features=8192, bias=True)\n",
            "              (ffn_output): Linear(in_features=8192, out_features=2048, bias=True)\n",
            "            )\n",
            "          )\n",
            "        )\n",
            "      )\n",
            "    )\n",
            "    (pooler): Linear(in_features=2048, out_features=2048, bias=True)\n",
            "    (pooler_activation): Tanh()\n",
            "  )\n",
            "  (qa_outputs): Linear(in_features=2048, out_features=2, bias=True)\n",
            ")\n",
            "model.albert.embeddings: AlbertEmbeddings(\n",
            "  (word_embeddings): Embedding(30000, 128, padding_idx=0)\n",
            "  (position_embeddings): Embedding(512, 128)\n",
            "  (token_type_embeddings): Embedding(2, 128)\n",
            "  (LayerNorm): LayerNorm((128,), eps=1e-12, elementwise_affine=True)\n",
            "  (dropout): Dropout(p=0.1, inplace=False)\n",
            ")\n"
          ],
          "name": "stdout"
        }
      ]
    },
    {
      "cell_type": "markdown",
      "metadata": {
        "id": "HHXCV4DEElx3",
        "colab_type": "text"
      },
      "source": [
        "### Captum Inference"
      ]
    },
    {
      "cell_type": "code",
      "metadata": {
        "id": "5Hj0bPfxEoAb",
        "colab_type": "code",
        "colab": {
          "base_uri": "https://localhost:8080/",
          "height": 34
        },
        "outputId": "f64efbd2-e7b6-40af-a242-b33614e2353a"
      },
      "source": [
        "captum_start_scores, captum_end_scores = predict(captum_input_ids, \\\n",
        "                                   token_type_ids=captum_token_type_ids, \\\n",
        "                                   position_ids=captum_position_ids, \\\n",
        "                                   attention_mask=captum_attention_mask)\n",
        "print('Predicted Answer: ', ' '.join(captum_all_tokens[torch.argmax(captum_start_scores) : torch.argmax(captum_end_scores)+1]))"
      ],
      "execution_count": 36,
      "outputs": [
        {
          "output_type": "stream",
          "text": [
            "Predicted Answer:  ▁to ▁include , ▁empower ▁and ▁support ▁humans ▁of ▁all ▁kinds\n"
          ],
          "name": "stdout"
        }
      ]
    },
    {
      "cell_type": "markdown",
      "metadata": {
        "id": "tNhroFSmSejo",
        "colab_type": "text"
      },
      "source": [
        "### Ground Truth - Why?\n"
      ]
    },
    {
      "cell_type": "code",
      "metadata": {
        "id": "Dxo2MsCnSh-w",
        "colab_type": "code",
        "colab": {}
      },
      "source": [
        "captum_ground_truth = 'to include, empower and support humans of all kinds'\n",
        "\n",
        "# captum_ground_truth_tokens = tokenizer.encode(captum_ground_truth, add_special_tokens=False)\n",
        "# captum_ground_truth_end_ind = captum_indices.index(captum_ground_truth_tokens[-1])\n",
        "# captum_ground_truth_start_ind = captum_ground_truth_end_ind - len(captum_ground_truth_tokens) + 1\n",
        "captum_ground_truth_tokens = None\n",
        "captum_ground_truth_end_ind = torch.argmax(captum_start_scores)\n",
        "captum_ground_truth_start_ind = torch.argmax(captum_end_scores)+1"
      ],
      "execution_count": 37,
      "outputs": []
    },
    {
      "cell_type": "markdown",
      "metadata": {
        "id": "AKTcxPWXSpb_",
        "colab_type": "text"
      },
      "source": [
        "### Calculate IG"
      ]
    },
    {
      "cell_type": "code",
      "metadata": {
        "id": "2e7LChAFiymF",
        "colab_type": "code",
        "colab": {}
      },
      "source": [
        "if QA_EXTRACTION and CAPTUM:\n",
        "  lig = LayerIntegratedGradients(squad_pos_forward_func, model_embedding)\n",
        "\n",
        "  attributions_start, delta_start = lig.attribute(inputs=captum_input_ids,\n",
        "                                    baselines=captum_ref_input_ids,\n",
        "                                    additional_forward_args=(captum_token_type_ids, captum_position_ids, captum_attention_mask, 0),\n",
        "                                    return_convergence_delta=True)\n",
        "  attributions_end, delta_end = lig.attribute(inputs=captum_input_ids, \n",
        "                                  baselines=captum_ref_input_ids,\n",
        "                                  additional_forward_args=(captum_token_type_ids, captum_position_ids, captum_attention_mask, 1),\n",
        "                                  return_convergence_delta=True)"
      ],
      "execution_count": 38,
      "outputs": []
    },
    {
      "cell_type": "code",
      "metadata": {
        "id": "fKiPuAfclmSu",
        "colab_type": "code",
        "colab": {}
      },
      "source": [
        "if QA_EXTRACTION and CAPTUM:\n",
        "  def summarize_attributions(attributions):\n",
        "      attributions = attributions.sum(dim=-1).squeeze(0)\n",
        "      attributions = attributions / torch.norm(attributions)\n",
        "      return attributions"
      ],
      "execution_count": 39,
      "outputs": []
    },
    {
      "cell_type": "code",
      "metadata": {
        "id": "bBep5LAWlpMe",
        "colab_type": "code",
        "colab": {}
      },
      "source": [
        "if QA_EXTRACTION and CAPTUM:\n",
        "  attributions_start_sum = summarize_attributions(attributions_start)\n",
        "  attributions_end_sum = summarize_attributions(attributions_end)"
      ],
      "execution_count": 40,
      "outputs": []
    },
    {
      "cell_type": "code",
      "metadata": {
        "id": "iUQnMKVYlvTg",
        "colab_type": "code",
        "colab": {
          "base_uri": "https://localhost:8080/",
          "height": 239
        },
        "outputId": "91a33b8c-3305-4337-cb6d-41b5bd65c7a2"
      },
      "source": [
        "if QA_EXTRACTION and CAPTUM:\n",
        "  # storing couple samples in an array for visualization purposes\n",
        "  start_position_vis = viz.VisualizationDataRecord(\n",
        "                          attributions_start_sum,\n",
        "                          torch.max(torch.softmax(captum_start_scores[0], dim=0)),\n",
        "                          torch.argmax(captum_start_scores),\n",
        "                          torch.argmax(captum_start_scores),\n",
        "                          str(captum_ground_truth_start_ind),\n",
        "                          attributions_start_sum.sum(),       \n",
        "                          captum_all_tokens,\n",
        "                          delta_start)\n",
        "\n",
        "  end_position_vis = viz.VisualizationDataRecord(\n",
        "                          attributions_end_sum,\n",
        "                          torch.max(torch.softmax(captum_end_scores[0], dim=0)),\n",
        "                          torch.argmax(captum_end_scores),\n",
        "                          torch.argmax(captum_end_scores),\n",
        "                          str(captum_ground_truth_end_ind),\n",
        "                          attributions_end_sum.sum(),       \n",
        "                          captum_all_tokens,\n",
        "                          delta_end)\n",
        "\n",
        "  print('\\033[1m', 'Visualizations For Start Position', '\\033[0m')\n",
        "  viz.visualize_text([start_position_vis])\n",
        "\n",
        "  print('\\033[1m', 'Visualizations For End Position', '\\033[0m')\n",
        "  viz.visualize_text([end_position_vis])"
      ],
      "execution_count": 41,
      "outputs": [
        {
          "output_type": "stream",
          "text": [
            "\u001b[1m Visualizations For Start Position \u001b[0m\n"
          ],
          "name": "stdout"
        },
        {
          "output_type": "display_data",
          "data": {
            "text/html": [
              "<table width: 100%><tr><th>True Label</th><th>Predicted Label</th><th>Attribution Label</th><th>Attribution Score</th><th>Word Importance</th><tr><td><text style=\"padding-right:2em\"><b>13</b></text></td><td><text style=\"padding-right:2em\"><b>13 (0.64)</b></text></td><td><text style=\"padding-right:2em\"><b>tensor(23, device='cuda:0')</b></text></td><td><text style=\"padding-right:2em\"><b>1.86</b></text></td><td><mark style=\"background-color: hsl(0, 75%, 100%); opacity:1.0;                     line-height:1.75\"><font color=\"black\"> [CLS]                    </font></mark><mark style=\"background-color: hsl(120, 75%, 59%); opacity:1.0;                     line-height:1.75\"><font color=\"black\"> ▁what                    </font></mark><mark style=\"background-color: hsl(120, 75%, 91%); opacity:1.0;                     line-height:1.75\"><font color=\"black\"> ▁is                    </font></mark><mark style=\"background-color: hsl(0, 75%, 91%); opacity:1.0;                     line-height:1.75\"><font color=\"black\"> ▁important                    </font></mark><mark style=\"background-color: hsl(120, 75%, 97%); opacity:1.0;                     line-height:1.75\"><font color=\"black\"> ▁to                    </font></mark><mark style=\"background-color: hsl(120, 75%, 99%); opacity:1.0;                     line-height:1.75\"><font color=\"black\"> ▁us                    </font></mark><mark style=\"background-color: hsl(120, 75%, 88%); opacity:1.0;                     line-height:1.75\"><font color=\"black\"> ?                    </font></mark><mark style=\"background-color: hsl(0, 75%, 100%); opacity:1.0;                     line-height:1.75\"><font color=\"black\"> [SEP]                    </font></mark><mark style=\"background-color: hsl(120, 75%, 92%); opacity:1.0;                     line-height:1.75\"><font color=\"black\"> ▁it                    </font></mark><mark style=\"background-color: hsl(120, 75%, 90%); opacity:1.0;                     line-height:1.75\"><font color=\"black\"> ▁is                    </font></mark><mark style=\"background-color: hsl(0, 75%, 98%); opacity:1.0;                     line-height:1.75\"><font color=\"black\"> ▁important                    </font></mark><mark style=\"background-color: hsl(0, 75%, 98%); opacity:1.0;                     line-height:1.75\"><font color=\"black\"> ▁to                    </font></mark><mark style=\"background-color: hsl(0, 75%, 98%); opacity:1.0;                     line-height:1.75\"><font color=\"black\"> ▁us                    </font></mark><mark style=\"background-color: hsl(0, 75%, 100%); opacity:1.0;                     line-height:1.75\"><font color=\"black\"> ▁to                    </font></mark><mark style=\"background-color: hsl(120, 75%, 100%); opacity:1.0;                     line-height:1.75\"><font color=\"black\"> ▁include                    </font></mark><mark style=\"background-color: hsl(120, 75%, 96%); opacity:1.0;                     line-height:1.75\"><font color=\"black\"> ,                    </font></mark><mark style=\"background-color: hsl(0, 75%, 100%); opacity:1.0;                     line-height:1.75\"><font color=\"black\"> ▁empower                    </font></mark><mark style=\"background-color: hsl(120, 75%, 99%); opacity:1.0;                     line-height:1.75\"><font color=\"black\"> ▁and                    </font></mark><mark style=\"background-color: hsl(120, 75%, 96%); opacity:1.0;                     line-height:1.75\"><font color=\"black\"> ▁support                    </font></mark><mark style=\"background-color: hsl(120, 75%, 98%); opacity:1.0;                     line-height:1.75\"><font color=\"black\"> ▁humans                    </font></mark><mark style=\"background-color: hsl(120, 75%, 99%); opacity:1.0;                     line-height:1.75\"><font color=\"black\"> ▁of                    </font></mark><mark style=\"background-color: hsl(120, 75%, 97%); opacity:1.0;                     line-height:1.75\"><font color=\"black\"> ▁all                    </font></mark><mark style=\"background-color: hsl(0, 75%, 100%); opacity:1.0;                     line-height:1.75\"><font color=\"black\"> ▁kinds                    </font></mark><mark style=\"background-color: hsl(120, 75%, 89%); opacity:1.0;                     line-height:1.75\"><font color=\"black\"> .                    </font></mark><mark style=\"background-color: hsl(0, 75%, 100%); opacity:1.0;                     line-height:1.75\"><font color=\"black\"> [SEP]                    </font></mark></td><tr></table>"
            ],
            "text/plain": [
              "<IPython.core.display.HTML object>"
            ]
          },
          "metadata": {
            "tags": []
          }
        },
        {
          "output_type": "stream",
          "text": [
            "\u001b[1m Visualizations For End Position \u001b[0m\n"
          ],
          "name": "stdout"
        },
        {
          "output_type": "display_data",
          "data": {
            "text/html": [
              "<table width: 100%><tr><th>True Label</th><th>Predicted Label</th><th>Attribution Label</th><th>Attribution Score</th><th>Word Importance</th><tr><td><text style=\"padding-right:2em\"><b>22</b></text></td><td><text style=\"padding-right:2em\"><b>22 (0.43)</b></text></td><td><text style=\"padding-right:2em\"><b>tensor(13, device='cuda:0')</b></text></td><td><text style=\"padding-right:2em\"><b>1.74</b></text></td><td><mark style=\"background-color: hsl(0, 75%, 100%); opacity:1.0;                     line-height:1.75\"><font color=\"black\"> [CLS]                    </font></mark><mark style=\"background-color: hsl(120, 75%, 54%); opacity:1.0;                     line-height:1.75\"><font color=\"black\"> ▁what                    </font></mark><mark style=\"background-color: hsl(120, 75%, 91%); opacity:1.0;                     line-height:1.75\"><font color=\"black\"> ▁is                    </font></mark><mark style=\"background-color: hsl(120, 75%, 100%); opacity:1.0;                     line-height:1.75\"><font color=\"black\"> ▁important                    </font></mark><mark style=\"background-color: hsl(120, 75%, 96%); opacity:1.0;                     line-height:1.75\"><font color=\"black\"> ▁to                    </font></mark><mark style=\"background-color: hsl(120, 75%, 99%); opacity:1.0;                     line-height:1.75\"><font color=\"black\"> ▁us                    </font></mark><mark style=\"background-color: hsl(120, 75%, 95%); opacity:1.0;                     line-height:1.75\"><font color=\"black\"> ?                    </font></mark><mark style=\"background-color: hsl(0, 75%, 100%); opacity:1.0;                     line-height:1.75\"><font color=\"black\"> [SEP]                    </font></mark><mark style=\"background-color: hsl(120, 75%, 96%); opacity:1.0;                     line-height:1.75\"><font color=\"black\"> ▁it                    </font></mark><mark style=\"background-color: hsl(120, 75%, 99%); opacity:1.0;                     line-height:1.75\"><font color=\"black\"> ▁is                    </font></mark><mark style=\"background-color: hsl(0, 75%, 100%); opacity:1.0;                     line-height:1.75\"><font color=\"black\"> ▁important                    </font></mark><mark style=\"background-color: hsl(0, 75%, 99%); opacity:1.0;                     line-height:1.75\"><font color=\"black\"> ▁to                    </font></mark><mark style=\"background-color: hsl(0, 75%, 99%); opacity:1.0;                     line-height:1.75\"><font color=\"black\"> ▁us                    </font></mark><mark style=\"background-color: hsl(0, 75%, 98%); opacity:1.0;                     line-height:1.75\"><font color=\"black\"> ▁to                    </font></mark><mark style=\"background-color: hsl(0, 75%, 100%); opacity:1.0;                     line-height:1.75\"><font color=\"black\"> ▁include                    </font></mark><mark style=\"background-color: hsl(120, 75%, 98%); opacity:1.0;                     line-height:1.75\"><font color=\"black\"> ,                    </font></mark><mark style=\"background-color: hsl(0, 75%, 100%); opacity:1.0;                     line-height:1.75\"><font color=\"black\"> ▁empower                    </font></mark><mark style=\"background-color: hsl(120, 75%, 100%); opacity:1.0;                     line-height:1.75\"><font color=\"black\"> ▁and                    </font></mark><mark style=\"background-color: hsl(0, 75%, 100%); opacity:1.0;                     line-height:1.75\"><font color=\"black\"> ▁support                    </font></mark><mark style=\"background-color: hsl(120, 75%, 99%); opacity:1.0;                     line-height:1.75\"><font color=\"black\"> ▁humans                    </font></mark><mark style=\"background-color: hsl(120, 75%, 97%); opacity:1.0;                     line-height:1.75\"><font color=\"black\"> ▁of                    </font></mark><mark style=\"background-color: hsl(120, 75%, 98%); opacity:1.0;                     line-height:1.75\"><font color=\"black\"> ▁all                    </font></mark><mark style=\"background-color: hsl(120, 75%, 98%); opacity:1.0;                     line-height:1.75\"><font color=\"black\"> ▁kinds                    </font></mark><mark style=\"background-color: hsl(120, 75%, 91%); opacity:1.0;                     line-height:1.75\"><font color=\"black\"> .                    </font></mark><mark style=\"background-color: hsl(0, 75%, 100%); opacity:1.0;                     line-height:1.75\"><font color=\"black\"> [SEP]                    </font></mark></td><tr></table>"
            ],
            "text/plain": [
              "<IPython.core.display.HTML object>"
            ]
          },
          "metadata": {
            "tags": []
          }
        }
      ]
    },
    {
      "cell_type": "code",
      "metadata": {
        "id": "7JRoDonTUGxQ",
        "colab_type": "code",
        "colab": {
          "base_uri": "https://localhost:8080/",
          "height": 119
        },
        "outputId": "d72755a8-aa83-4b52-a8e1-bb760e6e44bf"
      },
      "source": [
        "attributions_start_sum, attributions_start_sum.shape, attributions_start_sum.sum()"
      ],
      "execution_count": 42,
      "outputs": [
        {
          "output_type": "execute_result",
          "data": {
            "text/plain": [
              "(tensor([ 0.0000,  0.8217,  0.1805, -0.2376,  0.0631,  0.0312,  0.2450,  0.0000,\n",
              "          0.1735,  0.2183, -0.0701, -0.0700, -0.0571, -0.0017,  0.0013,  0.0824,\n",
              "         -0.0094,  0.0321,  0.0887,  0.0573,  0.0279,  0.0644, -0.0154,  0.2362,\n",
              "          0.0000], device='cuda:0', dtype=torch.float64, grad_fn=<DivBackward0>),\n",
              " torch.Size([25]),\n",
              " tensor(1.8624, device='cuda:0', dtype=torch.float64, grad_fn=<SumBackward0>))"
            ]
          },
          "metadata": {
            "tags": []
          },
          "execution_count": 42
        }
      ]
    },
    {
      "cell_type": "code",
      "metadata": {
        "id": "fwt6ys5AcPNs",
        "colab_type": "code",
        "colab": {
          "base_uri": "https://localhost:8080/",
          "height": 119
        },
        "outputId": "73e15fdc-ada3-423e-9fab-41a2b8708d55"
      },
      "source": [
        "attributions_end_sum, attributions_end_sum.shape, attributions_end_sum.sum()"
      ],
      "execution_count": 43,
      "outputs": [
        {
          "output_type": "execute_result",
          "data": {
            "text/plain": [
              "(tensor([ 0.0000,  0.9381,  0.1805,  0.0077,  0.0975,  0.0372,  0.1029,  0.0000,\n",
              "          0.0842,  0.0278, -0.0024, -0.0381, -0.0258, -0.0709, -0.0229,  0.0470,\n",
              "         -0.0081,  0.0152, -0.0032,  0.0278,  0.0650,  0.0451,  0.0419,  0.1975,\n",
              "          0.0000], device='cuda:0', dtype=torch.float64, grad_fn=<DivBackward0>),\n",
              " torch.Size([25]),\n",
              " tensor(1.7438, device='cuda:0', dtype=torch.float64, grad_fn=<SumBackward0>))"
            ]
          },
          "metadata": {
            "tags": []
          },
          "execution_count": 43
        }
      ]
    },
    {
      "cell_type": "code",
      "metadata": {
        "id": "hTQ5sM41sb2Q",
        "colab_type": "code",
        "colab": {
          "base_uri": "https://localhost:8080/",
          "height": 102
        },
        "outputId": "478f471e-efb1-48fc-c821-5b4bd062c0df"
      },
      "source": [
        "captum_ref_input_ids, captum_input_ids"
      ],
      "execution_count": 49,
      "outputs": [
        {
          "output_type": "execute_result",
          "data": {
            "text/plain": [
              "(tensor([[2, 0, 0, 0, 0, 0, 0, 3, 0, 0, 0, 0, 0, 0, 0, 0, 0, 0, 0, 0, 0, 0, 0, 0,\n",
              "          3]], device='cuda:0'),\n",
              " tensor([[    2,    98,    25,   681,    20,   182,    60,     3,    32,    25,\n",
              "            681,    20,   182,    20,   468,    15, 23985,    17,   555,  2840,\n",
              "             16,    65,  8623,     9,     3]], device='cuda:0'))"
            ]
          },
          "metadata": {
            "tags": []
          },
          "execution_count": 49
        }
      ]
    },
    {
      "cell_type": "code",
      "metadata": {
        "id": "oBhjGe5jtvun",
        "colab_type": "code",
        "colab": {
          "base_uri": "https://localhost:8080/",
          "height": 51
        },
        "outputId": "198453ca-4356-487b-c0d5-7257ed0f52ed"
      },
      "source": [
        "' '.join(tokenizer.convert_ids_to_tokens(captum_ref_input_ids[0])), ' '.join(tokenizer.convert_ids_to_tokens(captum_input_ids[0]))"
      ],
      "execution_count": 51,
      "outputs": [
        {
          "output_type": "execute_result",
          "data": {
            "text/plain": [
              "('[CLS] <pad> <pad> <pad> <pad> <pad> <pad> [SEP] <pad> <pad> <pad> <pad> <pad> <pad> <pad> <pad> <pad> <pad> <pad> <pad> <pad> <pad> <pad> <pad> [SEP]',\n",
              " '[CLS] ▁what ▁is ▁important ▁to ▁us ? [SEP] ▁it ▁is ▁important ▁to ▁us ▁to ▁include , ▁empower ▁and ▁support ▁humans ▁of ▁all ▁kinds . [SEP]')"
            ]
          },
          "metadata": {
            "tags": []
          },
          "execution_count": 51
        }
      ]
    },
    {
      "cell_type": "code",
      "metadata": {
        "id": "C6fTF-gQwzfI",
        "colab_type": "code",
        "colab": {}
      },
      "source": [
        ""
      ],
      "execution_count": null,
      "outputs": []
    }
  ]
}