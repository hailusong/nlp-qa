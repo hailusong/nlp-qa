{
  "nbformat": 4,
  "nbformat_minor": 0,
  "metadata": {
    "colab": {
      "name": "nlp-qa-albert-pretrained-captum.ipynb",
      "provenance": [],
      "collapsed_sections": [],
      "authorship_tag": "ABX9TyPudpogUZjYGfwKnpt6aNKG",
      "include_colab_link": true
    },
    "kernelspec": {
      "name": "python3",
      "display_name": "Python 3"
    },
    "accelerator": "GPU",
    "widgets": {
      "application/vnd.jupyter.widget-state+json": {
        "367fa278fb33466b979d32c5b3d1679a": {
          "model_module": "@jupyter-widgets/controls",
          "model_name": "HBoxModel",
          "state": {
            "_view_name": "HBoxView",
            "_dom_classes": [],
            "_model_name": "HBoxModel",
            "_view_module": "@jupyter-widgets/controls",
            "_model_module_version": "1.5.0",
            "_view_count": null,
            "_view_module_version": "1.5.0",
            "box_style": "",
            "layout": "IPY_MODEL_7f15865ccdf1435bbd01222876225e7d",
            "_model_module": "@jupyter-widgets/controls",
            "children": [
              "IPY_MODEL_ff0b602292654552ba29f1498b38c0fc",
              "IPY_MODEL_9756e6092e67454aa02873458c871138"
            ]
          }
        },
        "7f15865ccdf1435bbd01222876225e7d": {
          "model_module": "@jupyter-widgets/base",
          "model_name": "LayoutModel",
          "state": {
            "_view_name": "LayoutView",
            "grid_template_rows": null,
            "right": null,
            "justify_content": null,
            "_view_module": "@jupyter-widgets/base",
            "overflow": null,
            "_model_module_version": "1.2.0",
            "_view_count": null,
            "flex_flow": null,
            "width": null,
            "min_width": null,
            "border": null,
            "align_items": null,
            "bottom": null,
            "_model_module": "@jupyter-widgets/base",
            "top": null,
            "grid_column": null,
            "overflow_y": null,
            "overflow_x": null,
            "grid_auto_flow": null,
            "grid_area": null,
            "grid_template_columns": null,
            "flex": null,
            "_model_name": "LayoutModel",
            "justify_items": null,
            "grid_row": null,
            "max_height": null,
            "align_content": null,
            "visibility": null,
            "align_self": null,
            "height": null,
            "min_height": null,
            "padding": null,
            "grid_auto_rows": null,
            "grid_gap": null,
            "max_width": null,
            "order": null,
            "_view_module_version": "1.2.0",
            "grid_template_areas": null,
            "object_position": null,
            "object_fit": null,
            "grid_auto_columns": null,
            "margin": null,
            "display": null,
            "left": null
          }
        },
        "ff0b602292654552ba29f1498b38c0fc": {
          "model_module": "@jupyter-widgets/controls",
          "model_name": "FloatProgressModel",
          "state": {
            "_view_name": "ProgressView",
            "style": "IPY_MODEL_267259b3b21c4971a6d0127b48d011f6",
            "_dom_classes": [],
            "description": "Downloading: 100%",
            "_model_name": "FloatProgressModel",
            "bar_style": "success",
            "max": 760289,
            "_view_module": "@jupyter-widgets/controls",
            "_model_module_version": "1.5.0",
            "value": 760289,
            "_view_count": null,
            "_view_module_version": "1.5.0",
            "orientation": "horizontal",
            "min": 0,
            "description_tooltip": null,
            "_model_module": "@jupyter-widgets/controls",
            "layout": "IPY_MODEL_eb3ea25ff9934dbcb2e1d6cd3f72ecb5"
          }
        },
        "9756e6092e67454aa02873458c871138": {
          "model_module": "@jupyter-widgets/controls",
          "model_name": "HTMLModel",
          "state": {
            "_view_name": "HTMLView",
            "style": "IPY_MODEL_9e4f15e6d896439e9db93d9adad56e23",
            "_dom_classes": [],
            "description": "",
            "_model_name": "HTMLModel",
            "placeholder": "​",
            "_view_module": "@jupyter-widgets/controls",
            "_model_module_version": "1.5.0",
            "value": " 760k/760k [00:02&lt;00:00, 375kB/s]",
            "_view_count": null,
            "_view_module_version": "1.5.0",
            "description_tooltip": null,
            "_model_module": "@jupyter-widgets/controls",
            "layout": "IPY_MODEL_1d0d6bc2e5f8434c963ca6963033ca30"
          }
        },
        "267259b3b21c4971a6d0127b48d011f6": {
          "model_module": "@jupyter-widgets/controls",
          "model_name": "ProgressStyleModel",
          "state": {
            "_view_name": "StyleView",
            "_model_name": "ProgressStyleModel",
            "description_width": "initial",
            "_view_module": "@jupyter-widgets/base",
            "_model_module_version": "1.5.0",
            "_view_count": null,
            "_view_module_version": "1.2.0",
            "bar_color": null,
            "_model_module": "@jupyter-widgets/controls"
          }
        },
        "eb3ea25ff9934dbcb2e1d6cd3f72ecb5": {
          "model_module": "@jupyter-widgets/base",
          "model_name": "LayoutModel",
          "state": {
            "_view_name": "LayoutView",
            "grid_template_rows": null,
            "right": null,
            "justify_content": null,
            "_view_module": "@jupyter-widgets/base",
            "overflow": null,
            "_model_module_version": "1.2.0",
            "_view_count": null,
            "flex_flow": null,
            "width": null,
            "min_width": null,
            "border": null,
            "align_items": null,
            "bottom": null,
            "_model_module": "@jupyter-widgets/base",
            "top": null,
            "grid_column": null,
            "overflow_y": null,
            "overflow_x": null,
            "grid_auto_flow": null,
            "grid_area": null,
            "grid_template_columns": null,
            "flex": null,
            "_model_name": "LayoutModel",
            "justify_items": null,
            "grid_row": null,
            "max_height": null,
            "align_content": null,
            "visibility": null,
            "align_self": null,
            "height": null,
            "min_height": null,
            "padding": null,
            "grid_auto_rows": null,
            "grid_gap": null,
            "max_width": null,
            "order": null,
            "_view_module_version": "1.2.0",
            "grid_template_areas": null,
            "object_position": null,
            "object_fit": null,
            "grid_auto_columns": null,
            "margin": null,
            "display": null,
            "left": null
          }
        },
        "9e4f15e6d896439e9db93d9adad56e23": {
          "model_module": "@jupyter-widgets/controls",
          "model_name": "DescriptionStyleModel",
          "state": {
            "_view_name": "StyleView",
            "_model_name": "DescriptionStyleModel",
            "description_width": "",
            "_view_module": "@jupyter-widgets/base",
            "_model_module_version": "1.5.0",
            "_view_count": null,
            "_view_module_version": "1.2.0",
            "_model_module": "@jupyter-widgets/controls"
          }
        },
        "1d0d6bc2e5f8434c963ca6963033ca30": {
          "model_module": "@jupyter-widgets/base",
          "model_name": "LayoutModel",
          "state": {
            "_view_name": "LayoutView",
            "grid_template_rows": null,
            "right": null,
            "justify_content": null,
            "_view_module": "@jupyter-widgets/base",
            "overflow": null,
            "_model_module_version": "1.2.0",
            "_view_count": null,
            "flex_flow": null,
            "width": null,
            "min_width": null,
            "border": null,
            "align_items": null,
            "bottom": null,
            "_model_module": "@jupyter-widgets/base",
            "top": null,
            "grid_column": null,
            "overflow_y": null,
            "overflow_x": null,
            "grid_auto_flow": null,
            "grid_area": null,
            "grid_template_columns": null,
            "flex": null,
            "_model_name": "LayoutModel",
            "justify_items": null,
            "grid_row": null,
            "max_height": null,
            "align_content": null,
            "visibility": null,
            "align_self": null,
            "height": null,
            "min_height": null,
            "padding": null,
            "grid_auto_rows": null,
            "grid_gap": null,
            "max_width": null,
            "order": null,
            "_view_module_version": "1.2.0",
            "grid_template_areas": null,
            "object_position": null,
            "object_fit": null,
            "grid_auto_columns": null,
            "margin": null,
            "display": null,
            "left": null
          }
        }
      }
    }
  },
  "cells": [
    {
      "cell_type": "markdown",
      "metadata": {
        "id": "view-in-github",
        "colab_type": "text"
      },
      "source": [
        "<a href=\"https://colab.research.google.com/github/hailusong/nlp-qa/blob/master/nlp_qa_albert_pretrained_captum.ipynb\" target=\"_parent\"><img src=\"https://colab.research.google.com/assets/colab-badge.svg\" alt=\"Open In Colab\"/></a>"
      ]
    },
    {
      "cell_type": "markdown",
      "metadata": {
        "id": "V-mZgVZMlbDh",
        "colab_type": "text"
      },
      "source": [
        "References:\n",
        "1. [Captum on HuggingFace SQuAD](https://captum.ai/tutorials/Bert_SQUAD_Interpret)\n",
        "\n"
      ]
    },
    {
      "cell_type": "markdown",
      "metadata": {
        "id": "nK4Aexd2YLi9",
        "colab_type": "text"
      },
      "source": [
        "## Environment Setup\n",
        "To get the source code of transformer release, do this (assuming the release version is 2.11.0)\n",
        "```\n",
        "git fetch -a --tags\n",
        "git checkout tags/v2.11.0\n",
        "```"
      ]
    },
    {
      "cell_type": "markdown",
      "metadata": {
        "id": "HYM3yVozc9uj",
        "colab_type": "text"
      },
      "source": [
        "Make sure we have access to file command in Linux"
      ]
    },
    {
      "cell_type": "code",
      "metadata": {
        "id": "799C3kzOcqb4",
        "colab_type": "code",
        "colab": {
          "base_uri": "https://localhost:8080/",
          "height": 136
        },
        "outputId": "a9faf861-c561-4e36-dc38-36deaae6e679"
      },
      "source": [
        "!uname -a\n",
        "!pip install wget\n",
        "!apt-get install file"
      ],
      "execution_count": null,
      "outputs": [
        {
          "output_type": "stream",
          "text": [
            "Linux 9af9b4b57846 4.19.104+ #1 SMP Wed Feb 19 05:26:34 PST 2020 x86_64 x86_64 x86_64 GNU/Linux\n",
            "Requirement already satisfied: wget in /usr/local/lib/python3.6/dist-packages (3.2)\n",
            "Reading package lists... Done\n",
            "Building dependency tree       \n",
            "Reading state information... Done\n",
            "file is already the newest version (1:5.32-2ubuntu0.4).\n",
            "0 upgraded, 0 newly installed, 0 to remove and 32 not upgraded.\n"
          ],
          "name": "stdout"
        }
      ]
    },
    {
      "cell_type": "code",
      "metadata": {
        "id": "DpUI_vQISUii",
        "colab_type": "code",
        "colab": {}
      },
      "source": [
        "try:\n",
        "    import transformers\n",
        "except ImportError as e:\n",
        "    # install huggingface\n",
        "    !pip install transformers"
      ],
      "execution_count": null,
      "outputs": []
    },
    {
      "cell_type": "code",
      "metadata": {
        "id": "Guw8jy8IRy3Q",
        "colab_type": "code",
        "colab": {
          "base_uri": "https://localhost:8080/",
          "height": 51
        },
        "outputId": "dc966ff7-2114-4004-eb8a-ae17b520c831"
      },
      "source": [
        "import torch\n",
        "import transformers\n",
        "\n",
        "print(torch.__version__)\n",
        "print(transformers.__version__)"
      ],
      "execution_count": null,
      "outputs": [
        {
          "output_type": "stream",
          "text": [
            "1.5.0+cu101\n",
            "2.11.0\n"
          ],
          "name": "stdout"
        }
      ]
    },
    {
      "cell_type": "code",
      "metadata": {
        "id": "3AMf33lSSGpQ",
        "colab_type": "code",
        "colab": {
          "base_uri": "https://localhost:8080/",
          "height": 170
        },
        "outputId": "c50c6c52-c822-4ecc-fc22-c733db07108f"
      },
      "source": [
        "!ls -al\n",
        "!rm -rf nlp-qa\n",
        "!git clone --depth 1 https://github.com/hailusong/nlp-qa.git"
      ],
      "execution_count": null,
      "outputs": [
        {
          "output_type": "stream",
          "text": [
            "total 272\n",
            "drwxr-xr-x 1 root root   4096 Jun  7 14:55 .\n",
            "drwxr-xr-x 1 root root   4096 Jun  7 14:26 ..\n",
            "drwxr-xr-x 4 root root   4096 Dec 14  2018 cola_public\n",
            "-rw-r--r-- 1 root root 255330 Jun  7 14:35 cola_public_1.1.zip\n",
            "drwxr-xr-x 1 root root   4096 Jun  2 16:14 .config\n",
            "drwxr-xr-x 1 root root   4096 May 29 18:19 sample_data\n",
            "Cloning into 'nlp-qa'...\n",
            "fatal: could not read Username for 'https://github.com': No such device or address\n"
          ],
          "name": "stdout"
        }
      ]
    },
    {
      "cell_type": "code",
      "metadata": {
        "id": "DzR-3Gj3fgVZ",
        "colab_type": "code",
        "colab": {
          "base_uri": "https://localhost:8080/",
          "height": 34
        },
        "outputId": "09399b7e-c82e-4f3d-f7af-7a9fcc1e9e99"
      },
      "source": [
        "!pip install -r nlp-qa/question-answering/requirements.txt"
      ],
      "execution_count": null,
      "outputs": [
        {
          "output_type": "stream",
          "text": [
            "\u001b[31mERROR: Could not open requirements file: [Errno 2] No such file or directory: 'nlp-qa/question-answering/requirements.txt'\u001b[0m\n"
          ],
          "name": "stdout"
        }
      ]
    },
    {
      "cell_type": "markdown",
      "metadata": {
        "id": "KoWqnJwhO7Ls",
        "colab_type": "text"
      },
      "source": [
        "### GPU Setup"
      ]
    },
    {
      "cell_type": "code",
      "metadata": {
        "id": "PwRRhY4zO8fy",
        "colab_type": "code",
        "colab": {
          "base_uri": "https://localhost:8080/",
          "height": 51
        },
        "outputId": "3ce3cdc8-0297-4b83-ab49-210d05ee253f"
      },
      "source": [
        "import torch\n",
        "\n",
        "# If there's a GPU available...\n",
        "if torch.cuda.is_available():    \n",
        "\n",
        "    # Tell PyTorch to use the GPU.    \n",
        "    device = torch.device(\"cuda\")\n",
        "\n",
        "    print('There are %d GPU(s) available.' % torch.cuda.device_count())\n",
        "\n",
        "    print('We will use the GPU:', torch.cuda.get_device_name(0))\n",
        "\n",
        "# If not...\n",
        "else:\n",
        "    print('No GPU available, using the CPU instead.')\n",
        "    device = torch.device(\"cpu\")"
      ],
      "execution_count": null,
      "outputs": [
        {
          "output_type": "stream",
          "text": [
            "There are 1 GPU(s) available.\n",
            "We will use the GPU: Tesla K80\n"
          ],
          "name": "stdout"
        }
      ]
    },
    {
      "cell_type": "markdown",
      "metadata": {
        "id": "6tcrZk3mrW8F",
        "colab_type": "text"
      },
      "source": [
        "## Configuratiuon"
      ]
    },
    {
      "cell_type": "code",
      "metadata": {
        "id": "7QPgyarrrY_L",
        "colab_type": "code",
        "colab": {}
      },
      "source": [
        "MULTILABEL_INTENT=False\n",
        "QA_EXTRACTION=True"
      ],
      "execution_count": 2,
      "outputs": []
    },
    {
      "cell_type": "markdown",
      "metadata": {
        "id": "HQ1AUfsqlwa0",
        "colab_type": "text"
      },
      "source": [
        "## Download"
      ]
    },
    {
      "cell_type": "markdown",
      "metadata": {
        "id": "1WSQ93jDoh14",
        "colab_type": "text"
      },
      "source": [
        "### Pre-trained ALBERT v2 language model \n",
        "Ref:\n",
        "- https://huggingface.co/transformers/pretrained_models.html\n",
        "- [BERT Fine-Tuning Tutorial with PyTorch](https://mccormickml.com/2019/07/22/BERT-fine-tuning/#4-train-our-classification-model)"
      ]
    },
    {
      "cell_type": "code",
      "metadata": {
        "id": "exGaF-bRoRCh",
        "colab_type": "code",
        "colab": {
          "base_uri": "https://localhost:8080/",
          "height": 627,
          "referenced_widgets": [
            "367fa278fb33466b979d32c5b3d1679a",
            "7f15865ccdf1435bbd01222876225e7d",
            "ff0b602292654552ba29f1498b38c0fc",
            "9756e6092e67454aa02873458c871138",
            "267259b3b21c4971a6d0127b48d011f6",
            "eb3ea25ff9934dbcb2e1d6cd3f72ecb5",
            "9e4f15e6d896439e9db93d9adad56e23",
            "1d0d6bc2e5f8434c963ca6963033ca30"
          ]
        },
        "outputId": "3c84b95e-5ef3-4169-fb30-b4d191c6d1e2"
      },
      "source": [
        "if MULTILABEL_INTENT:\n",
        "  from transformers import AutoTokenizer, AutoModelForQuestionAnswering\n",
        "  from transformers import AlbertConfig, AlbertForSequenceClassification\n",
        "  import torch\n",
        "\n",
        "  config = torch.hub.load('huggingface/pytorch-transformers', 'config', 'albert-large-v2')\n",
        "  config.num_labels = 2\n",
        "  assert(type(config) == AlbertConfig)\n",
        "  print(config)\n",
        "\n",
        "  # Download model and configuration from S3 and cache.\n",
        "  # label: lawyer letter, deed, other\n",
        "  model = torch.hub.load('huggingface/pytorch-transformers', \n",
        "                         'modelForSequenceClassification', \n",
        "                         'albert-large-v2',\n",
        "                         config=config\n",
        "                         )\n",
        "  assert(type(model) == AlbertForSequenceClassification)\n",
        "\n",
        "  # Copy the model to the GPU.\n",
        "  model.to(device)\n",
        "\n",
        "  # Albert tokenizer - download vocabulary from S3 and cache.\n",
        "  tokenizer = torch.hub.load('huggingface/pytorch-transformers', 'tokenizer', 'albert-large-v2')\n",
        "  # e.g. tokenizer was saved using `save_pretrained('./test/saved_model/')`\n",
        "  # tokenizer = torch.hub.load('huggingface/pytorch-transformers', 'tokenizer', './test/bert_saved_model/')\n",
        "\n",
        "  # model = torch.hub.load('huggingface/pytorch-transformers', 'model', './test/bert_model/')  # E.g. model was saved using `save_pretrained('./test/saved_model/')`\n",
        "  # model = torch.hub.load('huggingface/pytorch-transformers', 'model', 'albert-large-v2', output_attentions=True)  # Update configuration during loading\n",
        "  # assert model.config.output_attentions == True\n"
      ],
      "execution_count": null,
      "outputs": [
        {
          "output_type": "stream",
          "text": [
            "Using cache found in /root/.cache/torch/hub/huggingface_pytorch-transformers_master\n"
          ],
          "name": "stderr"
        },
        {
          "output_type": "stream",
          "text": [
            "AlbertConfig {\n",
            "  \"architectures\": [\n",
            "    \"AlbertForMaskedLM\"\n",
            "  ],\n",
            "  \"attention_probs_dropout_prob\": 0,\n",
            "  \"bos_token_id\": 2,\n",
            "  \"classifier_dropout_prob\": 0.1,\n",
            "  \"down_scale_factor\": 1,\n",
            "  \"embedding_size\": 128,\n",
            "  \"eos_token_id\": 3,\n",
            "  \"gap_size\": 0,\n",
            "  \"hidden_act\": \"gelu_new\",\n",
            "  \"hidden_dropout_prob\": 0,\n",
            "  \"hidden_size\": 1024,\n",
            "  \"initializer_range\": 0.02,\n",
            "  \"inner_group_num\": 1,\n",
            "  \"intermediate_size\": 4096,\n",
            "  \"layer_norm_eps\": 1e-12,\n",
            "  \"max_position_embeddings\": 512,\n",
            "  \"model_type\": \"albert\",\n",
            "  \"net_structure_type\": 0,\n",
            "  \"num_attention_heads\": 16,\n",
            "  \"num_hidden_groups\": 1,\n",
            "  \"num_hidden_layers\": 24,\n",
            "  \"num_memory_blocks\": 0,\n",
            "  \"pad_token_id\": 0,\n",
            "  \"type_vocab_size\": 2,\n",
            "  \"vocab_size\": 30000\n",
            "}\n",
            "\n"
          ],
          "name": "stdout"
        },
        {
          "output_type": "stream",
          "text": [
            "Using cache found in /root/.cache/torch/hub/huggingface_pytorch-transformers_master\n",
            "Using cache found in /root/.cache/torch/hub/huggingface_pytorch-transformers_master\n"
          ],
          "name": "stderr"
        },
        {
          "output_type": "display_data",
          "data": {
            "application/vnd.jupyter.widget-view+json": {
              "model_id": "367fa278fb33466b979d32c5b3d1679a",
              "version_minor": 0,
              "version_major": 2
            },
            "text/plain": [
              "HBox(children=(FloatProgress(value=0.0, description='Downloading', max=760289.0, style=ProgressStyle(descripti…"
            ]
          },
          "metadata": {
            "tags": []
          }
        },
        {
          "output_type": "stream",
          "text": [
            "\n"
          ],
          "name": "stdout"
        }
      ]
    },
    {
      "cell_type": "code",
      "metadata": {
        "id": "v34KA-DEywd1",
        "colab_type": "code",
        "colab": {
          "base_uri": "https://localhost:8080/",
          "height": 136
        },
        "outputId": "08a404b1-0a70-4252-f486-fb797c21e51d"
      },
      "source": [
        "if MULTILABEL_INTENT:\n",
        "  # Logging\n",
        "  print('\\n==== Output Layer ====\\n')\n",
        "  \n",
        "  params = list(model.named_parameters())\n",
        "  for p in params[-4:]:\n",
        "      print(\"{:<55} {:>12}\".format(p[0], str(tuple(p[1].size()))))"
      ],
      "execution_count": null,
      "outputs": [
        {
          "output_type": "stream",
          "text": [
            "\n",
            "==== Output Layer ====\n",
            "\n",
            "albert.pooler.weight                                    (1024, 1024)\n",
            "albert.pooler.bias                                           (1024,)\n",
            "classifier.weight                                          (2, 1024)\n",
            "classifier.bias                                                 (2,)\n"
          ],
          "name": "stdout"
        }
      ]
    },
    {
      "cell_type": "markdown",
      "metadata": {
        "id": "MeQw1NmYogxY",
        "colab_type": "text"
      },
      "source": [
        "### Pre-trained ALBERT v2 model on SQuAD2\n",
        "https://huggingface.co/elgeish/cs224n-squad2.0-albert-xxlarge-v1, including:\n",
        "- config.json, 721.0B\n",
        "- pytorch_model.bin, 849.2MB\n",
        "- special_tokens_map.json, 156.0B\n",
        "- spiece.model, 742.5KB\n",
        "- tokenizer_config.json, 39.0B"
      ]
    },
    {
      "cell_type": "code",
      "metadata": {
        "id": "kSP15TkFUndN",
        "colab_type": "code",
        "colab": {
          "base_uri": "https://localhost:8080/",
          "height": 275
        },
        "outputId": "46039b5b-28d5-4fd5-d607-6240cd45c85b"
      },
      "source": [
        "if QA_EXTRACTION:\n",
        "  !pip install captum\n",
        "  from captum.attr import visualization as viz\n",
        "  from captum.attr import IntegratedGradients, LayerConductance, LayerIntegratedGradients\n",
        "  from captum.attr import configure_interpretable_embedding_layer, remove_interpretable_embedding_layer"
      ],
      "execution_count": 3,
      "outputs": [
        {
          "output_type": "stream",
          "text": [
            "Collecting captum\n",
            "\u001b[?25l  Downloading https://files.pythonhosted.org/packages/42/de/c018e206d463d9975444c28b0a4f103c9ca4b2faedf943df727e402a1a1e/captum-0.2.0-py3-none-any.whl (1.4MB)\n",
            "\u001b[K     |████████████████████████████████| 1.4MB 4.6MB/s \n",
            "\u001b[?25hRequirement already satisfied: matplotlib in /usr/local/lib/python3.6/dist-packages (from captum) (3.2.2)\n",
            "Requirement already satisfied: torch>=1.2 in /usr/local/lib/python3.6/dist-packages (from captum) (1.5.1+cu101)\n",
            "Requirement already satisfied: numpy in /usr/local/lib/python3.6/dist-packages (from captum) (1.18.5)\n",
            "Requirement already satisfied: python-dateutil>=2.1 in /usr/local/lib/python3.6/dist-packages (from matplotlib->captum) (2.8.1)\n",
            "Requirement already satisfied: cycler>=0.10 in /usr/local/lib/python3.6/dist-packages (from matplotlib->captum) (0.10.0)\n",
            "Requirement already satisfied: pyparsing!=2.0.4,!=2.1.2,!=2.1.6,>=2.0.1 in /usr/local/lib/python3.6/dist-packages (from matplotlib->captum) (2.4.7)\n",
            "Requirement already satisfied: kiwisolver>=1.0.1 in /usr/local/lib/python3.6/dist-packages (from matplotlib->captum) (1.2.0)\n",
            "Requirement already satisfied: future in /usr/local/lib/python3.6/dist-packages (from torch>=1.2->captum) (0.16.0)\n",
            "Requirement already satisfied: six>=1.5 in /usr/local/lib/python3.6/dist-packages (from python-dateutil>=2.1->matplotlib->captum) (1.12.0)\n",
            "Installing collected packages: captum\n",
            "Successfully installed captum-0.2.0\n"
          ],
          "name": "stdout"
        }
      ]
    },
    {
      "cell_type": "code",
      "metadata": {
        "id": "SYVCaev5YQEt",
        "colab_type": "code",
        "colab": {}
      },
      "source": [
        "if QA_EXTRACTION:\n",
        "  from transformers import ( AutoTokenizer, AutoModelForQuestionAnswering )\n",
        "\n",
        "  tokenizer = AutoTokenizer.from_pretrained(\"elgeish/cs224n-squad2.0-albert-xxlarge-v1\")\n",
        "  model = AutoModelForQuestionAnswering.from_pretrained(\"elgeish/cs224n-squad2.0-albert-xxlarge-v1\")"
      ],
      "execution_count": null,
      "outputs": []
    },
    {
      "cell_type": "code",
      "metadata": {
        "id": "eRmN-BLTg-Cp",
        "colab_type": "code",
        "colab": {}
      },
      "source": [
        "if QA_EXTRACTION:\n",
        "  # inspect tokenizer max length\n",
        "  print(f'Tokenizer max input length {tokenizer.model_max_length}')"
      ],
      "execution_count": null,
      "outputs": []
    },
    {
      "cell_type": "markdown",
      "metadata": {
        "id": "E_0kkjUZ2eY4",
        "colab_type": "text"
      },
      "source": [
        "## Load Training Data"
      ]
    },
    {
      "cell_type": "markdown",
      "metadata": {
        "id": "yMsq8Jq92hqY",
        "colab_type": "text"
      },
      "source": [
        "### Load ALBERT multi-label training data\n",
        "Some example datasets:\n",
        "-  The [Corpus of Linguistic Acceptability (CoLA)](https://nyu-mll.github.io/CoLA/) dataset for single sentence classification, which is about sentences labeled as grammatically correct or incorrect - part of GLUE benchmark\n",
        "  * raw/in_domain_train.tsv (8551 lines), split further to 9:1 as train/validation\n",
        "  * raw/in_domain_dev.tsv (527 lines)"
      ]
    },
    {
      "cell_type": "code",
      "metadata": {
        "id": "69BwAoop3B39",
        "colab_type": "code",
        "colab": {
          "base_uri": "https://localhost:8080/",
          "height": 34
        },
        "outputId": "55f47daa-f017-4ed3-8e03-a2d70fb050ba"
      },
      "source": [
        "if MULTILABEL_INTENT:\n",
        "  import wget\n",
        "  import os\n",
        "\n",
        "  print('Downloading dataset...')\n",
        "\n",
        "  # The URL for the dataset zip file.\n",
        "  url = 'https://nyu-mll.github.io/CoLA/cola_public_1.1.zip'\n",
        "\n",
        "  # Download the file (if we haven't already)\n",
        "  if not os.path.exists('./cola_public_1.1.zip'):\n",
        "      wget.download(url, './cola_public_1.1.zip')"
      ],
      "execution_count": null,
      "outputs": [
        {
          "output_type": "stream",
          "text": [
            "Downloading dataset...\n"
          ],
          "name": "stdout"
        }
      ]
    },
    {
      "cell_type": "code",
      "metadata": {
        "id": "k-6TYXW63EoT",
        "colab_type": "code",
        "colab": {}
      },
      "source": [
        "if MULTILABEL_INTENT:\n",
        "  # Unzip the dataset (if we haven't already)\n",
        "  if not os.path.exists('./cola_public/'):\n",
        "      !unzip cola_public_1.1.zip"
      ],
      "execution_count": null,
      "outputs": []
    },
    {
      "cell_type": "code",
      "metadata": {
        "id": "fQ05DmNwNisG",
        "colab_type": "code",
        "colab": {
          "base_uri": "https://localhost:8080/",
          "height": 51
        },
        "outputId": "eec200bb-ed65-488f-98d4-a11a933e4c79"
      },
      "source": [
        "if MULTILABEL_INTENT:\n",
        "  import pandas as pd\n",
        "\n",
        "  # Load the dataset into a pandas dataframe.\n",
        "  df = pd.read_csv(\"./cola_public/raw/in_domain_train.tsv\", delimiter='\\t', header=None, names=['sentence_source', 'label', 'label_notes', 'sentence'])\n",
        "\n",
        "  # Report the number of sentences.\n",
        "  print('Number of training sentences: {:,}\\n'.format(df.shape[0]))\n",
        "\n",
        "  # Display 10 random rows from the data.\n",
        "  df.sample(10)"
      ],
      "execution_count": null,
      "outputs": [
        {
          "output_type": "stream",
          "text": [
            "Number of training sentences: 8,551\n",
            "\n"
          ],
          "name": "stdout"
        }
      ]
    },
    {
      "cell_type": "code",
      "metadata": {
        "id": "PQGgzX_z3H6W",
        "colab_type": "code",
        "colab": {}
      },
      "source": [
        "if MULTILABEL_INTENT:\n",
        "  # Get the lists of sentences and their labels.\n",
        "  sentences = df.sentence.values\n",
        "  labels = df.label.values"
      ],
      "execution_count": null,
      "outputs": []
    },
    {
      "cell_type": "code",
      "metadata": {
        "id": "gln6YeRtN4JR",
        "colab_type": "code",
        "colab": {}
      },
      "source": [
        "# if MULTILABEL_INTENT:\n",
        "#   from transformers import BertTokenizer\n",
        "\n",
        "#   # Load the BERT tokenizer.\n",
        "#   print('Loading BERT tokenizer...')\n",
        "#   tokenizer = BertTokenizer.from_pretrained('bert-base-uncased', do_lower_case=True)"
      ],
      "execution_count": null,
      "outputs": []
    },
    {
      "cell_type": "code",
      "metadata": {
        "id": "Itn0AJ3Y2uDU",
        "colab_type": "code",
        "colab": {
          "base_uri": "https://localhost:8080/",
          "height": 34
        },
        "outputId": "caa2baca-5978-4179-fb1f-74c228d62122"
      },
      "source": [
        "if MULTILABEL_INTENT:\n",
        "  max_len = 0\n",
        "\n",
        "  # For every sentence...\n",
        "  for sent in sentences:\n",
        "\n",
        "      # Tokenize the text and add `[CLS]` and `[SEP]` tokens.\n",
        "      input_ids = tokenizer.encode(sent, add_special_tokens=True)\n",
        "\n",
        "      # Update the maximum sentence length.\n",
        "      max_len = max(max_len, len(input_ids))\n",
        "\n",
        "  print('Max sentence length: ', max_len)"
      ],
      "execution_count": null,
      "outputs": [
        {
          "output_type": "stream",
          "text": [
            "Max sentence length:  46\n"
          ],
          "name": "stdout"
        }
      ]
    },
    {
      "cell_type": "code",
      "metadata": {
        "id": "8MFSxXoZ2ury",
        "colab_type": "code",
        "colab": {
          "base_uri": "https://localhost:8080/",
          "height": 204
        },
        "outputId": "b5ec817a-b243-4881-cda4-04355ad85ec8"
      },
      "source": [
        "if MULTILABEL_INTENT:\n",
        "  # Tokenize all of the sentences and map the tokens to thier word IDs.\n",
        "  input_ids = []\n",
        "  attention_masks = []\n",
        "\n",
        "  # For every sentence...\n",
        "  for sent in sentences:\n",
        "      # `encode_plus` will:\n",
        "      #   (1) Tokenize the sentence.\n",
        "      #   (2) Prepend the `[CLS]` token to the start.\n",
        "      #   (3) Append the `[SEP]` token to the end.\n",
        "      #   (4) Map tokens to their IDs.\n",
        "      #   (5) Pad or truncate the sentence to `max_length`\n",
        "      #   (6) Create attention masks for [PAD] tokens.\n",
        "      encoded_dict = tokenizer.encode_plus(\n",
        "                          sent,                      # Sentence to encode.\n",
        "                          add_special_tokens = True, # Add '[CLS]' and '[SEP]'\n",
        "                          max_length = 64,           # Pad & truncate all sentences.\n",
        "                          pad_to_max_length = True,\n",
        "                          return_attention_mask = True,   # Construct attn. masks.\n",
        "                          return_tensors = 'pt',     # Return pytorch tensors.\n",
        "                    )\n",
        "      \n",
        "      # Add the encoded sentence to the list.    \n",
        "      input_ids.append(encoded_dict['input_ids'])\n",
        "      \n",
        "      # And its attention mask (simply differentiates padding from non-padding).\n",
        "      attention_masks.append(encoded_dict['attention_mask'])\n",
        "\n",
        "  # Convert the lists into tensors.\n",
        "  input_ids = torch.cat(input_ids, dim=0)\n",
        "  attention_masks = torch.cat(attention_masks, dim=0)\n",
        "  labels = torch.tensor(labels)\n",
        "\n",
        "  # Print sentence 0, now as a list of IDs.\n",
        "  print('Original: ', sentences[0])\n",
        "  print('Token IDs:', input_ids[0])\n",
        "  print('Labels:', labels[0])\n",
        "  print('Attention Masks:', attention_masks[0])\n"
      ],
      "execution_count": null,
      "outputs": [
        {
          "output_type": "stream",
          "text": [
            "Original:  Our friends won't buy this analysis, let alone the next one we propose.\n",
            "Token IDs: tensor([    2,   318,   954,   230,    22,    38,  3034,    48,  2495,    15,\n",
            "          408,  1056,    14,   328,    53,    95, 17873,     9,     3,     0,\n",
            "            0,     0,     0,     0,     0,     0,     0,     0,     0,     0,\n",
            "            0,     0,     0,     0,     0,     0,     0,     0,     0,     0,\n",
            "            0,     0,     0,     0,     0,     0,     0,     0,     0,     0,\n",
            "            0,     0,     0,     0,     0,     0,     0,     0,     0,     0,\n",
            "            0,     0,     0,     0])\n",
            "Attention Masks: tensor([1, 1, 1, 1, 1, 1, 1, 1, 1, 1, 1, 1, 1, 1, 1, 1, 1, 1, 1, 0, 0, 0, 0, 0,\n",
            "        0, 0, 0, 0, 0, 0, 0, 0, 0, 0, 0, 0, 0, 0, 0, 0, 0, 0, 0, 0, 0, 0, 0, 0,\n",
            "        0, 0, 0, 0, 0, 0, 0, 0, 0, 0, 0, 0, 0, 0, 0, 0])\n"
          ],
          "name": "stdout"
        }
      ]
    },
    {
      "cell_type": "markdown",
      "metadata": {
        "id": "_DMC_aFXyFLT",
        "colab_type": "text"
      },
      "source": [
        "#### Label structure expected by [AlbertForSequenceClassification](https://huggingface.co/transformers/model_doc/albert.html#albertforsequenceclassification)\n",
        "labels (torch.**LongTensor** of **shape (batch_size,)**, optional, defaults to None)\n",
        "- Labels for computing the sequence classification/regression loss. Indices should be in [0, ..., config.num_labels - 1]. \n",
        "- If config.num_labels == 1 a regression loss is computed (Mean-Square loss), If config.num_labels > 1 a classification loss is computed (Cross-Entropy)."
      ]
    },
    {
      "cell_type": "code",
      "metadata": {
        "id": "QoxpJ0PinV5E",
        "colab_type": "code",
        "colab": {}
      },
      "source": [
        " # label data is grammar correctness: one per sentence\n",
        " assert(max(labels).dtype == torch.int64)\n",
        " assert(min(labels) == 0 and max(labels) == 1)"
      ],
      "execution_count": null,
      "outputs": []
    },
    {
      "cell_type": "code",
      "metadata": {
        "id": "iZBLmWOx2ntJ",
        "colab_type": "code",
        "colab": {
          "base_uri": "https://localhost:8080/",
          "height": 51
        },
        "outputId": "46eed61a-777c-42e9-ae76-9d229e754a6c"
      },
      "source": [
        "if MULTILABEL_INTENT:\n",
        "  from torch.utils.data import TensorDataset, random_split\n",
        "\n",
        "  # Combine the training inputs into a TensorDataset.\n",
        "  dataset = TensorDataset(input_ids, attention_masks, labels)\n",
        "\n",
        "  # Create a 90-10 train-validation split.\n",
        "\n",
        "  # Calculate the number of samples to include in each set.\n",
        "  train_size = int(0.9 * len(dataset))\n",
        "  val_size = len(dataset) - train_size\n",
        "\n",
        "  # Divide the dataset by randomly selecting samples.\n",
        "  train_dataset, val_dataset = random_split(dataset, [train_size, val_size])\n",
        "\n",
        "  print('{:>5,} training samples'.format(train_size))\n",
        "  print('{:>5,} validation samples'.format(val_size))"
      ],
      "execution_count": null,
      "outputs": [
        {
          "output_type": "stream",
          "text": [
            "7,695 training samples\n",
            "  856 validation samples\n"
          ],
          "name": "stdout"
        }
      ]
    },
    {
      "cell_type": "code",
      "metadata": {
        "id": "3gtTbEP32gL2",
        "colab_type": "code",
        "colab": {}
      },
      "source": [
        "if MULTILABEL_INTENT:\n",
        "  from torch.utils.data import DataLoader, RandomSampler, SequentialSampler\n",
        "\n",
        "  # The DataLoader needs to know our batch size for training, so we specify it \n",
        "  # here. For fine-tuning BERT on a specific task, the authors recommend a batch \n",
        "  # size of 16 or 32.\n",
        "  batch_size = 32\n",
        "\n",
        "  # Create the DataLoaders for our training and validation sets.\n",
        "  # We'll take training samples in random order. \n",
        "  train_dataloader = DataLoader(\n",
        "              train_dataset,  # The training samples.\n",
        "              sampler = RandomSampler(train_dataset), # Select batches randomly\n",
        "              batch_size = batch_size # Trains with this batch size.\n",
        "          )\n",
        "\n",
        "  # For validation the order doesn't matter, so we'll just read them sequentially.\n",
        "  validation_dataloader = DataLoader(\n",
        "              val_dataset, # The validation samples.\n",
        "              sampler = SequentialSampler(val_dataset), # Pull out batches sequentially.\n",
        "              batch_size = batch_size # Evaluate with this batch size.\n",
        "          )"
      ],
      "execution_count": null,
      "outputs": []
    },
    {
      "cell_type": "markdown",
      "metadata": {
        "id": "SzzoWKjf1okN",
        "colab_type": "text"
      },
      "source": [
        "## Fine-tuning"
      ]
    },
    {
      "cell_type": "markdown",
      "metadata": {
        "id": "LQDMF6PZ1rZr",
        "colab_type": "text"
      },
      "source": [
        "### Fine-tune the ALBERT multi-label classification"
      ]
    },
    {
      "cell_type": "code",
      "metadata": {
        "id": "aUiyi6PM1v6s",
        "colab_type": "code",
        "colab": {}
      },
      "source": [
        "if MULTILABEL_INTENT:\n",
        "  from transformers import AdamW\n",
        "\n",
        "  # Optimizer and LR setup\n",
        "  # Note: AdamW is a class from the huggingface library (as opposed to pytorch) \n",
        "  # I believe the 'W' stands for 'Weight Decay fix\"\n",
        "  optimizer = AdamW(\n",
        "      model.parameters(),\n",
        "      lr = 2e-5, # args.learning_rate - default is 5e-5, our notebook had 2e-5\n",
        "      eps = 1e-8 # args.adam_epsilon  - default is 1e-8.\n",
        "    )"
      ],
      "execution_count": null,
      "outputs": []
    },
    {
      "cell_type": "code",
      "metadata": {
        "id": "-61o1eSE11SH",
        "colab_type": "code",
        "colab": {}
      },
      "source": [
        "if MULTILABEL_INTENT:\n",
        "  from transformers import get_linear_schedule_with_warmup\n",
        "\n",
        "  # Number of training epochs. The BERT authors recommend between 2 and 4. \n",
        "  # We chose to run for 4, but we'll see later that this may be over-fitting the\n",
        "  # training data.\n",
        "  epochs = 4\n",
        "\n",
        "  # Total number of training steps is [number of batches] x [number of epochs]. \n",
        "  # (Note that this is not the same as the number of training samples).\n",
        "  total_steps = len(train_dataloader) * epochs\n",
        "\n",
        "  # Create the learning rate scheduler.\n",
        "  scheduler = get_linear_schedule_with_warmup(\n",
        "      optimizer, \n",
        "      num_warmup_steps = 0, # Default value in run_glue.py\n",
        "      num_training_steps = total_steps)"
      ],
      "execution_count": null,
      "outputs": []
    },
    {
      "cell_type": "markdown",
      "metadata": {
        "id": "QdbhrVSTORFu",
        "colab_type": "text"
      },
      "source": [
        "### Traing Loop"
      ]
    },
    {
      "cell_type": "code",
      "metadata": {
        "id": "fZxYOmG_OTvh",
        "colab_type": "code",
        "colab": {}
      },
      "source": [
        "if MULTILABEL_INTENT:\n",
        "  import numpy as np\n",
        "\n",
        "  # Function to calculate the accuracy of our predictions vs labels\n",
        "  def flat_accuracy(preds, labels):\n",
        "      pred_flat = np.argmax(preds, axis=1).flatten()\n",
        "      labels_flat = labels.flatten()\n",
        "      return np.sum(pred_flat == labels_flat) / len(labels_flat)"
      ],
      "execution_count": null,
      "outputs": []
    },
    {
      "cell_type": "code",
      "metadata": {
        "id": "UExhKxy2OXPt",
        "colab_type": "code",
        "colab": {}
      },
      "source": [
        "if MULTILABEL_INTENT:\n",
        "  import time\n",
        "  import datetime\n",
        "\n",
        "  def format_time(elapsed):\n",
        "      '''\n",
        "      Takes a time in seconds and returns a string hh:mm:ss\n",
        "      '''\n",
        "      # Round to the nearest second.\n",
        "      elapsed_rounded = int(round((elapsed)))\n",
        "      \n",
        "      # Format as hh:mm:ss\n",
        "      return str(datetime.timedelta(seconds=elapsed_rounded))"
      ],
      "execution_count": null,
      "outputs": []
    },
    {
      "cell_type": "code",
      "metadata": {
        "id": "d1MpfideOcBV",
        "colab_type": "code",
        "colab": {
          "base_uri": "https://localhost:8080/",
          "height": 1000
        },
        "outputId": "024de669-e34a-4488-cfef-35a45301c8db"
      },
      "source": [
        "if MULTILABEL_INTENT:\n",
        "  import random\n",
        "  import numpy as np\n",
        "\n",
        "  # This training code is based on the `run_glue.py` script here:\n",
        "  # https://github.com/huggingface/transformers/blob/5bfcd0485ece086ebcbed2d008813037968a9e58/examples/run_glue.py#L128\n",
        "\n",
        "  # Set the seed value all over the place to make this reproducible.\n",
        "  seed_val = 42\n",
        "\n",
        "  random.seed(seed_val)\n",
        "  np.random.seed(seed_val)\n",
        "  torch.manual_seed(seed_val)\n",
        "  torch.cuda.manual_seed_all(seed_val)\n",
        "\n",
        "  # We'll store a number of quantities such as training and validation loss, \n",
        "  # validation accuracy, and timings.\n",
        "  training_stats = []\n",
        "\n",
        "  # Measure the total training time for the whole run.\n",
        "  total_t0 = time.time()\n",
        "\n",
        "  # For each epoch...\n",
        "  for epoch_i in range(0, epochs):\n",
        "      \n",
        "      # ========================================\n",
        "      #               Training\n",
        "      # ========================================\n",
        "      \n",
        "      # Perform one full pass over the training set.\n",
        "\n",
        "      print(\"\")\n",
        "      print('======== Epoch {:} / {:} ========'.format(epoch_i + 1, epochs))\n",
        "      print('Training...')\n",
        "\n",
        "      # Measure how long the training epoch takes.\n",
        "      t0 = time.time()\n",
        "\n",
        "      # Reset the total loss for this epoch.\n",
        "      total_train_loss = 0\n",
        "\n",
        "      # Put the model into training mode. Don't be mislead--the call to \n",
        "      # `train` just changes the *mode*, it doesn't *perform* the training.\n",
        "      # `dropout` and `batchnorm` layers behave differently during training\n",
        "      # vs. test (source: https://stackoverflow.com/questions/51433378/what-does-model-train-do-in-pytorch)\n",
        "      model.train()\n",
        "\n",
        "      # For each batch of training data...\n",
        "      for step, batch in enumerate(train_dataloader):\n",
        "          # batch[0].shape, batch[1].shape, batch[2].shape \n",
        "          # torch.Size([24, 64]) torch.Size([24, 64]) torch.Size([24])\n",
        "          assert(len(batch) == 3, 'each batch contains 3 tensors: ids, masks and labels')\n",
        "\n",
        "          # Progress update every 40 batches.\n",
        "          if step % 40 == 0 and not step == 0:\n",
        "              # Calculate elapsed time in minutes.\n",
        "              elapsed = format_time(time.time() - t0)\n",
        "              \n",
        "              # Report progress.\n",
        "              print('  Batch {:>5,}  of  {:>5,}.    Elapsed: {:}.'.format(step, len(train_dataloader), elapsed))\n",
        "\n",
        "          # Unpack this training batch from our dataloader. \n",
        "          #\n",
        "          # As we unpack the batch, we'll also copy each tensor to the GPU using the \n",
        "          # `to` method.\n",
        "          #\n",
        "          # `batch` contains three pytorch tensors:\n",
        "          #   [0]: input ids \n",
        "          #   [1]: attention masks\n",
        "          #   [2]: labels \n",
        "          b_input_ids = batch[0].to(device)\n",
        "          b_input_mask = batch[1].to(device)\n",
        "          b_labels = batch[2].to(device)\n",
        "\n",
        "          # Always clear any previously calculated gradients before performing a\n",
        "          # backward pass. PyTorch doesn't do this automatically because \n",
        "          # accumulating the gradients is \"convenient while training RNNs\". \n",
        "          # (source: https://stackoverflow.com/questions/48001598/why-do-we-need-to-call-zero-grad-in-pytorch)\n",
        "          model.zero_grad()        \n",
        "\n",
        "          # Perform a forward pass (evaluate the model on this training batch).\n",
        "          # The documentation for this `model` function is here: \n",
        "          # https://huggingface.co/transformers/v2.2.0/model_doc/bert.html#transformers.BertForSequenceClassification\n",
        "          # It returns different numbers of parameters depending on what arguments\n",
        "          # arge given and what flags are set. For our useage here, it returns\n",
        "          # the loss (because we provided labels) and the \"logits\"--the model\n",
        "          # outputs prior to activation.\n",
        "          loss, logits = model(b_input_ids, \n",
        "                              token_type_ids=None, \n",
        "                              attention_mask=b_input_mask, \n",
        "                              labels=b_labels)\n",
        "\n",
        "          # Accumulate the training loss over all of the batches so that we can\n",
        "          # calculate the average loss at the end. `loss` is a Tensor containing a\n",
        "          # single value; the `.item()` function just returns the Python value \n",
        "          # from the tensor.\n",
        "          total_train_loss += loss.item()\n",
        "\n",
        "          # Perform a backward pass to calculate the gradients.\n",
        "          loss.backward()\n",
        "\n",
        "          # Clip the norm of the gradients to 1.0.\n",
        "          # This is to help prevent the \"exploding gradients\" problem.\n",
        "          torch.nn.utils.clip_grad_norm_(model.parameters(), 1.0)\n",
        "\n",
        "          # Update parameters and take a step using the computed gradient.\n",
        "          # The optimizer dictates the \"update rule\"--how the parameters are\n",
        "          # modified based on their gradients, the learning rate, etc.\n",
        "          optimizer.step()\n",
        "\n",
        "          # Update the learning rate.\n",
        "          scheduler.step()\n",
        "\n",
        "      # Calculate the average loss over all of the batches.\n",
        "      avg_train_loss = total_train_loss / len(train_dataloader)            \n",
        "      \n",
        "      # Measure how long this epoch took.\n",
        "      training_time = format_time(time.time() - t0)\n",
        "\n",
        "      print(\"\")\n",
        "      print(\"  Average training loss: {0:.2f}\".format(avg_train_loss))\n",
        "      print(\"  Training epcoh took: {:}\".format(training_time))\n",
        "          \n",
        "      # ========================================\n",
        "      #               Validation\n",
        "      # ========================================\n",
        "      # After the completion of each training epoch, measure our performance on\n",
        "      # our validation set.\n",
        "\n",
        "      print(\"\")\n",
        "      print(\"Running Validation...\")\n",
        "\n",
        "      t0 = time.time()\n",
        "\n",
        "      # Put the model in evaluation mode--the dropout layers behave differently\n",
        "      # during evaluation.\n",
        "      model.eval()\n",
        "\n",
        "      # Tracking variables \n",
        "      total_eval_accuracy = 0\n",
        "      total_eval_loss = 0\n",
        "      nb_eval_steps = 0\n",
        "\n",
        "      # Evaluate data for one epoch\n",
        "      for batch in validation_dataloader:\n",
        "          \n",
        "          # Unpack this training batch from our dataloader. \n",
        "          #\n",
        "          # As we unpack the batch, we'll also copy each tensor to the GPU using \n",
        "          # the `to` method.\n",
        "          #\n",
        "          # `batch` contains three pytorch tensors:\n",
        "          #   [0]: input ids \n",
        "          #   [1]: attention masks\n",
        "          #   [2]: labels \n",
        "          b_input_ids = batch[0].to(device)\n",
        "          b_input_mask = batch[1].to(device)\n",
        "          b_labels = batch[2].to(device)\n",
        "          \n",
        "          # Tell pytorch not to bother with constructing the compute graph during\n",
        "          # the forward pass, since this is only needed for backprop (training).\n",
        "          with torch.no_grad():        \n",
        "\n",
        "              # Forward pass, calculate logit predictions.\n",
        "              # token_type_ids is the same as the \"segment ids\", which \n",
        "              # differentiates sentence 1 and 2 in 2-sentence tasks.\n",
        "              # The documentation for this `model` function is here: \n",
        "              # https://huggingface.co/transformers/v2.2.0/model_doc/bert.html#transformers.BertForSequenceClassification\n",
        "              # Get the \"logits\" output by the model. The \"logits\" are the output\n",
        "              # values prior to applying an activation function like the softmax.\n",
        "              (loss, logits) = model(b_input_ids, \n",
        "                                    token_type_ids=None, \n",
        "                                    attention_mask=b_input_mask,\n",
        "                                    labels=b_labels)\n",
        "              \n",
        "          # Accumulate the validation loss.\n",
        "          total_eval_loss += loss.item()\n",
        "\n",
        "          # Move logits and labels to CPU\n",
        "          logits = logits.detach().cpu().numpy()\n",
        "          label_ids = b_labels.to('cpu').numpy()\n",
        "\n",
        "          # Calculate the accuracy for this batch of test sentences, and\n",
        "          # accumulate it over all batches.\n",
        "          total_eval_accuracy += flat_accuracy(logits, label_ids)\n",
        "          \n",
        "\n",
        "      # Report the final accuracy for this validation run.\n",
        "      avg_val_accuracy = total_eval_accuracy / len(validation_dataloader)\n",
        "      print(\"  Accuracy: {0:.2f}\".format(avg_val_accuracy))\n",
        "\n",
        "      # Calculate the average loss over all of the batches.\n",
        "      avg_val_loss = total_eval_loss / len(validation_dataloader)\n",
        "      \n",
        "      # Measure how long the validation run took.\n",
        "      validation_time = format_time(time.time() - t0)\n",
        "      \n",
        "      print(\"  Validation Loss: {0:.2f}\".format(avg_val_loss))\n",
        "      print(\"  Validation took: {:}\".format(validation_time))\n",
        "\n",
        "      # Record all statistics from this epoch.\n",
        "      training_stats.append(\n",
        "          {\n",
        "              'epoch': epoch_i + 1,\n",
        "              'Training Loss': avg_train_loss,\n",
        "              'Valid. Loss': avg_val_loss,\n",
        "              'Valid. Accur.': avg_val_accuracy,\n",
        "              'Training Time': training_time,\n",
        "              'Validation Time': validation_time\n",
        "          }\n",
        "      )\n",
        "\n",
        "  print(\"\")\n",
        "  print(\"Training complete!\")\n",
        "\n",
        "  print(\"Total training took {:} (h:mm:ss)\".format(format_time(time.time()-total_t0)))"
      ],
      "execution_count": null,
      "outputs": [
        {
          "output_type": "stream",
          "text": [
            "\n",
            "======== Epoch 1 / 4 ========\n",
            "Training...\n",
            "  Batch    40  of    241.    Elapsed: 0:01:25.\n",
            "  Batch    80  of    241.    Elapsed: 0:02:51.\n",
            "  Batch   120  of    241.    Elapsed: 0:04:16.\n",
            "  Batch   160  of    241.    Elapsed: 0:05:41.\n",
            "  Batch   200  of    241.    Elapsed: 0:07:06.\n",
            "  Batch   240  of    241.    Elapsed: 0:08:31.\n",
            "\n",
            "  Average training loss: 0.51\n",
            "  Training epcoh took: 0:08:32\n",
            "\n",
            "Running Validation...\n",
            "  Accuracy: 0.81\n",
            "  Validation Loss: 0.42\n",
            "  Validation took: 0:00:22\n",
            "\n",
            "======== Epoch 2 / 4 ========\n",
            "Training...\n",
            "  Batch    40  of    241.    Elapsed: 0:01:25.\n",
            "  Batch    80  of    241.    Elapsed: 0:02:50.\n",
            "  Batch   120  of    241.    Elapsed: 0:04:15.\n",
            "  Batch   160  of    241.    Elapsed: 0:05:40.\n",
            "  Batch   200  of    241.    Elapsed: 0:07:05.\n",
            "  Batch   240  of    241.    Elapsed: 0:08:30.\n",
            "\n",
            "  Average training loss: 0.35\n",
            "  Training epcoh took: 0:08:31\n",
            "\n",
            "Running Validation...\n",
            "  Accuracy: 0.85\n",
            "  Validation Loss: 0.42\n",
            "  Validation took: 0:00:22\n",
            "\n",
            "======== Epoch 3 / 4 ========\n",
            "Training...\n",
            "  Batch    40  of    241.    Elapsed: 0:01:25.\n",
            "  Batch    80  of    241.    Elapsed: 0:02:50.\n",
            "  Batch   120  of    241.    Elapsed: 0:04:15.\n",
            "  Batch   160  of    241.    Elapsed: 0:05:40.\n",
            "  Batch   200  of    241.    Elapsed: 0:07:05.\n",
            "  Batch   240  of    241.    Elapsed: 0:08:30.\n",
            "\n",
            "  Average training loss: 0.24\n",
            "  Training epcoh took: 0:08:31\n",
            "\n",
            "Running Validation...\n",
            "  Accuracy: 0.86\n",
            "  Validation Loss: 0.40\n",
            "  Validation took: 0:00:22\n",
            "\n",
            "======== Epoch 4 / 4 ========\n",
            "Training...\n",
            "  Batch    40  of    241.    Elapsed: 0:01:25.\n",
            "  Batch    80  of    241.    Elapsed: 0:02:50.\n",
            "  Batch   120  of    241.    Elapsed: 0:04:15.\n",
            "  Batch   160  of    241.    Elapsed: 0:05:40.\n",
            "  Batch   200  of    241.    Elapsed: 0:07:06.\n",
            "  Batch   240  of    241.    Elapsed: 0:08:31.\n",
            "\n",
            "  Average training loss: 0.15\n",
            "  Training epcoh took: 0:08:32\n",
            "\n",
            "Running Validation...\n",
            "  Accuracy: 0.85\n",
            "  Validation Loss: 0.43\n",
            "  Validation took: 0:00:22\n",
            "\n",
            "Training complete!\n",
            "Total training took 0:35:34 (h:mm:ss)\n"
          ],
          "name": "stdout"
        }
      ]
    },
    {
      "cell_type": "code",
      "metadata": {
        "id": "r73DkF6LOfMj",
        "colab_type": "code",
        "colab": {
          "base_uri": "https://localhost:8080/",
          "height": 119
        },
        "outputId": "edb19d62-1243-4e10-bd92-be00564bc887"
      },
      "source": [
        "if MULTILABEL_INTENT:\n",
        "  import pandas as pd\n",
        "\n",
        "  # Display floats with two decimal places.\n",
        "  pd.set_option('precision', 2)\n",
        "\n",
        "  # Create a DataFrame from our training statistics.\n",
        "  df_stats = pd.DataFrame(data=training_stats)\n",
        "\n",
        "  # Use the 'epoch' as the row index.\n",
        "  df_stats = df_stats.set_index('epoch')\n",
        "\n",
        "  # A hack to force the column headers to wrap.\n",
        "  #df = df.style.set_table_styles([dict(selector=\"th\",props=[('max-width', '70px')])])\n",
        "\n",
        "  # Display the table.\n",
        "  print(df_stats)"
      ],
      "execution_count": null,
      "outputs": [
        {
          "output_type": "stream",
          "text": [
            "       Training Loss  Valid. Loss  Valid. Accur. Training Time Validation Time\n",
            "epoch                                                                         \n",
            "1               0.51         0.42           0.81       0:08:32         0:00:22\n",
            "2               0.35         0.42           0.85       0:08:31         0:00:22\n",
            "3               0.24         0.40           0.86       0:08:31         0:00:22\n",
            "4               0.15         0.43           0.85       0:08:32         0:00:22\n"
          ],
          "name": "stdout"
        }
      ]
    },
    {
      "cell_type": "markdown",
      "metadata": {
        "id": "_RWhBu2BWfjM",
        "colab_type": "text"
      },
      "source": [
        "## Captum for QA Inference"
      ]
    },
    {
      "cell_type": "code",
      "metadata": {
        "id": "S9dw4CBhWhFq",
        "colab_type": "code",
        "colab": {}
      },
      "source": [
        "if QA_EXTRACTION:\n",
        "  ref_token_id = tokenizer.pad_token_id # A token used for generating token reference\n",
        "  sep_token_id = tokenizer.sep_token_id # A token used as a separator between question and text and it is also added to the end of the text.\n",
        "  cls_token_id = tokenizer.cls_token_id # A token used for prepending to the concatenated question-text word sequence"
      ],
      "execution_count": null,
      "outputs": []
    },
    {
      "cell_type": "markdown",
      "metadata": {
        "id": "6FAGKQ4QYn91",
        "colab_type": "text"
      },
      "source": [
        "We define a set of helper function for **constructing references / baselines** for \n",
        "- word tokens\n",
        "- token types and \n",
        "- position ids\n",
        "\n",
        "We also provide separate helper functions for all sub-(word)-embeddings of BertEmbeddings layer, that will construct  \n",
        "- the sub-(word)-embeddings and ...\n",
        "- corresponding baselines / references"
      ]
    },
    {
      "cell_type": "code",
      "metadata": {
        "id": "R44qeroHYgFl",
        "colab_type": "code",
        "colab": {}
      },
      "source": [
        "if QA_EXTRACTION:\n",
        "  def construct_input_ref_pair(question, text, ref_token_id, sep_token_id, cls_token_id):\n",
        "      question_ids = tokenizer.encode(question, add_special_tokens=False)\n",
        "      text_ids = tokenizer.encode(text, add_special_tokens=False)\n",
        "\n",
        "      # construct input token ids\n",
        "      input_ids = [cls_token_id] + question_ids + [sep_token_id] + text_ids + [sep_token_id]\n",
        "\n",
        "      # construct reference token ids \n",
        "      ref_input_ids = [cls_token_id] + [ref_token_id] * len(question_ids) + [sep_token_id] + \\\n",
        "          [ref_token_id] * len(text_ids) + [sep_token_id]\n",
        "\n",
        "      return torch.tensor([input_ids], device=device), torch.tensor([ref_input_ids], device=device), len(question_ids)\n",
        "\n",
        "  def construct_input_ref_token_type_pair(input_ids, sep_ind=0):\n",
        "      seq_len = input_ids.size(1)\n",
        "      token_type_ids = torch.tensor([[0 if i <= sep_ind else 1 for i in range(seq_len)]], device=device)\n",
        "      ref_token_type_ids = torch.zeros_like(token_type_ids, device=device)# * -1\n",
        "      return token_type_ids, ref_token_type_ids\n",
        "\n",
        "  def construct_input_ref_pos_id_pair(input_ids):\n",
        "      seq_length = input_ids.size(1)\n",
        "      position_ids = torch.arange(seq_length, dtype=torch.long, device=device)\n",
        "      # we could potentially also use random permutation with `torch.randperm(seq_length, device=device)`\n",
        "      ref_position_ids = torch.zeros(seq_length, dtype=torch.long, device=device)\n",
        "\n",
        "      position_ids = position_ids.unsqueeze(0).expand_as(input_ids)\n",
        "      ref_position_ids = ref_position_ids.unsqueeze(0).expand_as(input_ids)\n",
        "      return position_ids, ref_position_ids\n",
        "      \n",
        "  def construct_attention_mask(input_ids):\n",
        "      return torch.ones_like(input_ids)\n",
        "\n",
        "  def construct_bert_sub_embedding(input_ids, ref_input_ids,\n",
        "                                    token_type_ids, ref_token_type_ids,\n",
        "                                    position_ids, ref_position_ids):\n",
        "      input_embeddings = interpretable_embedding1.indices_to_embeddings(input_ids)\n",
        "      ref_input_embeddings = interpretable_embedding1.indices_to_embeddings(ref_input_ids)\n",
        "\n",
        "      input_embeddings_token_type = interpretable_embedding2.indices_to_embeddings(token_type_ids)\n",
        "      ref_input_embeddings_token_type = interpretable_embedding2.indices_to_embeddings(ref_token_type_ids)\n",
        "\n",
        "      input_embeddings_position_ids = interpretable_embedding3.indices_to_embeddings(position_ids)\n",
        "      ref_input_embeddings_position_ids = interpretable_embedding3.indices_to_embeddings(ref_position_ids)\n",
        "      \n",
        "      return (input_embeddings, ref_input_embeddings), \\\n",
        "            (input_embeddings_token_type, ref_input_embeddings_token_type), \\\n",
        "            (input_embeddings_position_ids, ref_input_embeddings_position_ids)\n",
        "      \n",
        "  def construct_whole_bert_embeddings(input_ids, ref_input_ids, \\\n",
        "                                      token_type_ids=None, ref_token_type_ids=None, \\\n",
        "                                      position_ids=None, ref_position_ids=None):\n",
        "      input_embeddings = interpretable_embedding.indices_to_embeddings(input_ids, token_type_ids=token_type_ids, position_ids=position_ids)\n",
        "      ref_input_embeddings = interpretable_embedding.indices_to_embeddings(ref_input_ids, token_type_ids=token_type_ids, position_ids=position_ids)\n",
        "      \n",
        "      return input_embeddings, ref_input_embeddings"
      ],
      "execution_count": 4,
      "outputs": []
    },
    {
      "cell_type": "markdown",
      "metadata": {
        "id": "IxUPF8mHEuEq",
        "colab_type": "text"
      },
      "source": [
        "## Inference\n",
        "Source: https://pytorch.org/hub/huggingface_pytorch-transformers/\n"
      ]
    },
    {
      "cell_type": "code",
      "metadata": {
        "id": "6ghMbXVpFKhr",
        "colab_type": "code",
        "colab": {}
      },
      "source": [
        "if QA_EXTRACTION:\n",
        "  # model = torch.hub.load('huggingface/pytorch-transformers', 'modelForQuestionAnswering', 'bert-large-uncased-whole-word-masking-finetuned-squad')\n",
        "  # tokenizer = torch.hub.load('huggingface/pytorch-transformers', 'tokenizer', 'bert-large-uncased-whole-word-masking-finetuned-squad')\n",
        "\n",
        "  # The format is paragraph first and then question\n",
        "  # fact = \"Jim Henson was a puppeteer\"\n",
        "  # q = \"Who was Jim Henson ?\"\n",
        "  fact = input('Fact: ')\n",
        "  q = input('Question: ')\n",
        "\n",
        "  # Converts a list of string to a sequence of ids (integer), using the tokenizer and vocabulary. \n",
        "  # Also request to add model-specific special tokens (such as beginning of sequence, end of sequence, sequence separator).\n",
        "  indexed_tokens_fact = tokenizer.encode(fact, add_special_tokens=True)\n",
        "  indexed_tokens_q = tokenizer.encode(q, add_special_tokens=True)\n",
        "\n",
        "  # merge fact tokens and Q tokens by removing the START token in Q tokens - this is NOT pipeline way\n",
        "  # indexed_tokens = indexed_tokens_fact + indexed_tokens_q[1:]\n",
        "  # segments_ids = [0] * len(indexed_tokens_fact) + [1] * len(indexed_tokens_q[1:])\n",
        "  #\n",
        "  # this is pipeline way\n",
        "  indexed_tokens = indexed_tokens_q + indexed_tokens_fact[1:]\n",
        "  segments_ids = [0] * len(indexed_tokens_q) + [1] * len(indexed_tokens_ctx[1:])\n",
        "\n",
        "  print(f'Length is {len(indexed_tokens)}, Indexed token: {indexed_tokens}')\n",
        "\n",
        "  # Predict the start and end positions logits\n",
        "  segments_tensors = torch.tensor([segments_ids])\n",
        "  tokens_tensor = torch.tensor([indexed_tokens])\n",
        "\n",
        "  with torch.no_grad():\n",
        "      start_logits, end_logits = model(tokens_tensor, token_type_ids=segments_tensors)\n",
        "\n",
        "  # get the highest prediction\n",
        "  answer = tokenizer.decode(indexed_tokens[torch.argmax(start_logits):torch.argmax(end_logits)+1])\n",
        "  print(f'The answer is: {answer}')\n",
        "\n",
        "  # Or get the total loss which is the sum of the CrossEntropy loss for the start and end token positions (set model to train mode before if used for training)\n",
        "  # start_positions, end_positions = torch.tensor([12]), torch.tensor([14])\n",
        "  # multiple_choice_loss = model(tokens_tensor, token_type_ids=segments_tensors, start_positions=start_positions, end_positions=end_positions)"
      ],
      "execution_count": null,
      "outputs": []
    },
    {
      "cell_type": "code",
      "metadata": {
        "id": "by-nlDGNioOw",
        "colab_type": "code",
        "colab": {}
      },
      "source": [
        ""
      ],
      "execution_count": null,
      "outputs": []
    }
  ]
}